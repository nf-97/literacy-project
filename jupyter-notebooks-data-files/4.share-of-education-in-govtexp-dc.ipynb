{
 "cells": [
  {
   "attachments": {},
   "cell_type": "markdown",
   "id": "d06db8f2",
   "metadata": {},
   "source": [
    "# Share of education in government expenditure\n",
    "\n",
    "## Plan of Action\n",
    "\n",
    "- Explore the data \n",
    "- Add in any missing values from other data sources\n",
    "- Clean the data\n",
    "- Get the mean rate of education in government expenditure over a given time period (2000-2021)"
   ]
  },
  {
   "attachments": {},
   "cell_type": "markdown",
   "id": "b559dc6b",
   "metadata": {},
   "source": [
    "## Data source\n",
    "\n",
    "- The raw data source is avaliable in a csv file titled '4.unclean-share-of-education-in-government-expenditure.csv'\n",
    "- This data source (https://ourworldindata.org/grapher/share-of-education-in-government-expenditure) was derived from the World Bank government spending across the world\n",
    "- The original datasets spans a time period from 1980 to 2021\n",
    "- The world bank describes the data as \"General government expenditure on education (current, capital, and transfers) is expressed as a percentage of total general government expenditure on all sectors (including health, education, social services, etc.)\" https://ourworldindata.org/government-spending\n",
    "- They also add \"General government usually refers to local, regional and central governments.\""
   ]
  },
  {
   "attachments": {},
   "cell_type": "markdown",
   "id": "44823b8d",
   "metadata": {},
   "source": [
    "## Data Preprocessing"
   ]
  },
  {
   "attachments": {},
   "cell_type": "markdown",
   "id": "2e8ff178",
   "metadata": {},
   "source": [
    "### Importing and viewing the data"
   ]
  },
  {
   "cell_type": "code",
   "execution_count": 1,
   "id": "b8059706",
   "metadata": {},
   "outputs": [],
   "source": [
    "import pandas as pd"
   ]
  },
  {
   "cell_type": "code",
   "execution_count": 2,
   "id": "343a4580",
   "metadata": {
    "scrolled": true
   },
   "outputs": [
    {
     "data": {
      "text/html": [
       "<div>\n",
       "<style scoped>\n",
       "    .dataframe tbody tr th:only-of-type {\n",
       "        vertical-align: middle;\n",
       "    }\n",
       "\n",
       "    .dataframe tbody tr th {\n",
       "        vertical-align: top;\n",
       "    }\n",
       "\n",
       "    .dataframe thead th {\n",
       "        text-align: right;\n",
       "    }\n",
       "</style>\n",
       "<table border=\"1\" class=\"dataframe\">\n",
       "  <thead>\n",
       "    <tr style=\"text-align: right;\">\n",
       "      <th></th>\n",
       "      <th>Entity</th>\n",
       "      <th>Code</th>\n",
       "      <th>Year</th>\n",
       "      <th>Government expenditure on education, total (% of government expenditure)</th>\n",
       "    </tr>\n",
       "  </thead>\n",
       "  <tbody>\n",
       "    <tr>\n",
       "      <th>0</th>\n",
       "      <td>Afghanistan</td>\n",
       "      <td>AFG</td>\n",
       "      <td>2010</td>\n",
       "      <td>17.067560</td>\n",
       "    </tr>\n",
       "    <tr>\n",
       "      <th>1</th>\n",
       "      <td>Afghanistan</td>\n",
       "      <td>AFG</td>\n",
       "      <td>2011</td>\n",
       "      <td>16.048429</td>\n",
       "    </tr>\n",
       "    <tr>\n",
       "      <th>2</th>\n",
       "      <td>Afghanistan</td>\n",
       "      <td>AFG</td>\n",
       "      <td>2013</td>\n",
       "      <td>14.102800</td>\n",
       "    </tr>\n",
       "    <tr>\n",
       "      <th>3</th>\n",
       "      <td>Afghanistan</td>\n",
       "      <td>AFG</td>\n",
       "      <td>2014</td>\n",
       "      <td>14.465930</td>\n",
       "    </tr>\n",
       "    <tr>\n",
       "      <th>4</th>\n",
       "      <td>Afghanistan</td>\n",
       "      <td>AFG</td>\n",
       "      <td>2015</td>\n",
       "      <td>12.509000</td>\n",
       "    </tr>\n",
       "    <tr>\n",
       "      <th>...</th>\n",
       "      <td>...</td>\n",
       "      <td>...</td>\n",
       "      <td>...</td>\n",
       "      <td>...</td>\n",
       "    </tr>\n",
       "    <tr>\n",
       "      <th>3529</th>\n",
       "      <td>Zimbabwe</td>\n",
       "      <td>ZWE</td>\n",
       "      <td>2014</td>\n",
       "      <td>30.015150</td>\n",
       "    </tr>\n",
       "    <tr>\n",
       "      <th>3530</th>\n",
       "      <td>Zimbabwe</td>\n",
       "      <td>ZWE</td>\n",
       "      <td>2015</td>\n",
       "      <td>29.470831</td>\n",
       "    </tr>\n",
       "    <tr>\n",
       "      <th>3531</th>\n",
       "      <td>Zimbabwe</td>\n",
       "      <td>ZWE</td>\n",
       "      <td>2016</td>\n",
       "      <td>23.527081</td>\n",
       "    </tr>\n",
       "    <tr>\n",
       "      <th>3532</th>\n",
       "      <td>Zimbabwe</td>\n",
       "      <td>ZWE</td>\n",
       "      <td>2017</td>\n",
       "      <td>20.874201</td>\n",
       "    </tr>\n",
       "    <tr>\n",
       "      <th>3533</th>\n",
       "      <td>Zimbabwe</td>\n",
       "      <td>ZWE</td>\n",
       "      <td>2018</td>\n",
       "      <td>19.039841</td>\n",
       "    </tr>\n",
       "  </tbody>\n",
       "</table>\n",
       "<p>3534 rows × 4 columns</p>\n",
       "</div>"
      ],
      "text/plain": [
       "           Entity Code  Year   \n",
       "0     Afghanistan  AFG  2010  \\\n",
       "1     Afghanistan  AFG  2011   \n",
       "2     Afghanistan  AFG  2013   \n",
       "3     Afghanistan  AFG  2014   \n",
       "4     Afghanistan  AFG  2015   \n",
       "...           ...  ...   ...   \n",
       "3529     Zimbabwe  ZWE  2014   \n",
       "3530     Zimbabwe  ZWE  2015   \n",
       "3531     Zimbabwe  ZWE  2016   \n",
       "3532     Zimbabwe  ZWE  2017   \n",
       "3533     Zimbabwe  ZWE  2018   \n",
       "\n",
       "      Government expenditure on education, total (% of government expenditure)  \n",
       "0                                             17.067560                         \n",
       "1                                             16.048429                         \n",
       "2                                             14.102800                         \n",
       "3                                             14.465930                         \n",
       "4                                             12.509000                         \n",
       "...                                                 ...                         \n",
       "3529                                          30.015150                         \n",
       "3530                                          29.470831                         \n",
       "3531                                          23.527081                         \n",
       "3532                                          20.874201                         \n",
       "3533                                          19.039841                         \n",
       "\n",
       "[3534 rows x 4 columns]"
      ]
     },
     "execution_count": 2,
     "metadata": {},
     "output_type": "execute_result"
    }
   ],
   "source": [
    "df2 = pd.read_csv(\"4.unclean-share-of-education-in-government-expenditure.csv\")\n",
    "df2"
   ]
  },
  {
   "attachments": {},
   "cell_type": "markdown",
   "id": "2a835cf5",
   "metadata": {},
   "source": [
    "### Exploring the dataset \n",
    "Let's see what this dataset looks like "
   ]
  },
  {
   "cell_type": "code",
   "execution_count": 3,
   "id": "b9b52eda",
   "metadata": {},
   "outputs": [
    {
     "data": {
      "text/plain": [
       "(3534, 4)"
      ]
     },
     "execution_count": 3,
     "metadata": {},
     "output_type": "execute_result"
    }
   ],
   "source": [
    "df2.shape"
   ]
  },
  {
   "attachments": {},
   "cell_type": "markdown",
   "id": "34cc1668",
   "metadata": {},
   "source": [
    "This dataframe has 3534 rows and 4 columns"
   ]
  },
  {
   "cell_type": "code",
   "execution_count": 4,
   "id": "58a083bc",
   "metadata": {
    "scrolled": true
   },
   "outputs": [
    {
     "name": "stdout",
     "output_type": "stream",
     "text": [
      "The earliest year in this dataset is 1980\n",
      "The latest year in this dataset is 2021\n"
     ]
    }
   ],
   "source": [
    "print((\"The earliest year in this dataset is\"), df2['Year'].min())\n",
    "print((\"The latest year in this dataset is\"), df2['Year'].max())"
   ]
  },
  {
   "cell_type": "code",
   "execution_count": 5,
   "id": "1d628c49",
   "metadata": {
    "scrolled": true
   },
   "outputs": [
    {
     "data": {
      "text/plain": [
       "Entity                                                                       object\n",
       "Code                                                                         object\n",
       "Year                                                                          int64\n",
       "Government expenditure on education, total (% of government expenditure)    float64\n",
       "dtype: object"
      ]
     },
     "execution_count": 5,
     "metadata": {},
     "output_type": "execute_result"
    }
   ],
   "source": [
    "df2.dtypes"
   ]
  },
  {
   "attachments": {},
   "cell_type": "markdown",
   "id": "4ae6e84e",
   "metadata": {},
   "source": [
    "The 'Entity' and 'Code' columns are strings, the 'Year' column is an integer and the goverment expenditure column is a float "
   ]
  },
  {
   "cell_type": "code",
   "execution_count": 6,
   "id": "3c78c646",
   "metadata": {
    "scrolled": true
   },
   "outputs": [
    {
     "data": {
      "text/plain": [
       "Index(['Entity', 'Code', 'Year',\n",
       "       'Government expenditure on education, total (% of government expenditure)'],\n",
       "      dtype='object')"
      ]
     },
     "execution_count": 6,
     "metadata": {},
     "output_type": "execute_result"
    }
   ],
   "source": [
    "df2.columns"
   ]
  },
  {
   "attachments": {},
   "cell_type": "markdown",
   "id": "684205ed",
   "metadata": {},
   "source": [
    "The 'Entity' column refers to the country the data is referring to. The 'code' refers to the country code. The government expenditure column refers to general government expenditure on education (current, capital, and transfers) as expressed as a percentage of total general government. The 'Year' refers to the corresponding year that the data was taken"
   ]
  },
  {
   "cell_type": "code",
   "execution_count": 7,
   "id": "4b5c5ce9",
   "metadata": {},
   "outputs": [
    {
     "data": {
      "text/plain": [
       "206"
      ]
     },
     "execution_count": 7,
     "metadata": {},
     "output_type": "execute_result"
    }
   ],
   "source": [
    "df2['Entity'].nunique()"
   ]
  },
  {
   "attachments": {},
   "cell_type": "markdown",
   "id": "52c967ff",
   "metadata": {},
   "source": [
    "There are 206 countries represented in this data "
   ]
  },
  {
   "attachments": {},
   "cell_type": "markdown",
   "id": "8e456dfc",
   "metadata": {},
   "source": [
    "### Renaming columns \n",
    "- All other names are rather simple, except for the government expenditure one, which may cause unnecessary problems when dealing with this column. So let's rename this column \n",
    "- The 'Entity' columnn refers to  countries, so let's rename this column as well  "
   ]
  },
  {
   "cell_type": "code",
   "execution_count": 8,
   "id": "a3df58b6",
   "metadata": {},
   "outputs": [],
   "source": [
    "df2.rename(columns={'Government expenditure on education, total (% of government expenditure)': 'Gvt_Exp_on_Education'}, inplace=True)\n",
    "df2.rename(columns = {'Entity': 'Country'}, inplace=True)"
   ]
  },
  {
   "attachments": {},
   "cell_type": "markdown",
   "id": "6fa1102a",
   "metadata": {},
   "source": [
    "Let's check the column names now"
   ]
  },
  {
   "cell_type": "code",
   "execution_count": 9,
   "id": "16745c18",
   "metadata": {},
   "outputs": [
    {
     "data": {
      "text/plain": [
       "Index(['Country', 'Code', 'Year', 'Gvt_Exp_on_Education'], dtype='object')"
      ]
     },
     "execution_count": 9,
     "metadata": {},
     "output_type": "execute_result"
    }
   ],
   "source": [
    "df2.columns"
   ]
  },
  {
   "attachments": {},
   "cell_type": "markdown",
   "id": "9c6c7415",
   "metadata": {},
   "source": [
    "Let's create a copy of the filtered table in case we want to go back to the original"
   ]
  },
  {
   "cell_type": "code",
   "execution_count": 10,
   "id": "a98d8fca",
   "metadata": {},
   "outputs": [],
   "source": [
    "filtered_df = df2.copy()"
   ]
  },
  {
   "attachments": {},
   "cell_type": "markdown",
   "id": "5bc3e52b",
   "metadata": {},
   "source": [
    "Since we have already identified the countries with the 5 highest and lowest highest literacy rates, we can filter those countries "
   ]
  },
  {
   "cell_type": "code",
   "execution_count": 11,
   "id": "6ffb859d",
   "metadata": {
    "scrolled": true
   },
   "outputs": [
    {
     "data": {
      "text/html": [
       "<div>\n",
       "<style scoped>\n",
       "    .dataframe tbody tr th:only-of-type {\n",
       "        vertical-align: middle;\n",
       "    }\n",
       "\n",
       "    .dataframe tbody tr th {\n",
       "        vertical-align: top;\n",
       "    }\n",
       "\n",
       "    .dataframe thead th {\n",
       "        text-align: right;\n",
       "    }\n",
       "</style>\n",
       "<table border=\"1\" class=\"dataframe\">\n",
       "  <thead>\n",
       "    <tr style=\"text-align: right;\">\n",
       "      <th></th>\n",
       "      <th>Country</th>\n",
       "      <th>Code</th>\n",
       "      <th>Year</th>\n",
       "      <th>Gvt_Exp_on_Education</th>\n",
       "    </tr>\n",
       "  </thead>\n",
       "  <tbody>\n",
       "    <tr>\n",
       "      <th>0</th>\n",
       "      <td>Afghanistan</td>\n",
       "      <td>AFG</td>\n",
       "      <td>2010</td>\n",
       "      <td>17.067560</td>\n",
       "    </tr>\n",
       "    <tr>\n",
       "      <th>1</th>\n",
       "      <td>Afghanistan</td>\n",
       "      <td>AFG</td>\n",
       "      <td>2011</td>\n",
       "      <td>16.048429</td>\n",
       "    </tr>\n",
       "    <tr>\n",
       "      <th>2</th>\n",
       "      <td>Afghanistan</td>\n",
       "      <td>AFG</td>\n",
       "      <td>2013</td>\n",
       "      <td>14.102800</td>\n",
       "    </tr>\n",
       "    <tr>\n",
       "      <th>3</th>\n",
       "      <td>Afghanistan</td>\n",
       "      <td>AFG</td>\n",
       "      <td>2014</td>\n",
       "      <td>14.465930</td>\n",
       "    </tr>\n",
       "    <tr>\n",
       "      <th>4</th>\n",
       "      <td>Afghanistan</td>\n",
       "      <td>AFG</td>\n",
       "      <td>2015</td>\n",
       "      <td>12.509000</td>\n",
       "    </tr>\n",
       "    <tr>\n",
       "      <th>...</th>\n",
       "      <td>...</td>\n",
       "      <td>...</td>\n",
       "      <td>...</td>\n",
       "      <td>...</td>\n",
       "    </tr>\n",
       "    <tr>\n",
       "      <th>157</th>\n",
       "      <td>Niger</td>\n",
       "      <td>NER</td>\n",
       "      <td>2017</td>\n",
       "      <td>13.215160</td>\n",
       "    </tr>\n",
       "    <tr>\n",
       "      <th>158</th>\n",
       "      <td>Niger</td>\n",
       "      <td>NER</td>\n",
       "      <td>2018</td>\n",
       "      <td>16.339970</td>\n",
       "    </tr>\n",
       "    <tr>\n",
       "      <th>159</th>\n",
       "      <td>Niger</td>\n",
       "      <td>NER</td>\n",
       "      <td>2019</td>\n",
       "      <td>13.012810</td>\n",
       "    </tr>\n",
       "    <tr>\n",
       "      <th>160</th>\n",
       "      <td>Niger</td>\n",
       "      <td>NER</td>\n",
       "      <td>2020</td>\n",
       "      <td>13.332540</td>\n",
       "    </tr>\n",
       "    <tr>\n",
       "      <th>161</th>\n",
       "      <td>Niger</td>\n",
       "      <td>NER</td>\n",
       "      <td>2021</td>\n",
       "      <td>11.952620</td>\n",
       "    </tr>\n",
       "  </tbody>\n",
       "</table>\n",
       "<p>162 rows × 4 columns</p>\n",
       "</div>"
      ],
      "text/plain": [
       "         Country Code  Year  Gvt_Exp_on_Education\n",
       "0    Afghanistan  AFG  2010             17.067560\n",
       "1    Afghanistan  AFG  2011             16.048429\n",
       "2    Afghanistan  AFG  2013             14.102800\n",
       "3    Afghanistan  AFG  2014             14.465930\n",
       "4    Afghanistan  AFG  2015             12.509000\n",
       "..           ...  ...   ...                   ...\n",
       "157        Niger  NER  2017             13.215160\n",
       "158        Niger  NER  2018             16.339970\n",
       "159        Niger  NER  2019             13.012810\n",
       "160        Niger  NER  2020             13.332540\n",
       "161        Niger  NER  2021             11.952620\n",
       "\n",
       "[162 rows x 4 columns]"
      ]
     },
     "execution_count": 11,
     "metadata": {},
     "output_type": "execute_result"
    }
   ],
   "source": [
    "countries = ['Korea', 'Latvia', 'Estonia', 'Lithuania', 'Cuba', 'Chad', 'Afghanistan', 'Mali', 'Niger', 'Guinea']\n",
    "filtered_df = df2[df2[\"Country\"].isin(countries)]\n",
    "filtered_df = filtered_df.reset_index(drop=True)\n",
    "filtered_df"
   ]
  },
  {
   "attachments": {},
   "cell_type": "markdown",
   "id": "c0106c68",
   "metadata": {},
   "source": [
    "Let's check to see if our data has all of the countries that we are looking for"
   ]
  },
  {
   "cell_type": "code",
   "execution_count": 12,
   "id": "5a17d1d5",
   "metadata": {},
   "outputs": [
    {
     "data": {
      "text/plain": [
       "8"
      ]
     },
     "execution_count": 12,
     "metadata": {},
     "output_type": "execute_result"
    }
   ],
   "source": [
    "filtered_df['Country'].nunique()"
   ]
  },
  {
   "cell_type": "code",
   "execution_count": 13,
   "id": "2ff5f6b3",
   "metadata": {
    "scrolled": true
   },
   "outputs": [
    {
     "name": "stdout",
     "output_type": "stream",
     "text": [
      "Unique countries: ['Afghanistan' 'Chad' 'Estonia' 'Guinea' 'Latvia' 'Lithuania' 'Mali'\n",
      " 'Niger']\n"
     ]
    }
   ],
   "source": [
    "unique_countries = filtered_df['Country'].unique()\n",
    "print(\"Unique countries:\", unique_countries)"
   ]
  },
  {
   "attachments": {},
   "cell_type": "markdown",
   "id": "4602a3c2",
   "metadata": {},
   "source": [
    "We can see that Cuba and Korea are missing from the dataset, so we'll have to add those in"
   ]
  },
  {
   "attachments": {},
   "cell_type": "markdown",
   "id": "e1eed291",
   "metadata": {},
   "source": [
    "## Additional dataset"
   ]
  },
  {
   "attachments": {},
   "cell_type": "markdown",
   "id": "62be1aa7",
   "metadata": {},
   "source": [
    "We found another dataset (https://data.worldbank.org/indicator/SE.XPD.TOTL.GD.ZS?end=2020&start=1980&view=chart) which had some more values from different region and countries.\n",
    "\n",
    "Let's check this dataset to see if we can find some data for Cuba and Korea"
   ]
  },
  {
   "cell_type": "code",
   "execution_count": 14,
   "id": "41ab44fc",
   "metadata": {
    "scrolled": false
   },
   "outputs": [
    {
     "data": {
      "text/html": [
       "<div>\n",
       "<style scoped>\n",
       "    .dataframe tbody tr th:only-of-type {\n",
       "        vertical-align: middle;\n",
       "    }\n",
       "\n",
       "    .dataframe tbody tr th {\n",
       "        vertical-align: top;\n",
       "    }\n",
       "\n",
       "    .dataframe thead th {\n",
       "        text-align: right;\n",
       "    }\n",
       "</style>\n",
       "<table border=\"1\" class=\"dataframe\">\n",
       "  <thead>\n",
       "    <tr style=\"text-align: right;\">\n",
       "      <th></th>\n",
       "      <th>Country Name</th>\n",
       "      <th>Country Code</th>\n",
       "      <th>Indicator Name</th>\n",
       "      <th>Indicator Code</th>\n",
       "      <th>1960</th>\n",
       "      <th>1961</th>\n",
       "      <th>1962</th>\n",
       "      <th>1963</th>\n",
       "      <th>1964</th>\n",
       "      <th>1965</th>\n",
       "      <th>...</th>\n",
       "      <th>2013</th>\n",
       "      <th>2014</th>\n",
       "      <th>2015</th>\n",
       "      <th>2016</th>\n",
       "      <th>2017</th>\n",
       "      <th>2018</th>\n",
       "      <th>2019</th>\n",
       "      <th>2020</th>\n",
       "      <th>2021</th>\n",
       "      <th>2022</th>\n",
       "    </tr>\n",
       "  </thead>\n",
       "  <tbody>\n",
       "    <tr>\n",
       "      <th>0</th>\n",
       "      <td>Aruba</td>\n",
       "      <td>ABW</td>\n",
       "      <td>Government expenditure on education, total (% ...</td>\n",
       "      <td>SE.XPD.TOTL.GB.ZS</td>\n",
       "      <td>NaN</td>\n",
       "      <td>NaN</td>\n",
       "      <td>NaN</td>\n",
       "      <td>NaN</td>\n",
       "      <td>NaN</td>\n",
       "      <td>NaN</td>\n",
       "      <td>...</td>\n",
       "      <td>21.877630</td>\n",
       "      <td>19.617979</td>\n",
       "      <td>23.201380</td>\n",
       "      <td>21.853750</td>\n",
       "      <td>NaN</td>\n",
       "      <td>NaN</td>\n",
       "      <td>NaN</td>\n",
       "      <td>NaN</td>\n",
       "      <td>NaN</td>\n",
       "      <td>NaN</td>\n",
       "    </tr>\n",
       "    <tr>\n",
       "      <th>1</th>\n",
       "      <td>Africa Eastern and Southern</td>\n",
       "      <td>AFE</td>\n",
       "      <td>Government expenditure on education, total (% ...</td>\n",
       "      <td>SE.XPD.TOTL.GB.ZS</td>\n",
       "      <td>NaN</td>\n",
       "      <td>NaN</td>\n",
       "      <td>NaN</td>\n",
       "      <td>NaN</td>\n",
       "      <td>NaN</td>\n",
       "      <td>NaN</td>\n",
       "      <td>...</td>\n",
       "      <td>17.243259</td>\n",
       "      <td>18.097099</td>\n",
       "      <td>16.962910</td>\n",
       "      <td>17.198811</td>\n",
       "      <td>17.150761</td>\n",
       "      <td>17.306705</td>\n",
       "      <td>15.35272</td>\n",
       "      <td>14.564090</td>\n",
       "      <td>13.65829</td>\n",
       "      <td>NaN</td>\n",
       "    </tr>\n",
       "    <tr>\n",
       "      <th>2</th>\n",
       "      <td>Afghanistan</td>\n",
       "      <td>AFG</td>\n",
       "      <td>Government expenditure on education, total (% ...</td>\n",
       "      <td>SE.XPD.TOTL.GB.ZS</td>\n",
       "      <td>NaN</td>\n",
       "      <td>NaN</td>\n",
       "      <td>NaN</td>\n",
       "      <td>NaN</td>\n",
       "      <td>NaN</td>\n",
       "      <td>NaN</td>\n",
       "      <td>...</td>\n",
       "      <td>14.102800</td>\n",
       "      <td>14.465930</td>\n",
       "      <td>12.509000</td>\n",
       "      <td>13.091000</td>\n",
       "      <td>12.033200</td>\n",
       "      <td>11.696060</td>\n",
       "      <td>11.34377</td>\n",
       "      <td>10.253860</td>\n",
       "      <td>10.88011</td>\n",
       "      <td>NaN</td>\n",
       "    </tr>\n",
       "    <tr>\n",
       "      <th>3</th>\n",
       "      <td>Africa Western and Central</td>\n",
       "      <td>AFW</td>\n",
       "      <td>Government expenditure on education, total (% ...</td>\n",
       "      <td>SE.XPD.TOTL.GB.ZS</td>\n",
       "      <td>NaN</td>\n",
       "      <td>NaN</td>\n",
       "      <td>NaN</td>\n",
       "      <td>NaN</td>\n",
       "      <td>NaN</td>\n",
       "      <td>NaN</td>\n",
       "      <td>...</td>\n",
       "      <td>14.963605</td>\n",
       "      <td>12.939880</td>\n",
       "      <td>13.121995</td>\n",
       "      <td>12.854880</td>\n",
       "      <td>16.058439</td>\n",
       "      <td>16.114195</td>\n",
       "      <td>14.15939</td>\n",
       "      <td>14.339985</td>\n",
       "      <td>14.93463</td>\n",
       "      <td>13.813610</td>\n",
       "    </tr>\n",
       "    <tr>\n",
       "      <th>4</th>\n",
       "      <td>Angola</td>\n",
       "      <td>AGO</td>\n",
       "      <td>Government expenditure on education, total (% ...</td>\n",
       "      <td>SE.XPD.TOTL.GB.ZS</td>\n",
       "      <td>NaN</td>\n",
       "      <td>NaN</td>\n",
       "      <td>NaN</td>\n",
       "      <td>NaN</td>\n",
       "      <td>NaN</td>\n",
       "      <td>NaN</td>\n",
       "      <td>...</td>\n",
       "      <td>8.826970</td>\n",
       "      <td>6.162840</td>\n",
       "      <td>8.918780</td>\n",
       "      <td>6.550970</td>\n",
       "      <td>6.763780</td>\n",
       "      <td>5.410230</td>\n",
       "      <td>6.04536</td>\n",
       "      <td>6.467230</td>\n",
       "      <td>6.91961</td>\n",
       "      <td>6.640472</td>\n",
       "    </tr>\n",
       "    <tr>\n",
       "      <th>...</th>\n",
       "      <td>...</td>\n",
       "      <td>...</td>\n",
       "      <td>...</td>\n",
       "      <td>...</td>\n",
       "      <td>...</td>\n",
       "      <td>...</td>\n",
       "      <td>...</td>\n",
       "      <td>...</td>\n",
       "      <td>...</td>\n",
       "      <td>...</td>\n",
       "      <td>...</td>\n",
       "      <td>...</td>\n",
       "      <td>...</td>\n",
       "      <td>...</td>\n",
       "      <td>...</td>\n",
       "      <td>...</td>\n",
       "      <td>...</td>\n",
       "      <td>...</td>\n",
       "      <td>...</td>\n",
       "      <td>...</td>\n",
       "      <td>...</td>\n",
       "    </tr>\n",
       "    <tr>\n",
       "      <th>261</th>\n",
       "      <td>Kosovo</td>\n",
       "      <td>XKX</td>\n",
       "      <td>Government expenditure on education, total (% ...</td>\n",
       "      <td>SE.XPD.TOTL.GB.ZS</td>\n",
       "      <td>NaN</td>\n",
       "      <td>NaN</td>\n",
       "      <td>NaN</td>\n",
       "      <td>NaN</td>\n",
       "      <td>NaN</td>\n",
       "      <td>NaN</td>\n",
       "      <td>...</td>\n",
       "      <td>NaN</td>\n",
       "      <td>NaN</td>\n",
       "      <td>NaN</td>\n",
       "      <td>NaN</td>\n",
       "      <td>NaN</td>\n",
       "      <td>NaN</td>\n",
       "      <td>NaN</td>\n",
       "      <td>NaN</td>\n",
       "      <td>NaN</td>\n",
       "      <td>NaN</td>\n",
       "    </tr>\n",
       "    <tr>\n",
       "      <th>262</th>\n",
       "      <td>Yemen, Rep.</td>\n",
       "      <td>YEM</td>\n",
       "      <td>Government expenditure on education, total (% ...</td>\n",
       "      <td>SE.XPD.TOTL.GB.ZS</td>\n",
       "      <td>NaN</td>\n",
       "      <td>NaN</td>\n",
       "      <td>NaN</td>\n",
       "      <td>NaN</td>\n",
       "      <td>NaN</td>\n",
       "      <td>NaN</td>\n",
       "      <td>...</td>\n",
       "      <td>NaN</td>\n",
       "      <td>NaN</td>\n",
       "      <td>NaN</td>\n",
       "      <td>NaN</td>\n",
       "      <td>NaN</td>\n",
       "      <td>NaN</td>\n",
       "      <td>NaN</td>\n",
       "      <td>NaN</td>\n",
       "      <td>NaN</td>\n",
       "      <td>NaN</td>\n",
       "    </tr>\n",
       "    <tr>\n",
       "      <th>263</th>\n",
       "      <td>South Africa</td>\n",
       "      <td>ZAF</td>\n",
       "      <td>Government expenditure on education, total (% ...</td>\n",
       "      <td>SE.XPD.TOTL.GB.ZS</td>\n",
       "      <td>NaN</td>\n",
       "      <td>NaN</td>\n",
       "      <td>NaN</td>\n",
       "      <td>NaN</td>\n",
       "      <td>NaN</td>\n",
       "      <td>NaN</td>\n",
       "      <td>...</td>\n",
       "      <td>18.696600</td>\n",
       "      <td>18.989161</td>\n",
       "      <td>18.699350</td>\n",
       "      <td>18.048740</td>\n",
       "      <td>18.719290</td>\n",
       "      <td>18.901590</td>\n",
       "      <td>19.59623</td>\n",
       "      <td>19.527281</td>\n",
       "      <td>18.41724</td>\n",
       "      <td>19.750040</td>\n",
       "    </tr>\n",
       "    <tr>\n",
       "      <th>264</th>\n",
       "      <td>Zambia</td>\n",
       "      <td>ZMB</td>\n",
       "      <td>Government expenditure on education, total (% ...</td>\n",
       "      <td>SE.XPD.TOTL.GB.ZS</td>\n",
       "      <td>NaN</td>\n",
       "      <td>NaN</td>\n",
       "      <td>NaN</td>\n",
       "      <td>NaN</td>\n",
       "      <td>NaN</td>\n",
       "      <td>NaN</td>\n",
       "      <td>...</td>\n",
       "      <td>15.400000</td>\n",
       "      <td>20.100000</td>\n",
       "      <td>16.335600</td>\n",
       "      <td>15.663620</td>\n",
       "      <td>14.934340</td>\n",
       "      <td>17.118719</td>\n",
       "      <td>15.29187</td>\n",
       "      <td>12.378020</td>\n",
       "      <td>11.51414</td>\n",
       "      <td>10.447814</td>\n",
       "    </tr>\n",
       "    <tr>\n",
       "      <th>265</th>\n",
       "      <td>Zimbabwe</td>\n",
       "      <td>ZWE</td>\n",
       "      <td>Government expenditure on education, total (% ...</td>\n",
       "      <td>SE.XPD.TOTL.GB.ZS</td>\n",
       "      <td>NaN</td>\n",
       "      <td>NaN</td>\n",
       "      <td>NaN</td>\n",
       "      <td>NaN</td>\n",
       "      <td>NaN</td>\n",
       "      <td>NaN</td>\n",
       "      <td>...</td>\n",
       "      <td>28.660339</td>\n",
       "      <td>30.015150</td>\n",
       "      <td>29.470831</td>\n",
       "      <td>23.527081</td>\n",
       "      <td>20.874201</td>\n",
       "      <td>19.039841</td>\n",
       "      <td>NaN</td>\n",
       "      <td>15.666611</td>\n",
       "      <td>NaN</td>\n",
       "      <td>NaN</td>\n",
       "    </tr>\n",
       "  </tbody>\n",
       "</table>\n",
       "<p>266 rows × 67 columns</p>\n",
       "</div>"
      ],
      "text/plain": [
       "                    Country Name Country Code   \n",
       "0                          Aruba          ABW  \\\n",
       "1    Africa Eastern and Southern          AFE   \n",
       "2                    Afghanistan          AFG   \n",
       "3     Africa Western and Central          AFW   \n",
       "4                         Angola          AGO   \n",
       "..                           ...          ...   \n",
       "261                       Kosovo          XKX   \n",
       "262                  Yemen, Rep.          YEM   \n",
       "263                 South Africa          ZAF   \n",
       "264                       Zambia          ZMB   \n",
       "265                     Zimbabwe          ZWE   \n",
       "\n",
       "                                        Indicator Name     Indicator Code   \n",
       "0    Government expenditure on education, total (% ...  SE.XPD.TOTL.GB.ZS  \\\n",
       "1    Government expenditure on education, total (% ...  SE.XPD.TOTL.GB.ZS   \n",
       "2    Government expenditure on education, total (% ...  SE.XPD.TOTL.GB.ZS   \n",
       "3    Government expenditure on education, total (% ...  SE.XPD.TOTL.GB.ZS   \n",
       "4    Government expenditure on education, total (% ...  SE.XPD.TOTL.GB.ZS   \n",
       "..                                                 ...                ...   \n",
       "261  Government expenditure on education, total (% ...  SE.XPD.TOTL.GB.ZS   \n",
       "262  Government expenditure on education, total (% ...  SE.XPD.TOTL.GB.ZS   \n",
       "263  Government expenditure on education, total (% ...  SE.XPD.TOTL.GB.ZS   \n",
       "264  Government expenditure on education, total (% ...  SE.XPD.TOTL.GB.ZS   \n",
       "265  Government expenditure on education, total (% ...  SE.XPD.TOTL.GB.ZS   \n",
       "\n",
       "     1960  1961  1962  1963  1964  1965  ...       2013       2014       2015   \n",
       "0     NaN   NaN   NaN   NaN   NaN   NaN  ...  21.877630  19.617979  23.201380  \\\n",
       "1     NaN   NaN   NaN   NaN   NaN   NaN  ...  17.243259  18.097099  16.962910   \n",
       "2     NaN   NaN   NaN   NaN   NaN   NaN  ...  14.102800  14.465930  12.509000   \n",
       "3     NaN   NaN   NaN   NaN   NaN   NaN  ...  14.963605  12.939880  13.121995   \n",
       "4     NaN   NaN   NaN   NaN   NaN   NaN  ...   8.826970   6.162840   8.918780   \n",
       "..    ...   ...   ...   ...   ...   ...  ...        ...        ...        ...   \n",
       "261   NaN   NaN   NaN   NaN   NaN   NaN  ...        NaN        NaN        NaN   \n",
       "262   NaN   NaN   NaN   NaN   NaN   NaN  ...        NaN        NaN        NaN   \n",
       "263   NaN   NaN   NaN   NaN   NaN   NaN  ...  18.696600  18.989161  18.699350   \n",
       "264   NaN   NaN   NaN   NaN   NaN   NaN  ...  15.400000  20.100000  16.335600   \n",
       "265   NaN   NaN   NaN   NaN   NaN   NaN  ...  28.660339  30.015150  29.470831   \n",
       "\n",
       "          2016       2017       2018      2019       2020      2021       2022  \n",
       "0    21.853750        NaN        NaN       NaN        NaN       NaN        NaN  \n",
       "1    17.198811  17.150761  17.306705  15.35272  14.564090  13.65829        NaN  \n",
       "2    13.091000  12.033200  11.696060  11.34377  10.253860  10.88011        NaN  \n",
       "3    12.854880  16.058439  16.114195  14.15939  14.339985  14.93463  13.813610  \n",
       "4     6.550970   6.763780   5.410230   6.04536   6.467230   6.91961   6.640472  \n",
       "..         ...        ...        ...       ...        ...       ...        ...  \n",
       "261        NaN        NaN        NaN       NaN        NaN       NaN        NaN  \n",
       "262        NaN        NaN        NaN       NaN        NaN       NaN        NaN  \n",
       "263  18.048740  18.719290  18.901590  19.59623  19.527281  18.41724  19.750040  \n",
       "264  15.663620  14.934340  17.118719  15.29187  12.378020  11.51414  10.447814  \n",
       "265  23.527081  20.874201  19.039841       NaN  15.666611       NaN        NaN  \n",
       "\n",
       "[266 rows x 67 columns]"
      ]
     },
     "execution_count": 14,
     "metadata": {},
     "output_type": "execute_result"
    }
   ],
   "source": [
    "df3 = pd.read_csv(\"4.unclean-education-govt-exp-incl-cuba.csv\")\n",
    "df3"
   ]
  },
  {
   "attachments": {},
   "cell_type": "markdown",
   "id": "d04a0f8d",
   "metadata": {},
   "source": [
    "Let's explore this dataset"
   ]
  },
  {
   "cell_type": "code",
   "execution_count": 15,
   "id": "ebcee6d7",
   "metadata": {
    "scrolled": false
   },
   "outputs": [
    {
     "data": {
      "text/plain": [
       "Index(['Country Name', 'Country Code', 'Indicator Name', 'Indicator Code',\n",
       "       '1960', '1961', '1962', '1963', '1964', '1965', '1966', '1967', '1968',\n",
       "       '1969', '1970', '1971', '1972', '1973', '1974', '1975', '1976', '1977',\n",
       "       '1978', '1979', '1980', '1981', '1982', '1983', '1984', '1985', '1986',\n",
       "       '1987', '1988', '1989', '1990', '1991', '1992', '1993', '1994', '1995',\n",
       "       '1996', '1997', '1998', '1999', '2000', '2001', '2002', '2003', '2004',\n",
       "       '2005', '2006', '2007', '2008', '2009', '2010', '2011', '2012', '2013',\n",
       "       '2014', '2015', '2016', '2017', '2018', '2019', '2020', '2021', '2022'],\n",
       "      dtype='object')"
      ]
     },
     "execution_count": 15,
     "metadata": {},
     "output_type": "execute_result"
    }
   ],
   "source": [
    "df3.columns"
   ]
  },
  {
   "attachments": {},
   "cell_type": "markdown",
   "id": "d60e25f8",
   "metadata": {},
   "source": [
    "The earliest year is 1960 in this dataset and the latest year is 2022"
   ]
  },
  {
   "cell_type": "code",
   "execution_count": 16,
   "id": "f5a68197",
   "metadata": {
    "scrolled": true
   },
   "outputs": [
    {
     "data": {
      "text/plain": [
       "array(['Aruba', 'Africa Eastern and Southern', 'Afghanistan',\n",
       "       'Africa Western and Central', 'Angola', 'Albania', 'Andorra',\n",
       "       'Arab World', 'United Arab Emirates', 'Argentina', 'Armenia',\n",
       "       'American Samoa', 'Antigua and Barbuda', 'Australia', 'Austria',\n",
       "       'Azerbaijan', 'Burundi', 'Belgium', 'Benin', 'Burkina Faso',\n",
       "       'Bangladesh', 'Bulgaria', 'Bahrain', 'Bahamas, The',\n",
       "       'Bosnia and Herzegovina', 'Belarus', 'Belize', 'Bermuda',\n",
       "       'Bolivia', 'Brazil', 'Barbados', 'Brunei Darussalam', 'Bhutan',\n",
       "       'Botswana', 'Central African Republic', 'Canada',\n",
       "       'Central Europe and the Baltics', 'Switzerland', 'Channel Islands',\n",
       "       'Chile', 'China', \"Cote d'Ivoire\", 'Cameroon', 'Congo, Dem. Rep.',\n",
       "       'Congo, Rep.', 'Colombia', 'Comoros', 'Cabo Verde', 'Costa Rica',\n",
       "       'Caribbean small states', 'Cuba', 'Curacao', 'Cayman Islands',\n",
       "       'Cyprus', 'Czechia', 'Germany', 'Djibouti', 'Dominica', 'Denmark',\n",
       "       'Dominican Republic', 'Algeria',\n",
       "       'East Asia & Pacific (excluding high income)',\n",
       "       'Early-demographic dividend', 'East Asia & Pacific',\n",
       "       'Europe & Central Asia (excluding high income)',\n",
       "       'Europe & Central Asia', 'Ecuador', 'Egypt, Arab Rep.',\n",
       "       'Euro area', 'Eritrea', 'Spain', 'Estonia', 'Ethiopia',\n",
       "       'European Union', 'Fragile and conflict affected situations',\n",
       "       'Finland', 'Fiji', 'France', 'Faroe Islands',\n",
       "       'Micronesia, Fed. Sts.', 'Gabon', 'United Kingdom', 'Georgia',\n",
       "       'Ghana', 'Gibraltar', 'Guinea', 'Gambia, The', 'Guinea-Bissau',\n",
       "       'Equatorial Guinea', 'Greece', 'Grenada', 'Greenland', 'Guatemala',\n",
       "       'Guam', 'Guyana', 'High income', 'Hong Kong SAR, China',\n",
       "       'Honduras', 'Heavily indebted poor countries (HIPC)', 'Croatia',\n",
       "       'Haiti', 'Hungary', 'IBRD only', 'IDA & IBRD total', 'IDA total',\n",
       "       'IDA blend', 'Indonesia', 'IDA only', 'Isle of Man', 'India',\n",
       "       'Not classified', 'Ireland', 'Iran, Islamic Rep.', 'Iraq',\n",
       "       'Iceland', 'Israel', 'Italy', 'Jamaica', 'Jordan', 'Japan',\n",
       "       'Kazakhstan', 'Kenya', 'Kyrgyz Republic', 'Cambodia', 'Kiribati',\n",
       "       'St. Kitts and Nevis', 'Korea, Rep.', 'Kuwait',\n",
       "       'Latin America & Caribbean (excluding high income)', 'Lao PDR',\n",
       "       'Lebanon', 'Liberia', 'Libya', 'St. Lucia',\n",
       "       'Latin America & Caribbean',\n",
       "       'Least developed countries: UN classification', 'Low income',\n",
       "       'Liechtenstein', 'Sri Lanka', 'Lower middle income',\n",
       "       'Low & middle income', 'Lesotho', 'Late-demographic dividend',\n",
       "       'Lithuania', 'Luxembourg', 'Latvia', 'Macao SAR, China',\n",
       "       'St. Martin (French part)', 'Morocco', 'Monaco', 'Moldova',\n",
       "       'Madagascar', 'Maldives', 'Middle East & North Africa', 'Mexico',\n",
       "       'Marshall Islands', 'Middle income', 'North Macedonia', 'Mali',\n",
       "       'Malta', 'Myanmar',\n",
       "       'Middle East & North Africa (excluding high income)', 'Montenegro',\n",
       "       'Mongolia', 'Northern Mariana Islands', 'Mozambique', 'Mauritania',\n",
       "       'Mauritius', 'Malawi', 'Malaysia', 'North America', 'Namibia',\n",
       "       'New Caledonia', 'Niger', 'Nigeria', 'Nicaragua', 'Netherlands',\n",
       "       'Norway', 'Nepal', 'Nauru', 'New Zealand', 'OECD members', 'Oman',\n",
       "       'Other small states', 'Pakistan', 'Panama', 'Peru', 'Philippines',\n",
       "       'Palau', 'Papua New Guinea', 'Poland', 'Pre-demographic dividend',\n",
       "       'Puerto Rico', \"Korea, Dem. People's Rep.\", 'Portugal', 'Paraguay',\n",
       "       'West Bank and Gaza', 'Pacific island small states',\n",
       "       'Post-demographic dividend', 'French Polynesia', 'Qatar',\n",
       "       'Romania', 'Russian Federation', 'Rwanda', 'South Asia',\n",
       "       'Saudi Arabia', 'Sudan', 'Senegal', 'Singapore', 'Solomon Islands',\n",
       "       'Sierra Leone', 'El Salvador', 'San Marino', 'Somalia', 'Serbia',\n",
       "       'Sub-Saharan Africa (excluding high income)', 'South Sudan',\n",
       "       'Sub-Saharan Africa', 'Small states', 'Sao Tome and Principe',\n",
       "       'Suriname', 'Slovak Republic', 'Slovenia', 'Sweden', 'Eswatini',\n",
       "       'Sint Maarten (Dutch part)', 'Seychelles', 'Syrian Arab Republic',\n",
       "       'Turks and Caicos Islands', 'Chad',\n",
       "       'East Asia & Pacific (IDA & IBRD countries)',\n",
       "       'Europe & Central Asia (IDA & IBRD countries)', 'Togo', 'Thailand',\n",
       "       'Tajikistan', 'Turkmenistan',\n",
       "       'Latin America & the Caribbean (IDA & IBRD countries)',\n",
       "       'Timor-Leste', 'Middle East & North Africa (IDA & IBRD countries)',\n",
       "       'Tonga', 'South Asia (IDA & IBRD)',\n",
       "       'Sub-Saharan Africa (IDA & IBRD countries)', 'Trinidad and Tobago',\n",
       "       'Tunisia', 'Turkiye', 'Tuvalu', 'Tanzania', 'Uganda', 'Ukraine',\n",
       "       'Upper middle income', 'Uruguay', 'United States', 'Uzbekistan',\n",
       "       'St. Vincent and the Grenadines', 'Venezuela, RB',\n",
       "       'British Virgin Islands', 'Virgin Islands (U.S.)', 'Vietnam',\n",
       "       'Vanuatu', 'World', 'Samoa', 'Kosovo', 'Yemen, Rep.',\n",
       "       'South Africa', 'Zambia', 'Zimbabwe'], dtype=object)"
      ]
     },
     "execution_count": 16,
     "metadata": {},
     "output_type": "execute_result"
    }
   ],
   "source": [
    "df3['Country Name'].unique()"
   ]
  },
  {
   "attachments": {},
   "cell_type": "markdown",
   "id": "061c87be",
   "metadata": {},
   "source": [
    "This dataset also has regional figures for government expenditure on education alongside its country data. This will be useful if we can not find any figures for our top 5 and our bottom 5"
   ]
  },
  {
   "attachments": {},
   "cell_type": "markdown",
   "id": "dfefd084",
   "metadata": {},
   "source": [
    "### Searching for data for Cuba and Korea"
   ]
  },
  {
   "cell_type": "code",
   "execution_count": 17,
   "id": "53c32ec7",
   "metadata": {
    "scrolled": false
   },
   "outputs": [
    {
     "data": {
      "text/html": [
       "<div>\n",
       "<style scoped>\n",
       "    .dataframe tbody tr th:only-of-type {\n",
       "        vertical-align: middle;\n",
       "    }\n",
       "\n",
       "    .dataframe tbody tr th {\n",
       "        vertical-align: top;\n",
       "    }\n",
       "\n",
       "    .dataframe thead th {\n",
       "        text-align: right;\n",
       "    }\n",
       "</style>\n",
       "<table border=\"1\" class=\"dataframe\">\n",
       "  <thead>\n",
       "    <tr style=\"text-align: right;\">\n",
       "      <th></th>\n",
       "      <th>Country Name</th>\n",
       "      <th>Country Code</th>\n",
       "      <th>Indicator Name</th>\n",
       "      <th>Indicator Code</th>\n",
       "      <th>1960</th>\n",
       "      <th>1961</th>\n",
       "      <th>1962</th>\n",
       "      <th>1963</th>\n",
       "      <th>1964</th>\n",
       "      <th>1965</th>\n",
       "      <th>...</th>\n",
       "      <th>2013</th>\n",
       "      <th>2014</th>\n",
       "      <th>2015</th>\n",
       "      <th>2016</th>\n",
       "      <th>2017</th>\n",
       "      <th>2018</th>\n",
       "      <th>2019</th>\n",
       "      <th>2020</th>\n",
       "      <th>2021</th>\n",
       "      <th>2022</th>\n",
       "    </tr>\n",
       "  </thead>\n",
       "  <tbody>\n",
       "    <tr>\n",
       "      <th>126</th>\n",
       "      <td>Korea, Rep.</td>\n",
       "      <td>KOR</td>\n",
       "      <td>Government expenditure on education, total (% ...</td>\n",
       "      <td>SE.XPD.TOTL.GB.ZS</td>\n",
       "      <td>NaN</td>\n",
       "      <td>NaN</td>\n",
       "      <td>NaN</td>\n",
       "      <td>NaN</td>\n",
       "      <td>NaN</td>\n",
       "      <td>NaN</td>\n",
       "      <td>...</td>\n",
       "      <td>NaN</td>\n",
       "      <td>NaN</td>\n",
       "      <td>14.65296</td>\n",
       "      <td>14.30254</td>\n",
       "      <td>14.29845</td>\n",
       "      <td>14.31293</td>\n",
       "      <td>13.83082</td>\n",
       "      <td>NaN</td>\n",
       "      <td>NaN</td>\n",
       "      <td>NaN</td>\n",
       "    </tr>\n",
       "    <tr>\n",
       "      <th>193</th>\n",
       "      <td>Korea, Dem. People's Rep.</td>\n",
       "      <td>PRK</td>\n",
       "      <td>Government expenditure on education, total (% ...</td>\n",
       "      <td>SE.XPD.TOTL.GB.ZS</td>\n",
       "      <td>NaN</td>\n",
       "      <td>NaN</td>\n",
       "      <td>NaN</td>\n",
       "      <td>NaN</td>\n",
       "      <td>NaN</td>\n",
       "      <td>NaN</td>\n",
       "      <td>...</td>\n",
       "      <td>NaN</td>\n",
       "      <td>NaN</td>\n",
       "      <td>NaN</td>\n",
       "      <td>NaN</td>\n",
       "      <td>NaN</td>\n",
       "      <td>NaN</td>\n",
       "      <td>NaN</td>\n",
       "      <td>NaN</td>\n",
       "      <td>NaN</td>\n",
       "      <td>NaN</td>\n",
       "    </tr>\n",
       "  </tbody>\n",
       "</table>\n",
       "<p>2 rows × 67 columns</p>\n",
       "</div>"
      ],
      "text/plain": [
       "                  Country Name Country Code   \n",
       "126                Korea, Rep.          KOR  \\\n",
       "193  Korea, Dem. People's Rep.          PRK   \n",
       "\n",
       "                                        Indicator Name     Indicator Code   \n",
       "126  Government expenditure on education, total (% ...  SE.XPD.TOTL.GB.ZS  \\\n",
       "193  Government expenditure on education, total (% ...  SE.XPD.TOTL.GB.ZS   \n",
       "\n",
       "     1960  1961  1962  1963  1964  1965  ...  2013  2014      2015      2016   \n",
       "126   NaN   NaN   NaN   NaN   NaN   NaN  ...   NaN   NaN  14.65296  14.30254  \\\n",
       "193   NaN   NaN   NaN   NaN   NaN   NaN  ...   NaN   NaN       NaN       NaN   \n",
       "\n",
       "         2017      2018      2019  2020  2021  2022  \n",
       "126  14.29845  14.31293  13.83082   NaN   NaN   NaN  \n",
       "193       NaN       NaN       NaN   NaN   NaN   NaN  \n",
       "\n",
       "[2 rows x 67 columns]"
      ]
     },
     "execution_count": 17,
     "metadata": {},
     "output_type": "execute_result"
    }
   ],
   "source": [
    "korea_data = df3[df3['Country Name'].str.contains('Korea')]\n",
    "korea_data"
   ]
  },
  {
   "attachments": {},
   "cell_type": "markdown",
   "id": "fc1fa9f3",
   "metadata": {},
   "source": [
    "We are interested in Korea, Dem. People's Rep. and there is no data for Korea in this dataset so we will use the regional figures in its place"
   ]
  },
  {
   "cell_type": "code",
   "execution_count": 18,
   "id": "4a8c5f45",
   "metadata": {
    "scrolled": true
   },
   "outputs": [
    {
     "data": {
      "text/html": [
       "<div>\n",
       "<style scoped>\n",
       "    .dataframe tbody tr th:only-of-type {\n",
       "        vertical-align: middle;\n",
       "    }\n",
       "\n",
       "    .dataframe tbody tr th {\n",
       "        vertical-align: top;\n",
       "    }\n",
       "\n",
       "    .dataframe thead th {\n",
       "        text-align: right;\n",
       "    }\n",
       "</style>\n",
       "<table border=\"1\" class=\"dataframe\">\n",
       "  <thead>\n",
       "    <tr style=\"text-align: right;\">\n",
       "      <th></th>\n",
       "      <th>Country Name</th>\n",
       "      <th>Country Code</th>\n",
       "      <th>Indicator Name</th>\n",
       "      <th>Indicator Code</th>\n",
       "      <th>1960</th>\n",
       "      <th>1961</th>\n",
       "      <th>1962</th>\n",
       "      <th>1963</th>\n",
       "      <th>1964</th>\n",
       "      <th>1965</th>\n",
       "      <th>...</th>\n",
       "      <th>2013</th>\n",
       "      <th>2014</th>\n",
       "      <th>2015</th>\n",
       "      <th>2016</th>\n",
       "      <th>2017</th>\n",
       "      <th>2018</th>\n",
       "      <th>2019</th>\n",
       "      <th>2020</th>\n",
       "      <th>2021</th>\n",
       "      <th>2022</th>\n",
       "    </tr>\n",
       "  </thead>\n",
       "  <tbody>\n",
       "    <tr>\n",
       "      <th>61</th>\n",
       "      <td>East Asia &amp; Pacific (excluding high income)</td>\n",
       "      <td>EAP</td>\n",
       "      <td>Government expenditure on education, total (% ...</td>\n",
       "      <td>SE.XPD.TOTL.GB.ZS</td>\n",
       "      <td>NaN</td>\n",
       "      <td>NaN</td>\n",
       "      <td>NaN</td>\n",
       "      <td>NaN</td>\n",
       "      <td>NaN</td>\n",
       "      <td>NaN</td>\n",
       "      <td>...</td>\n",
       "      <td>16.301397</td>\n",
       "      <td>16.045906</td>\n",
       "      <td>15.317964</td>\n",
       "      <td>15.115435</td>\n",
       "      <td>14.256830</td>\n",
       "      <td>16.325880</td>\n",
       "      <td>15.521901</td>\n",
       "      <td>14.407170</td>\n",
       "      <td>15.276836</td>\n",
       "      <td>NaN</td>\n",
       "    </tr>\n",
       "    <tr>\n",
       "      <th>63</th>\n",
       "      <td>East Asia &amp; Pacific</td>\n",
       "      <td>EAS</td>\n",
       "      <td>Government expenditure on education, total (% ...</td>\n",
       "      <td>SE.XPD.TOTL.GB.ZS</td>\n",
       "      <td>NaN</td>\n",
       "      <td>NaN</td>\n",
       "      <td>NaN</td>\n",
       "      <td>NaN</td>\n",
       "      <td>NaN</td>\n",
       "      <td>NaN</td>\n",
       "      <td>...</td>\n",
       "      <td>16.422539</td>\n",
       "      <td>16.155823</td>\n",
       "      <td>15.317964</td>\n",
       "      <td>15.115435</td>\n",
       "      <td>14.695935</td>\n",
       "      <td>16.086915</td>\n",
       "      <td>13.930195</td>\n",
       "      <td>14.418585</td>\n",
       "      <td>14.754606</td>\n",
       "      <td>NaN</td>\n",
       "    </tr>\n",
       "    <tr>\n",
       "      <th>230</th>\n",
       "      <td>East Asia &amp; Pacific (IDA &amp; IBRD countries)</td>\n",
       "      <td>TEA</td>\n",
       "      <td>Government expenditure on education, total (% ...</td>\n",
       "      <td>SE.XPD.TOTL.GB.ZS</td>\n",
       "      <td>NaN</td>\n",
       "      <td>NaN</td>\n",
       "      <td>NaN</td>\n",
       "      <td>NaN</td>\n",
       "      <td>NaN</td>\n",
       "      <td>NaN</td>\n",
       "      <td>...</td>\n",
       "      <td>16.301397</td>\n",
       "      <td>16.045906</td>\n",
       "      <td>15.317964</td>\n",
       "      <td>15.115435</td>\n",
       "      <td>14.256830</td>\n",
       "      <td>16.325880</td>\n",
       "      <td>15.521901</td>\n",
       "      <td>14.407170</td>\n",
       "      <td>15.276836</td>\n",
       "      <td>NaN</td>\n",
       "    </tr>\n",
       "  </tbody>\n",
       "</table>\n",
       "<p>3 rows × 67 columns</p>\n",
       "</div>"
      ],
      "text/plain": [
       "                                    Country Name Country Code   \n",
       "61   East Asia & Pacific (excluding high income)          EAP  \\\n",
       "63                           East Asia & Pacific          EAS   \n",
       "230   East Asia & Pacific (IDA & IBRD countries)          TEA   \n",
       "\n",
       "                                        Indicator Name     Indicator Code   \n",
       "61   Government expenditure on education, total (% ...  SE.XPD.TOTL.GB.ZS  \\\n",
       "63   Government expenditure on education, total (% ...  SE.XPD.TOTL.GB.ZS   \n",
       "230  Government expenditure on education, total (% ...  SE.XPD.TOTL.GB.ZS   \n",
       "\n",
       "     1960  1961  1962  1963  1964  1965  ...       2013       2014       2015   \n",
       "61    NaN   NaN   NaN   NaN   NaN   NaN  ...  16.301397  16.045906  15.317964  \\\n",
       "63    NaN   NaN   NaN   NaN   NaN   NaN  ...  16.422539  16.155823  15.317964   \n",
       "230   NaN   NaN   NaN   NaN   NaN   NaN  ...  16.301397  16.045906  15.317964   \n",
       "\n",
       "          2016       2017       2018       2019       2020       2021  2022  \n",
       "61   15.115435  14.256830  16.325880  15.521901  14.407170  15.276836   NaN  \n",
       "63   15.115435  14.695935  16.086915  13.930195  14.418585  14.754606   NaN  \n",
       "230  15.115435  14.256830  16.325880  15.521901  14.407170  15.276836   NaN  \n",
       "\n",
       "[3 rows x 67 columns]"
      ]
     },
     "execution_count": 18,
     "metadata": {},
     "output_type": "execute_result"
    }
   ],
   "source": [
    "df3[df3['Country Name'].str.contains('East Asia')]"
   ]
  },
  {
   "attachments": {},
   "cell_type": "markdown",
   "id": "8861909f",
   "metadata": {},
   "source": [
    "We will go for the 'East Asia & Pacific' since we don't want to exclude high income"
   ]
  },
  {
   "cell_type": "code",
   "execution_count": 19,
   "id": "86622f07",
   "metadata": {},
   "outputs": [
    {
     "data": {
      "text/html": [
       "<div>\n",
       "<style scoped>\n",
       "    .dataframe tbody tr th:only-of-type {\n",
       "        vertical-align: middle;\n",
       "    }\n",
       "\n",
       "    .dataframe tbody tr th {\n",
       "        vertical-align: top;\n",
       "    }\n",
       "\n",
       "    .dataframe thead th {\n",
       "        text-align: right;\n",
       "    }\n",
       "</style>\n",
       "<table border=\"1\" class=\"dataframe\">\n",
       "  <thead>\n",
       "    <tr style=\"text-align: right;\">\n",
       "      <th></th>\n",
       "      <th>Country Name</th>\n",
       "      <th>Country Code</th>\n",
       "      <th>Indicator Name</th>\n",
       "      <th>Indicator Code</th>\n",
       "      <th>1960</th>\n",
       "      <th>1961</th>\n",
       "      <th>1962</th>\n",
       "      <th>1963</th>\n",
       "      <th>1964</th>\n",
       "      <th>1965</th>\n",
       "      <th>...</th>\n",
       "      <th>2013</th>\n",
       "      <th>2014</th>\n",
       "      <th>2015</th>\n",
       "      <th>2016</th>\n",
       "      <th>2017</th>\n",
       "      <th>2018</th>\n",
       "      <th>2019</th>\n",
       "      <th>2020</th>\n",
       "      <th>2021</th>\n",
       "      <th>2022</th>\n",
       "    </tr>\n",
       "  </thead>\n",
       "  <tbody>\n",
       "    <tr>\n",
       "      <th>63</th>\n",
       "      <td>East Asia &amp; Pacific</td>\n",
       "      <td>EAS</td>\n",
       "      <td>Government expenditure on education, total (% ...</td>\n",
       "      <td>SE.XPD.TOTL.GB.ZS</td>\n",
       "      <td>NaN</td>\n",
       "      <td>NaN</td>\n",
       "      <td>NaN</td>\n",
       "      <td>NaN</td>\n",
       "      <td>NaN</td>\n",
       "      <td>NaN</td>\n",
       "      <td>...</td>\n",
       "      <td>16.422539</td>\n",
       "      <td>16.155823</td>\n",
       "      <td>15.317964</td>\n",
       "      <td>15.115435</td>\n",
       "      <td>14.695935</td>\n",
       "      <td>16.086915</td>\n",
       "      <td>13.930195</td>\n",
       "      <td>14.418585</td>\n",
       "      <td>14.754606</td>\n",
       "      <td>NaN</td>\n",
       "    </tr>\n",
       "  </tbody>\n",
       "</table>\n",
       "<p>1 rows × 67 columns</p>\n",
       "</div>"
      ],
      "text/plain": [
       "           Country Name Country Code   \n",
       "63  East Asia & Pacific          EAS  \\\n",
       "\n",
       "                                       Indicator Name     Indicator Code   \n",
       "63  Government expenditure on education, total (% ...  SE.XPD.TOTL.GB.ZS  \\\n",
       "\n",
       "    1960  1961  1962  1963  1964  1965  ...       2013       2014       2015   \n",
       "63   NaN   NaN   NaN   NaN   NaN   NaN  ...  16.422539  16.155823  15.317964  \\\n",
       "\n",
       "         2016       2017       2018       2019       2020       2021  2022  \n",
       "63  15.115435  14.695935  16.086915  13.930195  14.418585  14.754606   NaN  \n",
       "\n",
       "[1 rows x 67 columns]"
      ]
     },
     "execution_count": 19,
     "metadata": {},
     "output_type": "execute_result"
    }
   ],
   "source": [
    "korean_data = df3[df3['Country Name'] == 'East Asia & Pacific']\n",
    "korean_data"
   ]
  },
  {
   "attachments": {},
   "cell_type": "markdown",
   "id": "a0034a2b",
   "metadata": {},
   "source": [
    "Let's check for our Cuban data"
   ]
  },
  {
   "cell_type": "code",
   "execution_count": 20,
   "id": "5f493eda",
   "metadata": {},
   "outputs": [
    {
     "data": {
      "text/html": [
       "<div>\n",
       "<style scoped>\n",
       "    .dataframe tbody tr th:only-of-type {\n",
       "        vertical-align: middle;\n",
       "    }\n",
       "\n",
       "    .dataframe tbody tr th {\n",
       "        vertical-align: top;\n",
       "    }\n",
       "\n",
       "    .dataframe thead th {\n",
       "        text-align: right;\n",
       "    }\n",
       "</style>\n",
       "<table border=\"1\" class=\"dataframe\">\n",
       "  <thead>\n",
       "    <tr style=\"text-align: right;\">\n",
       "      <th></th>\n",
       "      <th>Country Name</th>\n",
       "      <th>Country Code</th>\n",
       "      <th>Indicator Name</th>\n",
       "      <th>Indicator Code</th>\n",
       "      <th>1960</th>\n",
       "      <th>1961</th>\n",
       "      <th>1962</th>\n",
       "      <th>1963</th>\n",
       "      <th>1964</th>\n",
       "      <th>1965</th>\n",
       "      <th>...</th>\n",
       "      <th>2013</th>\n",
       "      <th>2014</th>\n",
       "      <th>2015</th>\n",
       "      <th>2016</th>\n",
       "      <th>2017</th>\n",
       "      <th>2018</th>\n",
       "      <th>2019</th>\n",
       "      <th>2020</th>\n",
       "      <th>2021</th>\n",
       "      <th>2022</th>\n",
       "    </tr>\n",
       "  </thead>\n",
       "  <tbody>\n",
       "    <tr>\n",
       "      <th>50</th>\n",
       "      <td>Cuba</td>\n",
       "      <td>CUB</td>\n",
       "      <td>Government expenditure on education, total (% ...</td>\n",
       "      <td>SE.XPD.TOTL.GB.ZS</td>\n",
       "      <td>NaN</td>\n",
       "      <td>NaN</td>\n",
       "      <td>NaN</td>\n",
       "      <td>NaN</td>\n",
       "      <td>NaN</td>\n",
       "      <td>NaN</td>\n",
       "      <td>...</td>\n",
       "      <td>16.519653</td>\n",
       "      <td>15.801738</td>\n",
       "      <td>15.263568</td>\n",
       "      <td>14.937566</td>\n",
       "      <td>13.564914</td>\n",
       "      <td>12.659974</td>\n",
       "      <td>14.225944</td>\n",
       "      <td>16.6611</td>\n",
       "      <td>NaN</td>\n",
       "      <td>NaN</td>\n",
       "    </tr>\n",
       "  </tbody>\n",
       "</table>\n",
       "<p>1 rows × 67 columns</p>\n",
       "</div>"
      ],
      "text/plain": [
       "   Country Name Country Code   \n",
       "50         Cuba          CUB  \\\n",
       "\n",
       "                                       Indicator Name     Indicator Code   \n",
       "50  Government expenditure on education, total (% ...  SE.XPD.TOTL.GB.ZS  \\\n",
       "\n",
       "    1960  1961  1962  1963  1964  1965  ...       2013       2014       2015   \n",
       "50   NaN   NaN   NaN   NaN   NaN   NaN  ...  16.519653  15.801738  15.263568  \\\n",
       "\n",
       "         2016       2017       2018       2019     2020  2021  2022  \n",
       "50  14.937566  13.564914  12.659974  14.225944  16.6611   NaN   NaN  \n",
       "\n",
       "[1 rows x 67 columns]"
      ]
     },
     "execution_count": 20,
     "metadata": {},
     "output_type": "execute_result"
    }
   ],
   "source": [
    "cuba_data = df3[df3['Country Name'] == 'Cuba']\n",
    "cuba_data"
   ]
  },
  {
   "attachments": {},
   "cell_type": "markdown",
   "id": "41139452",
   "metadata": {},
   "source": [
    "## Let's add both our Cuban and Korean figures to our filtered_df dataframe"
   ]
  },
  {
   "cell_type": "code",
   "execution_count": 21,
   "id": "cce77a2c",
   "metadata": {},
   "outputs": [],
   "source": [
    "cuba_data = cuba_data.copy()"
   ]
  },
  {
   "cell_type": "code",
   "execution_count": 22,
   "id": "666e2f81",
   "metadata": {},
   "outputs": [
    {
     "data": {
      "text/plain": [
       "Index(['Country Name', 'Country Code', 'Indicator Name', 'Indicator Code',\n",
       "       '1960', '1961', '1962', '1963', '1964', '1965', '1966', '1967', '1968',\n",
       "       '1969', '1970', '1971', '1972', '1973', '1974', '1975', '1976', '1977',\n",
       "       '1978', '1979', '1980', '1981', '1982', '1983', '1984', '1985', '1986',\n",
       "       '1987', '1988', '1989', '1990', '1991', '1992', '1993', '1994', '1995',\n",
       "       '1996', '1997', '1998', '1999', '2000', '2001', '2002', '2003', '2004',\n",
       "       '2005', '2006', '2007', '2008', '2009', '2010', '2011', '2012', '2013',\n",
       "       '2014', '2015', '2016', '2017', '2018', '2019', '2020', '2021', '2022'],\n",
       "      dtype='object')"
      ]
     },
     "execution_count": 22,
     "metadata": {},
     "output_type": "execute_result"
    }
   ],
   "source": [
    "cuba_data.columns"
   ]
  },
  {
   "attachments": {},
   "cell_type": "markdown",
   "id": "63750e0e",
   "metadata": {},
   "source": [
    "### Cleaning the Cuban data "
   ]
  },
  {
   "attachments": {},
   "cell_type": "markdown",
   "id": "190ac626",
   "metadata": {},
   "source": [
    "First we will drop the columns that do not suit our given range"
   ]
  },
  {
   "cell_type": "code",
   "execution_count": 23,
   "id": "ebeeea07",
   "metadata": {},
   "outputs": [],
   "source": [
    "cuba_data.drop(cuba_data.columns[cuba_data.columns < '2000'], axis=1, inplace=True)"
   ]
  },
  {
   "attachments": {},
   "cell_type": "markdown",
   "id": "68f128e7",
   "metadata": {},
   "source": [
    "Let's check the columns with the years before 2000 have been dropped correctly"
   ]
  },
  {
   "cell_type": "code",
   "execution_count": 24,
   "id": "668b977b",
   "metadata": {},
   "outputs": [
    {
     "data": {
      "text/plain": [
       "Index(['Country Name', 'Country Code', 'Indicator Name', 'Indicator Code',\n",
       "       '2000', '2001', '2002', '2003', '2004', '2005', '2006', '2007', '2008',\n",
       "       '2009', '2010', '2011', '2012', '2013', '2014', '2015', '2016', '2017',\n",
       "       '2018', '2019', '2020', '2021', '2022'],\n",
       "      dtype='object')"
      ]
     },
     "execution_count": 24,
     "metadata": {},
     "output_type": "execute_result"
    }
   ],
   "source": [
    "cuba_data.columns"
   ]
  },
  {
   "attachments": {},
   "cell_type": "markdown",
   "id": "eb530bba",
   "metadata": {},
   "source": [
    "We need to melt the columns to mirror the format of our filtered_df dataframe"
   ]
  },
  {
   "cell_type": "code",
   "execution_count": 25,
   "id": "96e97993",
   "metadata": {},
   "outputs": [],
   "source": [
    "# # Rename the columns\n",
    "cuba_data = cuba_data.rename(columns={'Country Name': 'Country', 'Country Code': 'Code', 'Indicator Name': 'Indicator', 'Indicator Code': 'Indicator Code'})\n",
    "\n",
    "# Perform melt\n",
    "cuba_data = cuba_data.melt(id_vars=['Country', 'Code'], value_vars = ['2000', '2001', '2002', '2003', '2004', '2005', '2006', '2007', '2008', '2009', '2010', '2011', '2012', '2013', '2014', '2015', '2016', '2017','2018', '2019', '2020', '2021', '2022'], \n",
    "                                                                      var_name='Year', value_name='Gvt_Exp_on_Education')"
   ]
  },
  {
   "cell_type": "code",
   "execution_count": 26,
   "id": "480e68c8",
   "metadata": {},
   "outputs": [
    {
     "data": {
      "text/html": [
       "<div>\n",
       "<style scoped>\n",
       "    .dataframe tbody tr th:only-of-type {\n",
       "        vertical-align: middle;\n",
       "    }\n",
       "\n",
       "    .dataframe tbody tr th {\n",
       "        vertical-align: top;\n",
       "    }\n",
       "\n",
       "    .dataframe thead th {\n",
       "        text-align: right;\n",
       "    }\n",
       "</style>\n",
       "<table border=\"1\" class=\"dataframe\">\n",
       "  <thead>\n",
       "    <tr style=\"text-align: right;\">\n",
       "      <th></th>\n",
       "      <th>Country</th>\n",
       "      <th>Code</th>\n",
       "      <th>Year</th>\n",
       "      <th>Gvt_Exp_on_Education</th>\n",
       "    </tr>\n",
       "  </thead>\n",
       "  <tbody>\n",
       "    <tr>\n",
       "      <th>0</th>\n",
       "      <td>Cuba</td>\n",
       "      <td>CUB</td>\n",
       "      <td>2000</td>\n",
       "      <td>NaN</td>\n",
       "    </tr>\n",
       "    <tr>\n",
       "      <th>1</th>\n",
       "      <td>Cuba</td>\n",
       "      <td>CUB</td>\n",
       "      <td>2001</td>\n",
       "      <td>NaN</td>\n",
       "    </tr>\n",
       "    <tr>\n",
       "      <th>2</th>\n",
       "      <td>Cuba</td>\n",
       "      <td>CUB</td>\n",
       "      <td>2002</td>\n",
       "      <td>NaN</td>\n",
       "    </tr>\n",
       "    <tr>\n",
       "      <th>3</th>\n",
       "      <td>Cuba</td>\n",
       "      <td>CUB</td>\n",
       "      <td>2003</td>\n",
       "      <td>NaN</td>\n",
       "    </tr>\n",
       "    <tr>\n",
       "      <th>4</th>\n",
       "      <td>Cuba</td>\n",
       "      <td>CUB</td>\n",
       "      <td>2004</td>\n",
       "      <td>NaN</td>\n",
       "    </tr>\n",
       "    <tr>\n",
       "      <th>5</th>\n",
       "      <td>Cuba</td>\n",
       "      <td>CUB</td>\n",
       "      <td>2005</td>\n",
       "      <td>NaN</td>\n",
       "    </tr>\n",
       "    <tr>\n",
       "      <th>6</th>\n",
       "      <td>Cuba</td>\n",
       "      <td>CUB</td>\n",
       "      <td>2006</td>\n",
       "      <td>NaN</td>\n",
       "    </tr>\n",
       "    <tr>\n",
       "      <th>7</th>\n",
       "      <td>Cuba</td>\n",
       "      <td>CUB</td>\n",
       "      <td>2007</td>\n",
       "      <td>NaN</td>\n",
       "    </tr>\n",
       "    <tr>\n",
       "      <th>8</th>\n",
       "      <td>Cuba</td>\n",
       "      <td>CUB</td>\n",
       "      <td>2008</td>\n",
       "      <td>NaN</td>\n",
       "    </tr>\n",
       "    <tr>\n",
       "      <th>9</th>\n",
       "      <td>Cuba</td>\n",
       "      <td>CUB</td>\n",
       "      <td>2009</td>\n",
       "      <td>NaN</td>\n",
       "    </tr>\n",
       "    <tr>\n",
       "      <th>10</th>\n",
       "      <td>Cuba</td>\n",
       "      <td>CUB</td>\n",
       "      <td>2010</td>\n",
       "      <td>NaN</td>\n",
       "    </tr>\n",
       "    <tr>\n",
       "      <th>11</th>\n",
       "      <td>Cuba</td>\n",
       "      <td>CUB</td>\n",
       "      <td>2011</td>\n",
       "      <td>NaN</td>\n",
       "    </tr>\n",
       "    <tr>\n",
       "      <th>12</th>\n",
       "      <td>Cuba</td>\n",
       "      <td>CUB</td>\n",
       "      <td>2012</td>\n",
       "      <td>16.478830</td>\n",
       "    </tr>\n",
       "    <tr>\n",
       "      <th>13</th>\n",
       "      <td>Cuba</td>\n",
       "      <td>CUB</td>\n",
       "      <td>2013</td>\n",
       "      <td>16.519653</td>\n",
       "    </tr>\n",
       "    <tr>\n",
       "      <th>14</th>\n",
       "      <td>Cuba</td>\n",
       "      <td>CUB</td>\n",
       "      <td>2014</td>\n",
       "      <td>15.801738</td>\n",
       "    </tr>\n",
       "    <tr>\n",
       "      <th>15</th>\n",
       "      <td>Cuba</td>\n",
       "      <td>CUB</td>\n",
       "      <td>2015</td>\n",
       "      <td>15.263568</td>\n",
       "    </tr>\n",
       "    <tr>\n",
       "      <th>16</th>\n",
       "      <td>Cuba</td>\n",
       "      <td>CUB</td>\n",
       "      <td>2016</td>\n",
       "      <td>14.937566</td>\n",
       "    </tr>\n",
       "    <tr>\n",
       "      <th>17</th>\n",
       "      <td>Cuba</td>\n",
       "      <td>CUB</td>\n",
       "      <td>2017</td>\n",
       "      <td>13.564914</td>\n",
       "    </tr>\n",
       "    <tr>\n",
       "      <th>18</th>\n",
       "      <td>Cuba</td>\n",
       "      <td>CUB</td>\n",
       "      <td>2018</td>\n",
       "      <td>12.659974</td>\n",
       "    </tr>\n",
       "    <tr>\n",
       "      <th>19</th>\n",
       "      <td>Cuba</td>\n",
       "      <td>CUB</td>\n",
       "      <td>2019</td>\n",
       "      <td>14.225944</td>\n",
       "    </tr>\n",
       "    <tr>\n",
       "      <th>20</th>\n",
       "      <td>Cuba</td>\n",
       "      <td>CUB</td>\n",
       "      <td>2020</td>\n",
       "      <td>16.661100</td>\n",
       "    </tr>\n",
       "    <tr>\n",
       "      <th>21</th>\n",
       "      <td>Cuba</td>\n",
       "      <td>CUB</td>\n",
       "      <td>2021</td>\n",
       "      <td>NaN</td>\n",
       "    </tr>\n",
       "    <tr>\n",
       "      <th>22</th>\n",
       "      <td>Cuba</td>\n",
       "      <td>CUB</td>\n",
       "      <td>2022</td>\n",
       "      <td>NaN</td>\n",
       "    </tr>\n",
       "  </tbody>\n",
       "</table>\n",
       "</div>"
      ],
      "text/plain": [
       "   Country Code  Year  Gvt_Exp_on_Education\n",
       "0     Cuba  CUB  2000                   NaN\n",
       "1     Cuba  CUB  2001                   NaN\n",
       "2     Cuba  CUB  2002                   NaN\n",
       "3     Cuba  CUB  2003                   NaN\n",
       "4     Cuba  CUB  2004                   NaN\n",
       "5     Cuba  CUB  2005                   NaN\n",
       "6     Cuba  CUB  2006                   NaN\n",
       "7     Cuba  CUB  2007                   NaN\n",
       "8     Cuba  CUB  2008                   NaN\n",
       "9     Cuba  CUB  2009                   NaN\n",
       "10    Cuba  CUB  2010                   NaN\n",
       "11    Cuba  CUB  2011                   NaN\n",
       "12    Cuba  CUB  2012             16.478830\n",
       "13    Cuba  CUB  2013             16.519653\n",
       "14    Cuba  CUB  2014             15.801738\n",
       "15    Cuba  CUB  2015             15.263568\n",
       "16    Cuba  CUB  2016             14.937566\n",
       "17    Cuba  CUB  2017             13.564914\n",
       "18    Cuba  CUB  2018             12.659974\n",
       "19    Cuba  CUB  2019             14.225944\n",
       "20    Cuba  CUB  2020             16.661100\n",
       "21    Cuba  CUB  2021                   NaN\n",
       "22    Cuba  CUB  2022                   NaN"
      ]
     },
     "execution_count": 26,
     "metadata": {},
     "output_type": "execute_result"
    }
   ],
   "source": [
    "cuba_data"
   ]
  },
  {
   "attachments": {},
   "cell_type": "markdown",
   "id": "c5697438",
   "metadata": {},
   "source": [
    "### Cleaning the Korea data \n",
    "Following the same steps that we did for the Cuban dataset"
   ]
  },
  {
   "cell_type": "code",
   "execution_count": 27,
   "id": "cd1d5047",
   "metadata": {},
   "outputs": [],
   "source": [
    "korean_data = korean_data.copy()"
   ]
  },
  {
   "cell_type": "code",
   "execution_count": 28,
   "id": "019d0628",
   "metadata": {
    "scrolled": true
   },
   "outputs": [],
   "source": [
    "korean_data.drop(korean_data.columns[korean_data.columns < '2000'], axis=1, inplace=True)"
   ]
  },
  {
   "cell_type": "code",
   "execution_count": 29,
   "id": "1d02eaa9",
   "metadata": {},
   "outputs": [
    {
     "data": {
      "text/plain": [
       "Index(['Country Name', 'Country Code', 'Indicator Name', 'Indicator Code',\n",
       "       '2000', '2001', '2002', '2003', '2004', '2005', '2006', '2007', '2008',\n",
       "       '2009', '2010', '2011', '2012', '2013', '2014', '2015', '2016', '2017',\n",
       "       '2018', '2019', '2020', '2021', '2022'],\n",
       "      dtype='object')"
      ]
     },
     "execution_count": 29,
     "metadata": {},
     "output_type": "execute_result"
    }
   ],
   "source": [
    "korean_data.columns"
   ]
  },
  {
   "cell_type": "code",
   "execution_count": 30,
   "id": "540c7b67",
   "metadata": {},
   "outputs": [],
   "source": [
    "# # Rename the columns\n",
    "korean_data = korean_data.rename(columns={'Country Name': 'Country', 'Country Code': 'Code', 'Indicator Name': 'Indicator', 'Indicator Code': 'Indicator Code'})\n",
    "\n",
    "# Perform melt operation\n",
    "korean_data = korean_data.melt(id_vars=['Country', 'Code'], value_vars = ['2000', '2001', '2002', '2003', '2004', '2005', '2006', '2007', '2008', '2009', '2010', '2011', '2012', '2013', '2014', '2015', '2016', '2017','2018', '2019', '2020', '2021', '2022'], \n",
    "                                                                      var_name='Year', value_name='Gvt_Exp_on_Education')"
   ]
  },
  {
   "cell_type": "code",
   "execution_count": 31,
   "id": "e0f9f390",
   "metadata": {},
   "outputs": [
    {
     "data": {
      "text/html": [
       "<div>\n",
       "<style scoped>\n",
       "    .dataframe tbody tr th:only-of-type {\n",
       "        vertical-align: middle;\n",
       "    }\n",
       "\n",
       "    .dataframe tbody tr th {\n",
       "        vertical-align: top;\n",
       "    }\n",
       "\n",
       "    .dataframe thead th {\n",
       "        text-align: right;\n",
       "    }\n",
       "</style>\n",
       "<table border=\"1\" class=\"dataframe\">\n",
       "  <thead>\n",
       "    <tr style=\"text-align: right;\">\n",
       "      <th></th>\n",
       "      <th>Country</th>\n",
       "      <th>Code</th>\n",
       "      <th>Year</th>\n",
       "      <th>Gvt_Exp_on_Education</th>\n",
       "    </tr>\n",
       "  </thead>\n",
       "  <tbody>\n",
       "    <tr>\n",
       "      <th>0</th>\n",
       "      <td>East Asia &amp; Pacific</td>\n",
       "      <td>EAS</td>\n",
       "      <td>2000</td>\n",
       "      <td>NaN</td>\n",
       "    </tr>\n",
       "    <tr>\n",
       "      <th>1</th>\n",
       "      <td>East Asia &amp; Pacific</td>\n",
       "      <td>EAS</td>\n",
       "      <td>2001</td>\n",
       "      <td>NaN</td>\n",
       "    </tr>\n",
       "    <tr>\n",
       "      <th>2</th>\n",
       "      <td>East Asia &amp; Pacific</td>\n",
       "      <td>EAS</td>\n",
       "      <td>2002</td>\n",
       "      <td>16.497231</td>\n",
       "    </tr>\n",
       "    <tr>\n",
       "      <th>3</th>\n",
       "      <td>East Asia &amp; Pacific</td>\n",
       "      <td>EAS</td>\n",
       "      <td>2003</td>\n",
       "      <td>NaN</td>\n",
       "    </tr>\n",
       "    <tr>\n",
       "      <th>4</th>\n",
       "      <td>East Asia &amp; Pacific</td>\n",
       "      <td>EAS</td>\n",
       "      <td>2004</td>\n",
       "      <td>16.439480</td>\n",
       "    </tr>\n",
       "    <tr>\n",
       "      <th>5</th>\n",
       "      <td>East Asia &amp; Pacific</td>\n",
       "      <td>EAS</td>\n",
       "      <td>2005</td>\n",
       "      <td>NaN</td>\n",
       "    </tr>\n",
       "    <tr>\n",
       "      <th>6</th>\n",
       "      <td>East Asia &amp; Pacific</td>\n",
       "      <td>EAS</td>\n",
       "      <td>2006</td>\n",
       "      <td>NaN</td>\n",
       "    </tr>\n",
       "    <tr>\n",
       "      <th>7</th>\n",
       "      <td>East Asia &amp; Pacific</td>\n",
       "      <td>EAS</td>\n",
       "      <td>2007</td>\n",
       "      <td>14.964565</td>\n",
       "    </tr>\n",
       "    <tr>\n",
       "      <th>8</th>\n",
       "      <td>East Asia &amp; Pacific</td>\n",
       "      <td>EAS</td>\n",
       "      <td>2008</td>\n",
       "      <td>14.188845</td>\n",
       "    </tr>\n",
       "    <tr>\n",
       "      <th>9</th>\n",
       "      <td>East Asia &amp; Pacific</td>\n",
       "      <td>EAS</td>\n",
       "      <td>2009</td>\n",
       "      <td>14.511420</td>\n",
       "    </tr>\n",
       "    <tr>\n",
       "      <th>10</th>\n",
       "      <td>East Asia &amp; Pacific</td>\n",
       "      <td>EAS</td>\n",
       "      <td>2010</td>\n",
       "      <td>14.962090</td>\n",
       "    </tr>\n",
       "    <tr>\n",
       "      <th>11</th>\n",
       "      <td>East Asia &amp; Pacific</td>\n",
       "      <td>EAS</td>\n",
       "      <td>2011</td>\n",
       "      <td>14.623970</td>\n",
       "    </tr>\n",
       "    <tr>\n",
       "      <th>12</th>\n",
       "      <td>East Asia &amp; Pacific</td>\n",
       "      <td>EAS</td>\n",
       "      <td>2012</td>\n",
       "      <td>16.301448</td>\n",
       "    </tr>\n",
       "    <tr>\n",
       "      <th>13</th>\n",
       "      <td>East Asia &amp; Pacific</td>\n",
       "      <td>EAS</td>\n",
       "      <td>2013</td>\n",
       "      <td>16.422539</td>\n",
       "    </tr>\n",
       "    <tr>\n",
       "      <th>14</th>\n",
       "      <td>East Asia &amp; Pacific</td>\n",
       "      <td>EAS</td>\n",
       "      <td>2014</td>\n",
       "      <td>16.155823</td>\n",
       "    </tr>\n",
       "    <tr>\n",
       "      <th>15</th>\n",
       "      <td>East Asia &amp; Pacific</td>\n",
       "      <td>EAS</td>\n",
       "      <td>2015</td>\n",
       "      <td>15.317964</td>\n",
       "    </tr>\n",
       "    <tr>\n",
       "      <th>16</th>\n",
       "      <td>East Asia &amp; Pacific</td>\n",
       "      <td>EAS</td>\n",
       "      <td>2016</td>\n",
       "      <td>15.115435</td>\n",
       "    </tr>\n",
       "    <tr>\n",
       "      <th>17</th>\n",
       "      <td>East Asia &amp; Pacific</td>\n",
       "      <td>EAS</td>\n",
       "      <td>2017</td>\n",
       "      <td>14.695935</td>\n",
       "    </tr>\n",
       "    <tr>\n",
       "      <th>18</th>\n",
       "      <td>East Asia &amp; Pacific</td>\n",
       "      <td>EAS</td>\n",
       "      <td>2018</td>\n",
       "      <td>16.086915</td>\n",
       "    </tr>\n",
       "    <tr>\n",
       "      <th>19</th>\n",
       "      <td>East Asia &amp; Pacific</td>\n",
       "      <td>EAS</td>\n",
       "      <td>2019</td>\n",
       "      <td>13.930195</td>\n",
       "    </tr>\n",
       "    <tr>\n",
       "      <th>20</th>\n",
       "      <td>East Asia &amp; Pacific</td>\n",
       "      <td>EAS</td>\n",
       "      <td>2020</td>\n",
       "      <td>14.418585</td>\n",
       "    </tr>\n",
       "    <tr>\n",
       "      <th>21</th>\n",
       "      <td>East Asia &amp; Pacific</td>\n",
       "      <td>EAS</td>\n",
       "      <td>2021</td>\n",
       "      <td>14.754606</td>\n",
       "    </tr>\n",
       "    <tr>\n",
       "      <th>22</th>\n",
       "      <td>East Asia &amp; Pacific</td>\n",
       "      <td>EAS</td>\n",
       "      <td>2022</td>\n",
       "      <td>NaN</td>\n",
       "    </tr>\n",
       "  </tbody>\n",
       "</table>\n",
       "</div>"
      ],
      "text/plain": [
       "                Country Code  Year  Gvt_Exp_on_Education\n",
       "0   East Asia & Pacific  EAS  2000                   NaN\n",
       "1   East Asia & Pacific  EAS  2001                   NaN\n",
       "2   East Asia & Pacific  EAS  2002             16.497231\n",
       "3   East Asia & Pacific  EAS  2003                   NaN\n",
       "4   East Asia & Pacific  EAS  2004             16.439480\n",
       "5   East Asia & Pacific  EAS  2005                   NaN\n",
       "6   East Asia & Pacific  EAS  2006                   NaN\n",
       "7   East Asia & Pacific  EAS  2007             14.964565\n",
       "8   East Asia & Pacific  EAS  2008             14.188845\n",
       "9   East Asia & Pacific  EAS  2009             14.511420\n",
       "10  East Asia & Pacific  EAS  2010             14.962090\n",
       "11  East Asia & Pacific  EAS  2011             14.623970\n",
       "12  East Asia & Pacific  EAS  2012             16.301448\n",
       "13  East Asia & Pacific  EAS  2013             16.422539\n",
       "14  East Asia & Pacific  EAS  2014             16.155823\n",
       "15  East Asia & Pacific  EAS  2015             15.317964\n",
       "16  East Asia & Pacific  EAS  2016             15.115435\n",
       "17  East Asia & Pacific  EAS  2017             14.695935\n",
       "18  East Asia & Pacific  EAS  2018             16.086915\n",
       "19  East Asia & Pacific  EAS  2019             13.930195\n",
       "20  East Asia & Pacific  EAS  2020             14.418585\n",
       "21  East Asia & Pacific  EAS  2021             14.754606\n",
       "22  East Asia & Pacific  EAS  2022                   NaN"
      ]
     },
     "execution_count": 31,
     "metadata": {},
     "output_type": "execute_result"
    }
   ],
   "source": [
    "korean_data"
   ]
  },
  {
   "attachments": {},
   "cell_type": "markdown",
   "id": "b2cc6a0f",
   "metadata": {},
   "source": [
    "Now we need to add these figures onto our filtered_df dataframe using .concat()"
   ]
  },
  {
   "cell_type": "code",
   "execution_count": 32,
   "id": "e75bdc28",
   "metadata": {
    "scrolled": true
   },
   "outputs": [
    {
     "data": {
      "text/html": [
       "<div>\n",
       "<style scoped>\n",
       "    .dataframe tbody tr th:only-of-type {\n",
       "        vertical-align: middle;\n",
       "    }\n",
       "\n",
       "    .dataframe tbody tr th {\n",
       "        vertical-align: top;\n",
       "    }\n",
       "\n",
       "    .dataframe thead th {\n",
       "        text-align: right;\n",
       "    }\n",
       "</style>\n",
       "<table border=\"1\" class=\"dataframe\">\n",
       "  <thead>\n",
       "    <tr style=\"text-align: right;\">\n",
       "      <th></th>\n",
       "      <th>Country</th>\n",
       "      <th>Code</th>\n",
       "      <th>Year</th>\n",
       "      <th>Gvt_Exp_on_Education</th>\n",
       "    </tr>\n",
       "  </thead>\n",
       "  <tbody>\n",
       "    <tr>\n",
       "      <th>0</th>\n",
       "      <td>Afghanistan</td>\n",
       "      <td>AFG</td>\n",
       "      <td>2010</td>\n",
       "      <td>17.067560</td>\n",
       "    </tr>\n",
       "    <tr>\n",
       "      <th>1</th>\n",
       "      <td>Afghanistan</td>\n",
       "      <td>AFG</td>\n",
       "      <td>2011</td>\n",
       "      <td>16.048429</td>\n",
       "    </tr>\n",
       "    <tr>\n",
       "      <th>2</th>\n",
       "      <td>Afghanistan</td>\n",
       "      <td>AFG</td>\n",
       "      <td>2013</td>\n",
       "      <td>14.102800</td>\n",
       "    </tr>\n",
       "    <tr>\n",
       "      <th>3</th>\n",
       "      <td>Afghanistan</td>\n",
       "      <td>AFG</td>\n",
       "      <td>2014</td>\n",
       "      <td>14.465930</td>\n",
       "    </tr>\n",
       "    <tr>\n",
       "      <th>4</th>\n",
       "      <td>Afghanistan</td>\n",
       "      <td>AFG</td>\n",
       "      <td>2015</td>\n",
       "      <td>12.509000</td>\n",
       "    </tr>\n",
       "    <tr>\n",
       "      <th>...</th>\n",
       "      <td>...</td>\n",
       "      <td>...</td>\n",
       "      <td>...</td>\n",
       "      <td>...</td>\n",
       "    </tr>\n",
       "    <tr>\n",
       "      <th>203</th>\n",
       "      <td>East Asia &amp; Pacific</td>\n",
       "      <td>EAS</td>\n",
       "      <td>2018</td>\n",
       "      <td>16.086915</td>\n",
       "    </tr>\n",
       "    <tr>\n",
       "      <th>204</th>\n",
       "      <td>East Asia &amp; Pacific</td>\n",
       "      <td>EAS</td>\n",
       "      <td>2019</td>\n",
       "      <td>13.930195</td>\n",
       "    </tr>\n",
       "    <tr>\n",
       "      <th>205</th>\n",
       "      <td>East Asia &amp; Pacific</td>\n",
       "      <td>EAS</td>\n",
       "      <td>2020</td>\n",
       "      <td>14.418585</td>\n",
       "    </tr>\n",
       "    <tr>\n",
       "      <th>206</th>\n",
       "      <td>East Asia &amp; Pacific</td>\n",
       "      <td>EAS</td>\n",
       "      <td>2021</td>\n",
       "      <td>14.754606</td>\n",
       "    </tr>\n",
       "    <tr>\n",
       "      <th>207</th>\n",
       "      <td>East Asia &amp; Pacific</td>\n",
       "      <td>EAS</td>\n",
       "      <td>2022</td>\n",
       "      <td>NaN</td>\n",
       "    </tr>\n",
       "  </tbody>\n",
       "</table>\n",
       "<p>208 rows × 4 columns</p>\n",
       "</div>"
      ],
      "text/plain": [
       "                 Country Code  Year  Gvt_Exp_on_Education\n",
       "0            Afghanistan  AFG  2010             17.067560\n",
       "1            Afghanistan  AFG  2011             16.048429\n",
       "2            Afghanistan  AFG  2013             14.102800\n",
       "3            Afghanistan  AFG  2014             14.465930\n",
       "4            Afghanistan  AFG  2015             12.509000\n",
       "..                   ...  ...   ...                   ...\n",
       "203  East Asia & Pacific  EAS  2018             16.086915\n",
       "204  East Asia & Pacific  EAS  2019             13.930195\n",
       "205  East Asia & Pacific  EAS  2020             14.418585\n",
       "206  East Asia & Pacific  EAS  2021             14.754606\n",
       "207  East Asia & Pacific  EAS  2022                   NaN\n",
       "\n",
       "[208 rows x 4 columns]"
      ]
     },
     "execution_count": 32,
     "metadata": {},
     "output_type": "execute_result"
    }
   ],
   "source": [
    "# Concatenate the two DataFrames\n",
    "combined_df = pd.concat([filtered_df, cuba_data, korean_data])\n",
    "\n",
    "#Reset the index of the combined DataFrame\n",
    "combined_df = combined_df.reset_index(drop=True)\n",
    "\n",
    "combined_df"
   ]
  },
  {
   "cell_type": "code",
   "execution_count": 33,
   "id": "03fcb2f1",
   "metadata": {},
   "outputs": [
    {
     "name": "stdout",
     "output_type": "stream",
     "text": [
      "Number of unique countries: 10\n"
     ]
    }
   ],
   "source": [
    "unique_countries = combined_df['Country'].nunique()\n",
    "print(\"Number of unique countries:\", unique_countries)"
   ]
  },
  {
   "attachments": {},
   "cell_type": "markdown",
   "id": "83cc3f1c",
   "metadata": {},
   "source": [
    "We now have all of our ten countries in one dataframe"
   ]
  },
  {
   "attachments": {},
   "cell_type": "markdown",
   "id": "10a1a8bd",
   "metadata": {},
   "source": [
    "### Looking at our filtered dataset"
   ]
  },
  {
   "attachments": {},
   "cell_type": "markdown",
   "id": "9143d530",
   "metadata": {},
   "source": [
    "Let's change the 'East Asia & Pacific' value to 'Korea, Dem. People's Rep.'"
   ]
  },
  {
   "cell_type": "code",
   "execution_count": 34,
   "id": "cda6ad76",
   "metadata": {},
   "outputs": [],
   "source": [
    "combined_df['Country'] = combined_df['Country'].replace('East Asia & Pacific', \"Korea, Dem. People's Rep.\")"
   ]
  },
  {
   "attachments": {},
   "cell_type": "markdown",
   "id": "e9ccd587",
   "metadata": {},
   "source": [
    "Let's check the data types of the columns "
   ]
  },
  {
   "cell_type": "code",
   "execution_count": 35,
   "id": "a8ddca46",
   "metadata": {},
   "outputs": [
    {
     "data": {
      "text/plain": [
       "Country                  object\n",
       "Code                     object\n",
       "Year                     object\n",
       "Gvt_Exp_on_Education    float64\n",
       "dtype: object"
      ]
     },
     "execution_count": 35,
     "metadata": {},
     "output_type": "execute_result"
    }
   ],
   "source": [
    "combined_df.dtypes"
   ]
  },
  {
   "attachments": {},
   "cell_type": "markdown",
   "id": "3a24a3ba",
   "metadata": {},
   "source": [
    "Let's change the year column into an integer data type"
   ]
  },
  {
   "cell_type": "code",
   "execution_count": 36,
   "id": "4a9ce5ce",
   "metadata": {},
   "outputs": [],
   "source": [
    "combined_df['Year'] = combined_df['Year'].astype(int)"
   ]
  },
  {
   "attachments": {},
   "cell_type": "markdown",
   "id": "3d18390a",
   "metadata": {},
   "source": [
    "By looking at the .min() of the data we can see that the data starts from 1991"
   ]
  },
  {
   "cell_type": "code",
   "execution_count": 37,
   "id": "343b387b",
   "metadata": {},
   "outputs": [
    {
     "name": "stdout",
     "output_type": "stream",
     "text": [
      "The minimum year is 1991\n",
      "The maximum year is 2022\n"
     ]
    }
   ],
   "source": [
    "print(\"The minimum year is\", combined_df['Year'].min())\n",
    "print(\"The maximum year is\",combined_df['Year'].max())"
   ]
  },
  {
   "attachments": {},
   "cell_type": "markdown",
   "id": "b38e6a77",
   "metadata": {},
   "source": [
    "Since we are only looking at data from 2000 - 2021, we'll need to get rid of any rows from 1997 to 1999 and after 2021"
   ]
  },
  {
   "cell_type": "code",
   "execution_count": 38,
   "id": "880df684",
   "metadata": {},
   "outputs": [],
   "source": [
    "combined_df = combined_df[combined_df['Year'] > 1999]\n",
    "combined_df = combined_df.loc[combined_df['Year'] <= 2021]\n",
    "combined_df = combined_df.reset_index(drop=True)"
   ]
  },
  {
   "attachments": {},
   "cell_type": "markdown",
   "id": "995017d9",
   "metadata": {},
   "source": [
    "Let's check to see what year the dataset now starts from"
   ]
  },
  {
   "cell_type": "code",
   "execution_count": 39,
   "id": "07a0a2c5",
   "metadata": {
    "scrolled": true
   },
   "outputs": [
    {
     "name": "stdout",
     "output_type": "stream",
     "text": [
      "The minimum year is 2000\n",
      "The maximum year is 2021\n"
     ]
    }
   ],
   "source": [
    "print(\"The minimum year is\", combined_df['Year'].min())\n",
    "print(\"The maximum year is\",combined_df['Year'].max())"
   ]
  },
  {
   "attachments": {},
   "cell_type": "markdown",
   "id": "8771a9e7",
   "metadata": {},
   "source": [
    "Not all of the countries in our chosen 10 have the same year range, so we'll have to see what the time span is for each country "
   ]
  },
  {
   "cell_type": "code",
   "execution_count": 40,
   "id": "9b85b09b",
   "metadata": {},
   "outputs": [
    {
     "data": {
      "text/plain": [
       "Country\n",
       "Afghanistan                  11\n",
       "Chad                         16\n",
       "Cuba                         22\n",
       "Estonia                      18\n",
       "Guinea                       20\n",
       "Korea, Dem. People's Rep.    22\n",
       "Latvia                       18\n",
       "Lithuania                    18\n",
       "Mali                         20\n",
       "Niger                        20\n",
       "Name: Year, dtype: int64"
      ]
     },
     "execution_count": 40,
     "metadata": {},
     "output_type": "execute_result"
    }
   ],
   "source": [
    "country_year_count = combined_df.groupby('Country')['Year'].count()\n",
    "country_year_count"
   ]
  },
  {
   "attachments": {},
   "cell_type": "markdown",
   "id": "76c43a01",
   "metadata": {},
   "source": [
    "The highest amount of years is 21 and the lowest is 11, this is not too much of a range, so we can proceed"
   ]
  },
  {
   "attachments": {},
   "cell_type": "markdown",
   "id": "19a16861",
   "metadata": {},
   "source": [
    "## Cleaning the data "
   ]
  },
  {
   "cell_type": "code",
   "execution_count": 41,
   "id": "3936e5a2",
   "metadata": {},
   "outputs": [
    {
     "data": {
      "text/html": [
       "<div>\n",
       "<style scoped>\n",
       "    .dataframe tbody tr th:only-of-type {\n",
       "        vertical-align: middle;\n",
       "    }\n",
       "\n",
       "    .dataframe tbody tr th {\n",
       "        vertical-align: top;\n",
       "    }\n",
       "\n",
       "    .dataframe thead th {\n",
       "        text-align: right;\n",
       "    }\n",
       "</style>\n",
       "<table border=\"1\" class=\"dataframe\">\n",
       "  <thead>\n",
       "    <tr style=\"text-align: right;\">\n",
       "      <th></th>\n",
       "      <th>Country</th>\n",
       "      <th>Gvt_Exp_on_Education</th>\n",
       "    </tr>\n",
       "  </thead>\n",
       "  <tbody>\n",
       "    <tr>\n",
       "      <th>141</th>\n",
       "      <td>Cuba</td>\n",
       "      <td>NaN</td>\n",
       "    </tr>\n",
       "    <tr>\n",
       "      <th>142</th>\n",
       "      <td>Cuba</td>\n",
       "      <td>NaN</td>\n",
       "    </tr>\n",
       "    <tr>\n",
       "      <th>143</th>\n",
       "      <td>Cuba</td>\n",
       "      <td>NaN</td>\n",
       "    </tr>\n",
       "    <tr>\n",
       "      <th>144</th>\n",
       "      <td>Cuba</td>\n",
       "      <td>NaN</td>\n",
       "    </tr>\n",
       "    <tr>\n",
       "      <th>145</th>\n",
       "      <td>Cuba</td>\n",
       "      <td>NaN</td>\n",
       "    </tr>\n",
       "    <tr>\n",
       "      <th>146</th>\n",
       "      <td>Cuba</td>\n",
       "      <td>NaN</td>\n",
       "    </tr>\n",
       "    <tr>\n",
       "      <th>147</th>\n",
       "      <td>Cuba</td>\n",
       "      <td>NaN</td>\n",
       "    </tr>\n",
       "    <tr>\n",
       "      <th>148</th>\n",
       "      <td>Cuba</td>\n",
       "      <td>NaN</td>\n",
       "    </tr>\n",
       "    <tr>\n",
       "      <th>149</th>\n",
       "      <td>Cuba</td>\n",
       "      <td>NaN</td>\n",
       "    </tr>\n",
       "    <tr>\n",
       "      <th>150</th>\n",
       "      <td>Cuba</td>\n",
       "      <td>NaN</td>\n",
       "    </tr>\n",
       "    <tr>\n",
       "      <th>151</th>\n",
       "      <td>Cuba</td>\n",
       "      <td>NaN</td>\n",
       "    </tr>\n",
       "    <tr>\n",
       "      <th>152</th>\n",
       "      <td>Cuba</td>\n",
       "      <td>NaN</td>\n",
       "    </tr>\n",
       "    <tr>\n",
       "      <th>162</th>\n",
       "      <td>Cuba</td>\n",
       "      <td>NaN</td>\n",
       "    </tr>\n",
       "    <tr>\n",
       "      <th>163</th>\n",
       "      <td>Korea, Dem. People's Rep.</td>\n",
       "      <td>NaN</td>\n",
       "    </tr>\n",
       "    <tr>\n",
       "      <th>164</th>\n",
       "      <td>Korea, Dem. People's Rep.</td>\n",
       "      <td>NaN</td>\n",
       "    </tr>\n",
       "    <tr>\n",
       "      <th>166</th>\n",
       "      <td>Korea, Dem. People's Rep.</td>\n",
       "      <td>NaN</td>\n",
       "    </tr>\n",
       "    <tr>\n",
       "      <th>168</th>\n",
       "      <td>Korea, Dem. People's Rep.</td>\n",
       "      <td>NaN</td>\n",
       "    </tr>\n",
       "    <tr>\n",
       "      <th>169</th>\n",
       "      <td>Korea, Dem. People's Rep.</td>\n",
       "      <td>NaN</td>\n",
       "    </tr>\n",
       "  </tbody>\n",
       "</table>\n",
       "</div>"
      ],
      "text/plain": [
       "                       Country  Gvt_Exp_on_Education\n",
       "141                       Cuba                   NaN\n",
       "142                       Cuba                   NaN\n",
       "143                       Cuba                   NaN\n",
       "144                       Cuba                   NaN\n",
       "145                       Cuba                   NaN\n",
       "146                       Cuba                   NaN\n",
       "147                       Cuba                   NaN\n",
       "148                       Cuba                   NaN\n",
       "149                       Cuba                   NaN\n",
       "150                       Cuba                   NaN\n",
       "151                       Cuba                   NaN\n",
       "152                       Cuba                   NaN\n",
       "162                       Cuba                   NaN\n",
       "163  Korea, Dem. People's Rep.                   NaN\n",
       "164  Korea, Dem. People's Rep.                   NaN\n",
       "166  Korea, Dem. People's Rep.                   NaN\n",
       "168  Korea, Dem. People's Rep.                   NaN\n",
       "169  Korea, Dem. People's Rep.                   NaN"
      ]
     },
     "execution_count": 41,
     "metadata": {},
     "output_type": "execute_result"
    }
   ],
   "source": [
    "combined_df[['Country', 'Gvt_Exp_on_Education']][combined_df.Gvt_Exp_on_Education.isna()]"
   ]
  },
  {
   "cell_type": "code",
   "execution_count": 42,
   "id": "3510d717",
   "metadata": {},
   "outputs": [],
   "source": [
    "#removing the rows with null values\n",
    "combined_df.dropna(inplace=True)"
   ]
  },
  {
   "attachments": {},
   "cell_type": "markdown",
   "id": "09402197",
   "metadata": {},
   "source": [
    "### Finding the mean of each country "
   ]
  },
  {
   "cell_type": "code",
   "execution_count": 43,
   "id": "f85a08bb",
   "metadata": {},
   "outputs": [
    {
     "data": {
      "text/plain": [
       "Country\n",
       "Afghanistan                  13.044702\n",
       "Chad                         11.933025\n",
       "Cuba                         15.123699\n",
       "Estonia                      13.668718\n",
       "Guinea                       12.861944\n",
       "Korea, Dem. People's Rep.    15.258061\n",
       "Latvia                       14.311544\n",
       "Lithuania                    13.705299\n",
       "Mali                         16.659471\n",
       "Niger                        16.770930\n",
       "Name: Gvt_Exp_on_Education, dtype: float64"
      ]
     },
     "execution_count": 43,
     "metadata": {},
     "output_type": "execute_result"
    }
   ],
   "source": [
    "# we are grouping our data by year and then calculate mean Gross Earnings for each year. \n",
    "countries_mean = combined_df.groupby('Country')['Gvt_Exp_on_Education'].mean()\n",
    "countries_mean"
   ]
  },
  {
   "attachments": {},
   "cell_type": "markdown",
   "id": "6d003157",
   "metadata": {},
   "source": [
    "### Finding the median for each country"
   ]
  },
  {
   "cell_type": "code",
   "execution_count": 44,
   "id": "b83a6ce4",
   "metadata": {
    "scrolled": true
   },
   "outputs": [
    {
     "data": {
      "text/plain": [
       "Country\n",
       "Afghanistan                  12.509000\n",
       "Chad                         12.066485\n",
       "Cuba                         15.263568\n",
       "Estonia                      13.524495\n",
       "Guinea                       12.421840\n",
       "Korea, Dem. People's Rep.    14.964565\n",
       "Latvia                       14.097230\n",
       "Lithuania                    13.239080\n",
       "Mali                         16.519120\n",
       "Niger                        16.775310\n",
       "Name: Gvt_Exp_on_Education, dtype: float64"
      ]
     },
     "execution_count": 44,
     "metadata": {},
     "output_type": "execute_result"
    }
   ],
   "source": [
    "countries_median = combined_df.groupby('Country')['Gvt_Exp_on_Education'].median()\n",
    "countries_median"
   ]
  },
  {
   "attachments": {},
   "cell_type": "markdown",
   "id": "8befbf7f",
   "metadata": {},
   "source": [
    "For this dataset, we have decided to go with the mean, since it is not too far off from the median, so there aren't significant outliers in this data"
   ]
  },
  {
   "attachments": {},
   "cell_type": "markdown",
   "id": "aa488f1a",
   "metadata": {},
   "source": [
    "## Visualisations\n",
    "Let's present these results using visualisations that can help us to interpret the results of our work"
   ]
  },
  {
   "attachments": {},
   "cell_type": "markdown",
   "id": "77cae72d",
   "metadata": {},
   "source": [
    "First, we'll have to import the necessary modules"
   ]
  },
  {
   "cell_type": "code",
   "execution_count": 45,
   "id": "373daf47",
   "metadata": {},
   "outputs": [],
   "source": [
    "import seaborn as sns\n",
    "import matplotlib.pyplot as plt"
   ]
  },
  {
   "cell_type": "code",
   "execution_count": 46,
   "id": "30926559",
   "metadata": {},
   "outputs": [
    {
     "data": {
      "text/plain": [
       "([], [])"
      ]
     },
     "execution_count": 46,
     "metadata": {},
     "output_type": "execute_result"
    },
    {
     "data": {
      "image/png": "[encoded data removed]",
      "text/plain": [
       "<Figure size 640x480 with 1 Axes>"
      ]
     },
     "metadata": {},
     "output_type": "display_data"
    }
   ],
   "source": [
    "sns.boxplot(combined_df[\"Gvt_Exp_on_Education\"])\n",
    "plt.xlabel(\"Data\")\n",
    "plt.ylabel(\"Government Education Expenditure (%)\")\n",
    "plt.xticks([])"
   ]
  },
  {
   "attachments": {},
   "cell_type": "markdown",
   "id": "7755cb06",
   "metadata": {},
   "source": [
    "The above graph shows the data dispersal for our whole sample\n",
    "#### Observations\n",
    "- The median figure for government education expenditure is around 14% \n",
    "- There are a couple of outliers in the data, with high figures for government education expenditure at ~21%\n",
    "- The spread of data is not that large \n",
    "- The data is relatively normally distributed"
   ]
  },
  {
   "attachments": {},
   "cell_type": "markdown",
   "id": "2540f595",
   "metadata": {},
   "source": [
    "#### Let's see how the data compares country by country across our given time period"
   ]
  },
  {
   "cell_type": "code",
   "execution_count": 47,
   "id": "c5783595",
   "metadata": {},
   "outputs": [
    {
     "data": {
      "text/plain": [
       "(array([ 6.,  8., 10., 12., 14., 16., 18., 20., 22., 24.]),\n",
       " [Text(0, 6.0, '6'),\n",
       "  Text(0, 8.0, '8'),\n",
       "  Text(0, 10.0, '10'),\n",
       "  Text(0, 12.0, '12'),\n",
       "  Text(0, 14.0, '14'),\n",
       "  Text(0, 16.0, '16'),\n",
       "  Text(0, 18.0, '18'),\n",
       "  Text(0, 20.0, '20'),\n",
       "  Text(0, 22.0, '22'),\n",
       "  Text(0, 24.0, '24')])"
      ]
     },
     "execution_count": 47,
     "metadata": {},
     "output_type": "execute_result"
    },
    {
     "data": {
      "image/png": "[encoded data removed]",
      "text/plain": [
       "<Figure size 1800x1200 with 1 Axes>"
      ]
     },
     "metadata": {},
     "output_type": "display_data"
    }
   ],
   "source": [
    "plt.figure(figsize=(18,12))\n",
    "sns.boxplot(y= combined_df[\"Gvt_Exp_on_Education\"], x=combined_df[\"Country\"])\n",
    "plt.xlabel(\"Country\", fontsize=18)\n",
    "plt.ylabel(\"Government Education Expenditure (%)\", fontsize=18)\n",
    "plt.xticks(rotation=0, fontsize=12)\n",
    "plt.yticks(fontsize=18)"
   ]
  },
  {
   "attachments": {},
   "cell_type": "markdown",
   "id": "c13e94c0",
   "metadata": {},
   "source": [
    "#### Observations\n",
    "\n",
    "From the above graph:\n",
    "- We can see that Mali and Niger have the largest dispersal of data. In comparison, Korea and Estonia have some of the lowest distribution of data\n",
    "- The median for all of the countries ranges between 12 and 16.\n",
    "- Half of the countries (Afghanisation, Estonia, Guinea, Lithuania, Korea) are right- skewed which means that they have a positive skew.\n",
    "- Half of the countries have a relatively normal distribution (Chad, Latvia, Mali, Cuba and Niger)\n",
    "- There is only one outlier in this dataset, ignoring everything else, this means that predictions about this data can be fairly certain\n",
    "- To conclude, there isn't a huge variation in government education expenditure for our sample countries"
   ]
  },
  {
   "attachments": {},
   "cell_type": "markdown",
   "id": "0db5fa9e",
   "metadata": {},
   "source": [
    "#### Let's explore how the data compares on a yearly basis"
   ]
  },
  {
   "cell_type": "code",
   "execution_count": 48,
   "id": "7abc312d",
   "metadata": {},
   "outputs": [
    {
     "data": {
      "text/plain": [
       "(array([ 6.,  8., 10., 12., 14., 16., 18., 20., 22., 24.]),\n",
       " [Text(0, 6.0, '6'),\n",
       "  Text(0, 8.0, '8'),\n",
       "  Text(0, 10.0, '10'),\n",
       "  Text(0, 12.0, '12'),\n",
       "  Text(0, 14.0, '14'),\n",
       "  Text(0, 16.0, '16'),\n",
       "  Text(0, 18.0, '18'),\n",
       "  Text(0, 20.0, '20'),\n",
       "  Text(0, 22.0, '22'),\n",
       "  Text(0, 24.0, '24')])"
      ]
     },
     "execution_count": 48,
     "metadata": {},
     "output_type": "execute_result"
    },
    {
     "data": {
      "image/png": "[encoded data removed]",
      "text/plain": [
       "<Figure size 2500x1500 with 1 Axes>"
      ]
     },
     "metadata": {},
     "output_type": "display_data"
    }
   ],
   "source": [
    "plt.figure(figsize=(25,15))\n",
    "sns.boxplot(y= combined_df[\"Gvt_Exp_on_Education\"], x=combined_df[\"Year\"])\n",
    "plt.xlabel(\"Year\")\n",
    "plt.ylabel(\"Government Education Expenditure (%)\", fontsize=25)\n",
    "plt.xticks(fontsize=20)\n",
    "plt.yticks(fontsize=25)"
   ]
  },
  {
   "attachments": {},
   "cell_type": "markdown",
   "id": "cdd5a4c7",
   "metadata": {},
   "source": [
    "#### Observations\n",
    "- The median value ranges widely, however we can see a slight decrease over the time range, however we will confirm this with a scatterplot\n",
    "- We can see the dispersal of data starts off small then increases (whilst fluctuating widely) until it reaches the largest dispersal in 2012, where we can see the minimum at roughly 9%, the median at 16% and the 22%\n",
    "- There are more outliers in the beginning of the time range then at the end \n",
    "- There are 10 years with right-skewed data, there are 4 years with relatively normal distributions and the rest are left-skewed"
   ]
  },
  {
   "attachments": {},
   "cell_type": "markdown",
   "id": "7299057f",
   "metadata": {},
   "source": [
    "#### Let's plot a scatter graph to see if we can get any more insights from our visualisations"
   ]
  },
  {
   "cell_type": "code",
   "execution_count": 49,
   "id": "af4ecb0d",
   "metadata": {},
   "outputs": [
    {
     "data": {
      "image/png": "[encoded data removed]",
      "text/plain": [
       "<Figure size 500x500 with 1 Axes>"
      ]
     },
     "metadata": {},
     "output_type": "display_data"
    }
   ],
   "source": [
    "# Finding the yearly median\n",
    "year_median = combined_df.groupby('Year')['Gvt_Exp_on_Education'].median()\n",
    "year_median = pd.DataFrame(year_median).reset_index()\n",
    "year_median = year_median.astype('float64')\n",
    "\n",
    "# Plot scatter plot with linear regression line\n",
    "sns.lmplot(x='Year', y='Gvt_Exp_on_Education', data=year_median, hue=None)\n",
    "\n",
    "# Set labels and title\n",
    "plt.xlabel('Year')\n",
    "plt.ylabel('Median Government Education Expenditure')\n",
    "plt.title('Median Government Expenditure on Education by Year')\n",
    "\n",
    "# Rotate x-axis labels if needed\n",
    "plt.xticks(rotation=90)\n",
    "\n",
    "# Display the plot\n",
    "plt.show()"
   ]
  },
  {
   "attachments": {},
   "cell_type": "markdown",
   "id": "2ab6b5fb",
   "metadata": {},
   "source": [
    "- This graph confirms that there is a slight gradual decrease in median over the time range given. \n",
    "- There are also a few outliers in the 2003 and between 2010 and 2015"
   ]
  },
  {
   "attachments": {},
   "cell_type": "markdown",
   "id": "b8850860",
   "metadata": {},
   "source": [
    "### Mean Values\n",
    "Since we are taking the mean values over the median values, let's plot some graphs that look at the mean values of the data"
   ]
  },
  {
   "attachments": {},
   "cell_type": "markdown",
   "id": "d9f7ae46",
   "metadata": {},
   "source": [
    "First let's explore the mean values by year"
   ]
  },
  {
   "cell_type": "code",
   "execution_count": 50,
   "id": "a4d793c2",
   "metadata": {},
   "outputs": [
    {
     "data": {
      "image/png": "[encoded data removed]",
      "text/plain": [
       "<Figure size 500x500 with 1 Axes>"
      ]
     },
     "metadata": {},
     "output_type": "display_data"
    }
   ],
   "source": [
    "# Finding the yearly median\n",
    "year_mean = combined_df.groupby('Year')['Gvt_Exp_on_Education'].mean()\n",
    "year_mean = pd.DataFrame(year_mean).reset_index()\n",
    "year_mean = year_mean.astype('float64')\n",
    "\n",
    "# Plot scatter plot with linear regression line\n",
    "sns.lmplot(x='Year', y='Gvt_Exp_on_Education', data=year_mean, hue=None)\n",
    "\n",
    "# Set labels and title\n",
    "plt.xlabel('Year')\n",
    "plt.ylabel('Mean Government Education Expenditure')\n",
    "plt.title('Mean Government Expenditure on Education by Year')\n",
    "\n",
    "# Rotate x-axis labels if needed\n",
    "plt.xticks(rotation=90)\n",
    "\n",
    "# Display the plot\n",
    "plt.show()"
   ]
  },
  {
   "attachments": {},
   "cell_type": "markdown",
   "id": "8a350fc2",
   "metadata": {},
   "source": [
    "Similar to the median graph, we can see that there is a decrease in the mean values over the given period. This means that the average government spending on education decreased over the time shown, but this does not mean overall spending on education decreased because we using figures showing education as a proportion of total government spending rather than actual government spending"
   ]
  },
  {
   "attachments": {},
   "cell_type": "markdown",
   "id": "83344259",
   "metadata": {},
   "source": [
    "#### Looking at mean figures by country"
   ]
  },
  {
   "cell_type": "code",
   "execution_count": 51,
   "id": "cdfdeebd",
   "metadata": {
    "scrolled": true
   },
   "outputs": [
    {
     "data": {
      "image/png": "[encoded data removed]",
      "text/plain": [
       "<Figure size 640x480 with 1 Axes>"
      ]
     },
     "metadata": {},
     "output_type": "display_data"
    }
   ],
   "source": [
    "# Group the data by country and year and get all values of 'Gvt_Exp_on_Education'\n",
    "country_data = combined_df.groupby('Country')['Gvt_Exp_on_Education'].mean()\n",
    "\n",
    "# Extract the countries and corresponding values\n",
    "countries = country_data.index\n",
    "values = country_data.values\n",
    "\n",
    "# Plot the data\n",
    "plt.scatter(countries, values)\n",
    "\n",
    "# Set labels and title\n",
    "plt.xlabel('Country')\n",
    "plt.ylabel('Mean Government Education Expenditure ()')\n",
    "plt.title('Mean Government Expenditure on Education by Country')\n",
    "\n",
    "# Rotate x-axis tick labels if needed\n",
    "plt.xticks(rotation=90)\n",
    "\n",
    "# Display the plot\n",
    "plt.show()"
   ]
  },
  {
   "attachments": {},
   "cell_type": "markdown",
   "id": "3ee2df19",
   "metadata": {},
   "source": [
    "From the graph we can see that Chad had the lowest average expenditure on education whilst Mali and Niger had the highest"
   ]
  },
  {
   "attachments": {},
   "cell_type": "markdown",
   "id": "390cb546",
   "metadata": {},
   "source": [
    "# Add the mean value as another column onto the previous merged table CSV"
   ]
  },
  {
   "cell_type": "code",
   "execution_count": 52,
   "id": "93c5b0f2",
   "metadata": {},
   "outputs": [
    {
     "data": {
      "text/html": [
       "<div>\n",
       "<style scoped>\n",
       "    .dataframe tbody tr th:only-of-type {\n",
       "        vertical-align: middle;\n",
       "    }\n",
       "\n",
       "    .dataframe tbody tr th {\n",
       "        vertical-align: top;\n",
       "    }\n",
       "\n",
       "    .dataframe thead th {\n",
       "        text-align: right;\n",
       "    }\n",
       "</style>\n",
       "<table border=\"1\" class=\"dataframe\">\n",
       "  <thead>\n",
       "    <tr style=\"text-align: right;\">\n",
       "      <th></th>\n",
       "      <th>Country Name</th>\n",
       "      <th>Country Code</th>\n",
       "      <th>Status</th>\n",
       "      <th>Mean Adult Female Literacy Rate (%)</th>\n",
       "      <th>Median Female Child Marriage Rate (%)</th>\n",
       "      <th>Income Level</th>\n",
       "    </tr>\n",
       "  </thead>\n",
       "  <tbody>\n",
       "    <tr>\n",
       "      <th>0</th>\n",
       "      <td>Chad</td>\n",
       "      <td>TCD</td>\n",
       "      <td>Lowest</td>\n",
       "      <td>15.379128</td>\n",
       "      <td>24.5560</td>\n",
       "      <td>Low income</td>\n",
       "    </tr>\n",
       "    <tr>\n",
       "      <th>1</th>\n",
       "      <td>Afghanistan</td>\n",
       "      <td>AFG</td>\n",
       "      <td>Lowest</td>\n",
       "      <td>19.809310</td>\n",
       "      <td>16.3000</td>\n",
       "      <td>Low income</td>\n",
       "    </tr>\n",
       "    <tr>\n",
       "      <th>2</th>\n",
       "      <td>Mali</td>\n",
       "      <td>MLI</td>\n",
       "      <td>Lowest</td>\n",
       "      <td>20.470424</td>\n",
       "      <td>42.1000</td>\n",
       "      <td>Low income</td>\n",
       "    </tr>\n",
       "    <tr>\n",
       "      <th>3</th>\n",
       "      <td>Niger</td>\n",
       "      <td>NER</td>\n",
       "      <td>Lowest</td>\n",
       "      <td>20.530956</td>\n",
       "      <td>21.1555</td>\n",
       "      <td>Low income</td>\n",
       "    </tr>\n",
       "    <tr>\n",
       "      <th>4</th>\n",
       "      <td>Guinea</td>\n",
       "      <td>GIN</td>\n",
       "      <td>Lowest</td>\n",
       "      <td>22.271088</td>\n",
       "      <td>28.1000</td>\n",
       "      <td>Low income</td>\n",
       "    </tr>\n",
       "    <tr>\n",
       "      <th>5</th>\n",
       "      <td>Cuba</td>\n",
       "      <td>CUB</td>\n",
       "      <td>Highest</td>\n",
       "      <td>99.769315</td>\n",
       "      <td>12.3620</td>\n",
       "      <td>Upper middle income</td>\n",
       "    </tr>\n",
       "    <tr>\n",
       "      <th>6</th>\n",
       "      <td>Lithuania</td>\n",
       "      <td>LTU</td>\n",
       "      <td>Highest</td>\n",
       "      <td>99.777059</td>\n",
       "      <td>0.1500</td>\n",
       "      <td>High income</td>\n",
       "    </tr>\n",
       "    <tr>\n",
       "      <th>7</th>\n",
       "      <td>Estonia</td>\n",
       "      <td>EST</td>\n",
       "      <td>Highest</td>\n",
       "      <td>99.849846</td>\n",
       "      <td>4.8805</td>\n",
       "      <td>High income</td>\n",
       "    </tr>\n",
       "    <tr>\n",
       "      <th>8</th>\n",
       "      <td>Latvia</td>\n",
       "      <td>LVA</td>\n",
       "      <td>Highest</td>\n",
       "      <td>99.858515</td>\n",
       "      <td>4.8805</td>\n",
       "      <td>High income</td>\n",
       "    </tr>\n",
       "    <tr>\n",
       "      <th>9</th>\n",
       "      <td>Korea, Dem. People's Rep.</td>\n",
       "      <td>PRK</td>\n",
       "      <td>Highest</td>\n",
       "      <td>99.997612</td>\n",
       "      <td>0.0500</td>\n",
       "      <td>Low income</td>\n",
       "    </tr>\n",
       "  </tbody>\n",
       "</table>\n",
       "</div>"
      ],
      "text/plain": [
       "                Country Name Country Code   Status   \n",
       "0                       Chad          TCD   Lowest  \\\n",
       "1                Afghanistan          AFG   Lowest   \n",
       "2                       Mali          MLI   Lowest   \n",
       "3                      Niger          NER   Lowest   \n",
       "4                     Guinea          GIN   Lowest   \n",
       "5                       Cuba          CUB  Highest   \n",
       "6                  Lithuania          LTU  Highest   \n",
       "7                    Estonia          EST  Highest   \n",
       "8                     Latvia          LVA  Highest   \n",
       "9  Korea, Dem. People's Rep.          PRK  Highest   \n",
       "\n",
       "   Mean Adult Female Literacy Rate (%)  Median Female Child Marriage Rate (%)   \n",
       "0                            15.379128                                24.5560  \\\n",
       "1                            19.809310                                16.3000   \n",
       "2                            20.470424                                42.1000   \n",
       "3                            20.530956                                21.1555   \n",
       "4                            22.271088                                28.1000   \n",
       "5                            99.769315                                12.3620   \n",
       "6                            99.777059                                 0.1500   \n",
       "7                            99.849846                                 4.8805   \n",
       "8                            99.858515                                 4.8805   \n",
       "9                            99.997612                                 0.0500   \n",
       "\n",
       "          Income Level  \n",
       "0           Low income  \n",
       "1           Low income  \n",
       "2           Low income  \n",
       "3           Low income  \n",
       "4           Low income  \n",
       "5  Upper middle income  \n",
       "6          High income  \n",
       "7          High income  \n",
       "8          High income  \n",
       "9           Low income  "
      ]
     },
     "execution_count": 52,
     "metadata": {},
     "output_type": "execute_result"
    }
   ],
   "source": [
    "## Merging our mean government expenditure results to our merged table\n",
    "\n",
    "# Read the CSV file into a DataFrame\n",
    "merged_tables_df = pd.read_csv('3.second-merge-fl-cm-il.csv')\n",
    "\n",
    "merged_tables_df"
   ]
  },
  {
   "cell_type": "code",
   "execution_count": 53,
   "id": "0cc136ae",
   "metadata": {},
   "outputs": [
    {
     "data": {
      "text/html": [
       "<div>\n",
       "<style scoped>\n",
       "    .dataframe tbody tr th:only-of-type {\n",
       "        vertical-align: middle;\n",
       "    }\n",
       "\n",
       "    .dataframe tbody tr th {\n",
       "        vertical-align: top;\n",
       "    }\n",
       "\n",
       "    .dataframe thead th {\n",
       "        text-align: right;\n",
       "    }\n",
       "</style>\n",
       "<table border=\"1\" class=\"dataframe\">\n",
       "  <thead>\n",
       "    <tr style=\"text-align: right;\">\n",
       "      <th></th>\n",
       "      <th>Country Name</th>\n",
       "      <th>Country Code</th>\n",
       "      <th>Status</th>\n",
       "      <th>Mean Adult Female Literacy Rate (%)</th>\n",
       "      <th>Median Female Child Marriage Rate (%)</th>\n",
       "      <th>Income Level</th>\n",
       "      <th>Gvt_Exp_on_Education</th>\n",
       "    </tr>\n",
       "  </thead>\n",
       "  <tbody>\n",
       "    <tr>\n",
       "      <th>0</th>\n",
       "      <td>Chad</td>\n",
       "      <td>TCD</td>\n",
       "      <td>Lowest</td>\n",
       "      <td>15.379128</td>\n",
       "      <td>24.5560</td>\n",
       "      <td>Low income</td>\n",
       "      <td>11.933025</td>\n",
       "    </tr>\n",
       "    <tr>\n",
       "      <th>1</th>\n",
       "      <td>Afghanistan</td>\n",
       "      <td>AFG</td>\n",
       "      <td>Lowest</td>\n",
       "      <td>19.809310</td>\n",
       "      <td>16.3000</td>\n",
       "      <td>Low income</td>\n",
       "      <td>13.044702</td>\n",
       "    </tr>\n",
       "    <tr>\n",
       "      <th>2</th>\n",
       "      <td>Mali</td>\n",
       "      <td>MLI</td>\n",
       "      <td>Lowest</td>\n",
       "      <td>20.470424</td>\n",
       "      <td>42.1000</td>\n",
       "      <td>Low income</td>\n",
       "      <td>16.659471</td>\n",
       "    </tr>\n",
       "    <tr>\n",
       "      <th>3</th>\n",
       "      <td>Niger</td>\n",
       "      <td>NER</td>\n",
       "      <td>Lowest</td>\n",
       "      <td>20.530956</td>\n",
       "      <td>21.1555</td>\n",
       "      <td>Low income</td>\n",
       "      <td>16.770930</td>\n",
       "    </tr>\n",
       "    <tr>\n",
       "      <th>4</th>\n",
       "      <td>Guinea</td>\n",
       "      <td>GIN</td>\n",
       "      <td>Lowest</td>\n",
       "      <td>22.271088</td>\n",
       "      <td>28.1000</td>\n",
       "      <td>Low income</td>\n",
       "      <td>12.861944</td>\n",
       "    </tr>\n",
       "    <tr>\n",
       "      <th>5</th>\n",
       "      <td>Cuba</td>\n",
       "      <td>CUB</td>\n",
       "      <td>Highest</td>\n",
       "      <td>99.769315</td>\n",
       "      <td>12.3620</td>\n",
       "      <td>Upper middle income</td>\n",
       "      <td>15.123699</td>\n",
       "    </tr>\n",
       "    <tr>\n",
       "      <th>6</th>\n",
       "      <td>Lithuania</td>\n",
       "      <td>LTU</td>\n",
       "      <td>Highest</td>\n",
       "      <td>99.777059</td>\n",
       "      <td>0.1500</td>\n",
       "      <td>High income</td>\n",
       "      <td>13.705299</td>\n",
       "    </tr>\n",
       "    <tr>\n",
       "      <th>7</th>\n",
       "      <td>Estonia</td>\n",
       "      <td>EST</td>\n",
       "      <td>Highest</td>\n",
       "      <td>99.849846</td>\n",
       "      <td>4.8805</td>\n",
       "      <td>High income</td>\n",
       "      <td>13.668718</td>\n",
       "    </tr>\n",
       "    <tr>\n",
       "      <th>8</th>\n",
       "      <td>Latvia</td>\n",
       "      <td>LVA</td>\n",
       "      <td>Highest</td>\n",
       "      <td>99.858515</td>\n",
       "      <td>4.8805</td>\n",
       "      <td>High income</td>\n",
       "      <td>14.311544</td>\n",
       "    </tr>\n",
       "    <tr>\n",
       "      <th>9</th>\n",
       "      <td>Korea, Dem. People's Rep.</td>\n",
       "      <td>PRK</td>\n",
       "      <td>Highest</td>\n",
       "      <td>99.997612</td>\n",
       "      <td>0.0500</td>\n",
       "      <td>Low income</td>\n",
       "      <td>15.258061</td>\n",
       "    </tr>\n",
       "  </tbody>\n",
       "</table>\n",
       "</div>"
      ],
      "text/plain": [
       "                Country Name Country Code   Status   \n",
       "0                       Chad          TCD   Lowest  \\\n",
       "1                Afghanistan          AFG   Lowest   \n",
       "2                       Mali          MLI   Lowest   \n",
       "3                      Niger          NER   Lowest   \n",
       "4                     Guinea          GIN   Lowest   \n",
       "5                       Cuba          CUB  Highest   \n",
       "6                  Lithuania          LTU  Highest   \n",
       "7                    Estonia          EST  Highest   \n",
       "8                     Latvia          LVA  Highest   \n",
       "9  Korea, Dem. People's Rep.          PRK  Highest   \n",
       "\n",
       "   Mean Adult Female Literacy Rate (%)  Median Female Child Marriage Rate (%)   \n",
       "0                            15.379128                                24.5560  \\\n",
       "1                            19.809310                                16.3000   \n",
       "2                            20.470424                                42.1000   \n",
       "3                            20.530956                                21.1555   \n",
       "4                            22.271088                                28.1000   \n",
       "5                            99.769315                                12.3620   \n",
       "6                            99.777059                                 0.1500   \n",
       "7                            99.849846                                 4.8805   \n",
       "8                            99.858515                                 4.8805   \n",
       "9                            99.997612                                 0.0500   \n",
       "\n",
       "          Income Level  Gvt_Exp_on_Education  \n",
       "0           Low income             11.933025  \n",
       "1           Low income             13.044702  \n",
       "2           Low income             16.659471  \n",
       "3           Low income             16.770930  \n",
       "4           Low income             12.861944  \n",
       "5  Upper middle income             15.123699  \n",
       "6          High income             13.705299  \n",
       "7          High income             13.668718  \n",
       "8          High income             14.311544  \n",
       "9           Low income             15.258061  "
      ]
     },
     "execution_count": 53,
     "metadata": {},
     "output_type": "execute_result"
    }
   ],
   "source": [
    "# Merge the countries_mean with the merged tables DataFrame\n",
    "merged_tables = merged_tables_df.merge(countries_mean, left_on='Country Name', right_index=True, how='left')\n",
    "\n",
    "# Save the updated DataFrame as a CSV file\n",
    "merged_tables.to_csv('4.fourth-merge-fl-cm-il-govtexp.csv', index=False)\n",
    "\n",
    "merged_tables"
   ]
  },
  {
   "cell_type": "code",
   "execution_count": 54,
   "id": "725c6793",
   "metadata": {},
   "outputs": [],
   "source": [
    "# Rename the column\n",
    "merged_tables = merged_tables.rename(columns={'Gvt_Exp_on_Education': \"Mean Government Education Expenditure Rate (%)\"})"
   ]
  },
  {
   "cell_type": "code",
   "execution_count": 55,
   "id": "211c0cc5",
   "metadata": {},
   "outputs": [
    {
     "data": {
      "text/html": [
       "<div>\n",
       "<style scoped>\n",
       "    .dataframe tbody tr th:only-of-type {\n",
       "        vertical-align: middle;\n",
       "    }\n",
       "\n",
       "    .dataframe tbody tr th {\n",
       "        vertical-align: top;\n",
       "    }\n",
       "\n",
       "    .dataframe thead th {\n",
       "        text-align: right;\n",
       "    }\n",
       "</style>\n",
       "<table border=\"1\" class=\"dataframe\">\n",
       "  <thead>\n",
       "    <tr style=\"text-align: right;\">\n",
       "      <th></th>\n",
       "      <th>Country Name</th>\n",
       "      <th>Country Code</th>\n",
       "      <th>Status</th>\n",
       "      <th>Mean Adult Female Literacy Rate (%)</th>\n",
       "      <th>Median Female Child Marriage Rate (%)</th>\n",
       "      <th>Income Level</th>\n",
       "      <th>Mean Government Education Expenditure Rate (%)</th>\n",
       "    </tr>\n",
       "  </thead>\n",
       "  <tbody>\n",
       "    <tr>\n",
       "      <th>0</th>\n",
       "      <td>Chad</td>\n",
       "      <td>TCD</td>\n",
       "      <td>Lowest</td>\n",
       "      <td>15.379128</td>\n",
       "      <td>24.5560</td>\n",
       "      <td>Low income</td>\n",
       "      <td>11.933025</td>\n",
       "    </tr>\n",
       "    <tr>\n",
       "      <th>1</th>\n",
       "      <td>Afghanistan</td>\n",
       "      <td>AFG</td>\n",
       "      <td>Lowest</td>\n",
       "      <td>19.809310</td>\n",
       "      <td>16.3000</td>\n",
       "      <td>Low income</td>\n",
       "      <td>13.044702</td>\n",
       "    </tr>\n",
       "    <tr>\n",
       "      <th>2</th>\n",
       "      <td>Mali</td>\n",
       "      <td>MLI</td>\n",
       "      <td>Lowest</td>\n",
       "      <td>20.470424</td>\n",
       "      <td>42.1000</td>\n",
       "      <td>Low income</td>\n",
       "      <td>16.659471</td>\n",
       "    </tr>\n",
       "    <tr>\n",
       "      <th>3</th>\n",
       "      <td>Niger</td>\n",
       "      <td>NER</td>\n",
       "      <td>Lowest</td>\n",
       "      <td>20.530956</td>\n",
       "      <td>21.1555</td>\n",
       "      <td>Low income</td>\n",
       "      <td>16.770930</td>\n",
       "    </tr>\n",
       "    <tr>\n",
       "      <th>4</th>\n",
       "      <td>Guinea</td>\n",
       "      <td>GIN</td>\n",
       "      <td>Lowest</td>\n",
       "      <td>22.271088</td>\n",
       "      <td>28.1000</td>\n",
       "      <td>Low income</td>\n",
       "      <td>12.861944</td>\n",
       "    </tr>\n",
       "    <tr>\n",
       "      <th>5</th>\n",
       "      <td>Cuba</td>\n",
       "      <td>CUB</td>\n",
       "      <td>Highest</td>\n",
       "      <td>99.769315</td>\n",
       "      <td>12.3620</td>\n",
       "      <td>Upper middle income</td>\n",
       "      <td>15.123699</td>\n",
       "    </tr>\n",
       "    <tr>\n",
       "      <th>6</th>\n",
       "      <td>Lithuania</td>\n",
       "      <td>LTU</td>\n",
       "      <td>Highest</td>\n",
       "      <td>99.777059</td>\n",
       "      <td>0.1500</td>\n",
       "      <td>High income</td>\n",
       "      <td>13.705299</td>\n",
       "    </tr>\n",
       "    <tr>\n",
       "      <th>7</th>\n",
       "      <td>Estonia</td>\n",
       "      <td>EST</td>\n",
       "      <td>Highest</td>\n",
       "      <td>99.849846</td>\n",
       "      <td>4.8805</td>\n",
       "      <td>High income</td>\n",
       "      <td>13.668718</td>\n",
       "    </tr>\n",
       "    <tr>\n",
       "      <th>8</th>\n",
       "      <td>Latvia</td>\n",
       "      <td>LVA</td>\n",
       "      <td>Highest</td>\n",
       "      <td>99.858515</td>\n",
       "      <td>4.8805</td>\n",
       "      <td>High income</td>\n",
       "      <td>14.311544</td>\n",
       "    </tr>\n",
       "    <tr>\n",
       "      <th>9</th>\n",
       "      <td>Korea, Dem. People's Rep.</td>\n",
       "      <td>PRK</td>\n",
       "      <td>Highest</td>\n",
       "      <td>99.997612</td>\n",
       "      <td>0.0500</td>\n",
       "      <td>Low income</td>\n",
       "      <td>15.258061</td>\n",
       "    </tr>\n",
       "  </tbody>\n",
       "</table>\n",
       "</div>"
      ],
      "text/plain": [
       "                Country Name Country Code   Status   \n",
       "0                       Chad          TCD   Lowest  \\\n",
       "1                Afghanistan          AFG   Lowest   \n",
       "2                       Mali          MLI   Lowest   \n",
       "3                      Niger          NER   Lowest   \n",
       "4                     Guinea          GIN   Lowest   \n",
       "5                       Cuba          CUB  Highest   \n",
       "6                  Lithuania          LTU  Highest   \n",
       "7                    Estonia          EST  Highest   \n",
       "8                     Latvia          LVA  Highest   \n",
       "9  Korea, Dem. People's Rep.          PRK  Highest   \n",
       "\n",
       "   Mean Adult Female Literacy Rate (%)  Median Female Child Marriage Rate (%)   \n",
       "0                            15.379128                                24.5560  \\\n",
       "1                            19.809310                                16.3000   \n",
       "2                            20.470424                                42.1000   \n",
       "3                            20.530956                                21.1555   \n",
       "4                            22.271088                                28.1000   \n",
       "5                            99.769315                                12.3620   \n",
       "6                            99.777059                                 0.1500   \n",
       "7                            99.849846                                 4.8805   \n",
       "8                            99.858515                                 4.8805   \n",
       "9                            99.997612                                 0.0500   \n",
       "\n",
       "          Income Level  Mean Government Education Expenditure Rate (%)  \n",
       "0           Low income                                       11.933025  \n",
       "1           Low income                                       13.044702  \n",
       "2           Low income                                       16.659471  \n",
       "3           Low income                                       16.770930  \n",
       "4           Low income                                       12.861944  \n",
       "5  Upper middle income                                       15.123699  \n",
       "6          High income                                       13.705299  \n",
       "7          High income                                       13.668718  \n",
       "8          High income                                       14.311544  \n",
       "9           Low income                                       15.258061  "
      ]
     },
     "execution_count": 55,
     "metadata": {},
     "output_type": "execute_result"
    }
   ],
   "source": [
    "merged_tables"
   ]
  },
  {
   "cell_type": "code",
   "execution_count": 56,
   "id": "6e2fe262",
   "metadata": {},
   "outputs": [],
   "source": [
    "# Save the updated DataFrame back to fourth merge CSV file\n",
    "merged_tables.to_csv('4.fourth-merge-fl-cm-il-govtexp.csv', index=False)"
   ]
  }
 ],
 "metadata": {
  "kernelspec": {
   "display_name": "Python 3 (ipykernel)",
   "language": "python",
   "name": "python3"
  },
  "language_info": {
   "codemirror_mode": {
    "name": "ipython",
    "version": 3
   },
   "file_extension": ".py",
   "mimetype": "text/x-python",
   "name": "python",
   "nbconvert_exporter": "python",
   "pygments_lexer": "ipython3",
   "version": "3.11.2"
  }
 },
 "nbformat": 4,
 "nbformat_minor": 5
}
