{
 "cells": [
  {
   "cell_type": "markdown",
   "id": "fadd21c4",
   "metadata": {},
   "source": [
    "# Running regression on Mean Adult Female Literacy Rate"
   ]
  },
  {
   "cell_type": "markdown",
   "id": "c6f01ea9",
   "metadata": {},
   "source": [
    "## Plan of Action"
   ]
  },
  {
   "cell_type": "markdown",
   "id": "1f64e25f",
   "metadata": {},
   "source": [
    "- Declare dependent and independent variables\n",
    "- Make all variables numeric\n",
    "- If non-numeric variable is used, make it a dummy variable\n",
    "- Run a regression\n",
    "- Interpret the results\n",
    "- Visualize"
   ]
  },
  {
   "cell_type": "markdown",
   "id": "7775af2c",
   "metadata": {},
   "source": [
    "## Data used"
   ]
  },
  {
   "cell_type": "markdown",
   "id": "9c7d8f97",
   "metadata": {},
   "source": [
    "The final dataset is available in a csv file name \"final\"."
   ]
  },
  {
   "cell_type": "markdown",
   "id": "53006cfa",
   "metadata": {},
   "source": [
    "## Data Exploration"
   ]
  },
  {
   "cell_type": "markdown",
   "id": "266320b6",
   "metadata": {},
   "source": [
    "First, import the packages:"
   ]
  },
  {
   "cell_type": "code",
   "execution_count": 35,
   "id": "4bd6f8bb",
   "metadata": {},
   "outputs": [],
   "source": [
    "import pandas as pd\n",
    "import numpy as np\n",
    "import statsmodels.api as sm\n",
    "import seaborn as sns\n",
    "import warnings\n",
    "import matplotlib.pyplot as plt"
   ]
  },
  {
   "cell_type": "markdown",
   "id": "85fea792",
   "metadata": {},
   "source": [
    "Turn off any warnings appearing during the analysis."
   ]
  },
  {
   "cell_type": "code",
   "execution_count": 3,
   "id": "eb4e8917",
   "metadata": {},
   "outputs": [],
   "source": [
    "warnings.filterwarnings(\"ignore\")"
   ]
  },
  {
   "cell_type": "markdown",
   "id": "53cabf0c",
   "metadata": {},
   "source": [
    "Read the dataset into a new variable df."
   ]
  },
  {
   "cell_type": "code",
   "execution_count": 4,
   "id": "e3131b44",
   "metadata": {
    "scrolled": true
   },
   "outputs": [
    {
     "data": {
      "text/html": [
       "<div>\n",
       "<style scoped>\n",
       "    .dataframe tbody tr th:only-of-type {\n",
       "        vertical-align: middle;\n",
       "    }\n",
       "\n",
       "    .dataframe tbody tr th {\n",
       "        vertical-align: top;\n",
       "    }\n",
       "\n",
       "    .dataframe thead th {\n",
       "        text-align: right;\n",
       "    }\n",
       "</style>\n",
       "<table border=\"1\" class=\"dataframe\">\n",
       "  <thead>\n",
       "    <tr style=\"text-align: right;\">\n",
       "      <th></th>\n",
       "      <th>Country Name</th>\n",
       "      <th>Country Code</th>\n",
       "      <th>Status</th>\n",
       "      <th>Mean Adult Female Literacy Rate (%)</th>\n",
       "      <th>Median Female Child Marriage Rate (%)</th>\n",
       "      <th>Income Level</th>\n",
       "      <th>Mean Government Education Expenditure Rate (%)</th>\n",
       "      <th>Mean_GPI</th>\n",
       "    </tr>\n",
       "  </thead>\n",
       "  <tbody>\n",
       "    <tr>\n",
       "      <th>0</th>\n",
       "      <td>Chad</td>\n",
       "      <td>TCD</td>\n",
       "      <td>Lowest</td>\n",
       "      <td>15.379128</td>\n",
       "      <td>24.5560</td>\n",
       "      <td>Low income</td>\n",
       "      <td>11.933025</td>\n",
       "      <td>2.576643</td>\n",
       "    </tr>\n",
       "    <tr>\n",
       "      <th>1</th>\n",
       "      <td>Afghanistan</td>\n",
       "      <td>AFG</td>\n",
       "      <td>Lowest</td>\n",
       "      <td>19.809310</td>\n",
       "      <td>16.3000</td>\n",
       "      <td>Low income</td>\n",
       "      <td>13.044702</td>\n",
       "      <td>3.306143</td>\n",
       "    </tr>\n",
       "    <tr>\n",
       "      <th>2</th>\n",
       "      <td>Mali</td>\n",
       "      <td>MLI</td>\n",
       "      <td>Lowest</td>\n",
       "      <td>20.470424</td>\n",
       "      <td>42.1000</td>\n",
       "      <td>Low income</td>\n",
       "      <td>16.659471</td>\n",
       "      <td>2.494071</td>\n",
       "    </tr>\n",
       "    <tr>\n",
       "      <th>3</th>\n",
       "      <td>Niger</td>\n",
       "      <td>NER</td>\n",
       "      <td>Lowest</td>\n",
       "      <td>20.530956</td>\n",
       "      <td>21.1555</td>\n",
       "      <td>Low income</td>\n",
       "      <td>16.770930</td>\n",
       "      <td>2.225214</td>\n",
       "    </tr>\n",
       "    <tr>\n",
       "      <th>4</th>\n",
       "      <td>Guinea</td>\n",
       "      <td>GIN</td>\n",
       "      <td>Lowest</td>\n",
       "      <td>22.271088</td>\n",
       "      <td>28.1000</td>\n",
       "      <td>Low income</td>\n",
       "      <td>12.861944</td>\n",
       "      <td>2.165071</td>\n",
       "    </tr>\n",
       "    <tr>\n",
       "      <th>5</th>\n",
       "      <td>Cuba</td>\n",
       "      <td>CUB</td>\n",
       "      <td>Highest</td>\n",
       "      <td>99.769315</td>\n",
       "      <td>12.3620</td>\n",
       "      <td>Upper middle income</td>\n",
       "      <td>15.123699</td>\n",
       "      <td>2.001071</td>\n",
       "    </tr>\n",
       "    <tr>\n",
       "      <th>6</th>\n",
       "      <td>Lithuania</td>\n",
       "      <td>LTU</td>\n",
       "      <td>Highest</td>\n",
       "      <td>99.777059</td>\n",
       "      <td>0.1500</td>\n",
       "      <td>High income</td>\n",
       "      <td>13.705299</td>\n",
       "      <td>1.691786</td>\n",
       "    </tr>\n",
       "    <tr>\n",
       "      <th>7</th>\n",
       "      <td>Estonia</td>\n",
       "      <td>EST</td>\n",
       "      <td>Highest</td>\n",
       "      <td>99.849846</td>\n",
       "      <td>4.8805</td>\n",
       "      <td>High income</td>\n",
       "      <td>13.668718</td>\n",
       "      <td>1.632643</td>\n",
       "    </tr>\n",
       "    <tr>\n",
       "      <th>8</th>\n",
       "      <td>Latvia</td>\n",
       "      <td>LVA</td>\n",
       "      <td>Highest</td>\n",
       "      <td>99.858515</td>\n",
       "      <td>4.8805</td>\n",
       "      <td>High income</td>\n",
       "      <td>14.311544</td>\n",
       "      <td>1.611214</td>\n",
       "    </tr>\n",
       "    <tr>\n",
       "      <th>9</th>\n",
       "      <td>Korea, Dem. People's Rep.</td>\n",
       "      <td>PRK</td>\n",
       "      <td>Highest</td>\n",
       "      <td>99.997612</td>\n",
       "      <td>0.0500</td>\n",
       "      <td>Low income</td>\n",
       "      <td>15.258061</td>\n",
       "      <td>2.931000</td>\n",
       "    </tr>\n",
       "  </tbody>\n",
       "</table>\n",
       "</div>"
      ],
      "text/plain": [
       "                Country Name Country Code   Status  \\\n",
       "0                       Chad          TCD   Lowest   \n",
       "1                Afghanistan          AFG   Lowest   \n",
       "2                       Mali          MLI   Lowest   \n",
       "3                      Niger          NER   Lowest   \n",
       "4                     Guinea          GIN   Lowest   \n",
       "5                       Cuba          CUB  Highest   \n",
       "6                  Lithuania          LTU  Highest   \n",
       "7                    Estonia          EST  Highest   \n",
       "8                     Latvia          LVA  Highest   \n",
       "9  Korea, Dem. People's Rep.          PRK  Highest   \n",
       "\n",
       "   Mean Adult Female Literacy Rate (%)  Median Female Child Marriage Rate (%)  \\\n",
       "0                            15.379128                                24.5560   \n",
       "1                            19.809310                                16.3000   \n",
       "2                            20.470424                                42.1000   \n",
       "3                            20.530956                                21.1555   \n",
       "4                            22.271088                                28.1000   \n",
       "5                            99.769315                                12.3620   \n",
       "6                            99.777059                                 0.1500   \n",
       "7                            99.849846                                 4.8805   \n",
       "8                            99.858515                                 4.8805   \n",
       "9                            99.997612                                 0.0500   \n",
       "\n",
       "          Income Level  Mean Government Education Expenditure Rate (%)  \\\n",
       "0           Low income                                       11.933025   \n",
       "1           Low income                                       13.044702   \n",
       "2           Low income                                       16.659471   \n",
       "3           Low income                                       16.770930   \n",
       "4           Low income                                       12.861944   \n",
       "5  Upper middle income                                       15.123699   \n",
       "6          High income                                       13.705299   \n",
       "7          High income                                       13.668718   \n",
       "8          High income                                       14.311544   \n",
       "9           Low income                                       15.258061   \n",
       "\n",
       "   Mean_GPI  \n",
       "0  2.576643  \n",
       "1  3.306143  \n",
       "2  2.494071  \n",
       "3  2.225214  \n",
       "4  2.165071  \n",
       "5  2.001071  \n",
       "6  1.691786  \n",
       "7  1.632643  \n",
       "8  1.611214  \n",
       "9  2.931000  "
      ]
     },
     "execution_count": 4,
     "metadata": {},
     "output_type": "execute_result"
    }
   ],
   "source": [
    "df = pd.read_csv('final.csv')\n",
    "df"
   ]
  },
  {
   "cell_type": "markdown",
   "id": "b3ae3c20",
   "metadata": {},
   "source": [
    "Declare the dependent and independent variables in our model."
   ]
  },
  {
   "cell_type": "code",
   "execution_count": 5,
   "id": "f88f79b2",
   "metadata": {},
   "outputs": [],
   "source": [
    "dependent_variable = 'Mean Adult Female Literacy Rate (%)'\n",
    "independent_variables = ['Median Female Child Marriage Rate (%)', 'Income Level', 'Mean Government Education Expenditure Rate (%)', 'Mean_GPI']"
   ]
  },
  {
   "cell_type": "markdown",
   "id": "6be1a481",
   "metadata": {},
   "source": [
    "Drop rows with missing values in any of the selected columns."
   ]
  },
  {
   "cell_type": "code",
   "execution_count": 6,
   "id": "e24d554b",
   "metadata": {},
   "outputs": [],
   "source": [
    "df_selected = df[[dependent_variable] + independent_variables].dropna()"
   ]
  },
  {
   "cell_type": "markdown",
   "id": "218ea05f",
   "metadata": {},
   "source": [
    "Make the dependent variable numeric."
   ]
  },
  {
   "cell_type": "code",
   "execution_count": 7,
   "id": "76904eeb",
   "metadata": {},
   "outputs": [],
   "source": [
    "df_selected[dependent_variable] = pd.to_numeric(df_selected[dependent_variable])"
   ]
  },
  {
   "cell_type": "markdown",
   "id": "bb5a47f6",
   "metadata": {},
   "source": [
    "As we see in the dataset, the column \"Income level\" is categorical. We then change it to a dummy variable and divide into two columns as there are three categories. "
   ]
  },
  {
   "cell_type": "code",
   "execution_count": 8,
   "id": "794bf601",
   "metadata": {},
   "outputs": [],
   "source": [
    "df_selected['Income Level'] = df_selected['Income Level'].astype('category')"
   ]
  },
  {
   "cell_type": "code",
   "execution_count": 9,
   "id": "a334bf9e",
   "metadata": {},
   "outputs": [
    {
     "data": {
      "text/html": [
       "<div>\n",
       "<style scoped>\n",
       "    .dataframe tbody tr th:only-of-type {\n",
       "        vertical-align: middle;\n",
       "    }\n",
       "\n",
       "    .dataframe tbody tr th {\n",
       "        vertical-align: top;\n",
       "    }\n",
       "\n",
       "    .dataframe thead th {\n",
       "        text-align: right;\n",
       "    }\n",
       "</style>\n",
       "<table border=\"1\" class=\"dataframe\">\n",
       "  <thead>\n",
       "    <tr style=\"text-align: right;\">\n",
       "      <th></th>\n",
       "      <th>Mean Adult Female Literacy Rate (%)</th>\n",
       "      <th>Median Female Child Marriage Rate (%)</th>\n",
       "      <th>Mean Government Education Expenditure Rate (%)</th>\n",
       "      <th>Mean_GPI</th>\n",
       "      <th>Income Level_Low income</th>\n",
       "      <th>Income Level_Upper middle income</th>\n",
       "    </tr>\n",
       "  </thead>\n",
       "  <tbody>\n",
       "    <tr>\n",
       "      <th>0</th>\n",
       "      <td>15.379128</td>\n",
       "      <td>24.5560</td>\n",
       "      <td>11.933025</td>\n",
       "      <td>2.576643</td>\n",
       "      <td>1</td>\n",
       "      <td>0</td>\n",
       "    </tr>\n",
       "    <tr>\n",
       "      <th>1</th>\n",
       "      <td>19.809310</td>\n",
       "      <td>16.3000</td>\n",
       "      <td>13.044702</td>\n",
       "      <td>3.306143</td>\n",
       "      <td>1</td>\n",
       "      <td>0</td>\n",
       "    </tr>\n",
       "    <tr>\n",
       "      <th>2</th>\n",
       "      <td>20.470424</td>\n",
       "      <td>42.1000</td>\n",
       "      <td>16.659471</td>\n",
       "      <td>2.494071</td>\n",
       "      <td>1</td>\n",
       "      <td>0</td>\n",
       "    </tr>\n",
       "    <tr>\n",
       "      <th>3</th>\n",
       "      <td>20.530956</td>\n",
       "      <td>21.1555</td>\n",
       "      <td>16.770930</td>\n",
       "      <td>2.225214</td>\n",
       "      <td>1</td>\n",
       "      <td>0</td>\n",
       "    </tr>\n",
       "    <tr>\n",
       "      <th>4</th>\n",
       "      <td>22.271088</td>\n",
       "      <td>28.1000</td>\n",
       "      <td>12.861944</td>\n",
       "      <td>2.165071</td>\n",
       "      <td>1</td>\n",
       "      <td>0</td>\n",
       "    </tr>\n",
       "    <tr>\n",
       "      <th>5</th>\n",
       "      <td>99.769315</td>\n",
       "      <td>12.3620</td>\n",
       "      <td>15.123699</td>\n",
       "      <td>2.001071</td>\n",
       "      <td>0</td>\n",
       "      <td>1</td>\n",
       "    </tr>\n",
       "    <tr>\n",
       "      <th>6</th>\n",
       "      <td>99.777059</td>\n",
       "      <td>0.1500</td>\n",
       "      <td>13.705299</td>\n",
       "      <td>1.691786</td>\n",
       "      <td>0</td>\n",
       "      <td>0</td>\n",
       "    </tr>\n",
       "    <tr>\n",
       "      <th>7</th>\n",
       "      <td>99.849846</td>\n",
       "      <td>4.8805</td>\n",
       "      <td>13.668718</td>\n",
       "      <td>1.632643</td>\n",
       "      <td>0</td>\n",
       "      <td>0</td>\n",
       "    </tr>\n",
       "    <tr>\n",
       "      <th>8</th>\n",
       "      <td>99.858515</td>\n",
       "      <td>4.8805</td>\n",
       "      <td>14.311544</td>\n",
       "      <td>1.611214</td>\n",
       "      <td>0</td>\n",
       "      <td>0</td>\n",
       "    </tr>\n",
       "    <tr>\n",
       "      <th>9</th>\n",
       "      <td>99.997612</td>\n",
       "      <td>0.0500</td>\n",
       "      <td>15.258061</td>\n",
       "      <td>2.931000</td>\n",
       "      <td>1</td>\n",
       "      <td>0</td>\n",
       "    </tr>\n",
       "  </tbody>\n",
       "</table>\n",
       "</div>"
      ],
      "text/plain": [
       "   Mean Adult Female Literacy Rate (%)  Median Female Child Marriage Rate (%)  \\\n",
       "0                            15.379128                                24.5560   \n",
       "1                            19.809310                                16.3000   \n",
       "2                            20.470424                                42.1000   \n",
       "3                            20.530956                                21.1555   \n",
       "4                            22.271088                                28.1000   \n",
       "5                            99.769315                                12.3620   \n",
       "6                            99.777059                                 0.1500   \n",
       "7                            99.849846                                 4.8805   \n",
       "8                            99.858515                                 4.8805   \n",
       "9                            99.997612                                 0.0500   \n",
       "\n",
       "   Mean Government Education Expenditure Rate (%)  Mean_GPI  \\\n",
       "0                                       11.933025  2.576643   \n",
       "1                                       13.044702  3.306143   \n",
       "2                                       16.659471  2.494071   \n",
       "3                                       16.770930  2.225214   \n",
       "4                                       12.861944  2.165071   \n",
       "5                                       15.123699  2.001071   \n",
       "6                                       13.705299  1.691786   \n",
       "7                                       13.668718  1.632643   \n",
       "8                                       14.311544  1.611214   \n",
       "9                                       15.258061  2.931000   \n",
       "\n",
       "   Income Level_Low income  Income Level_Upper middle income  \n",
       "0                        1                                 0  \n",
       "1                        1                                 0  \n",
       "2                        1                                 0  \n",
       "3                        1                                 0  \n",
       "4                        1                                 0  \n",
       "5                        0                                 1  \n",
       "6                        0                                 0  \n",
       "7                        0                                 0  \n",
       "8                        0                                 0  \n",
       "9                        1                                 0  "
      ]
     },
     "execution_count": 9,
     "metadata": {},
     "output_type": "execute_result"
    }
   ],
   "source": [
    "df_encoded = pd.get_dummies(df_selected, drop_first=True)\n",
    "df_encoded"
   ]
  },
  {
   "cell_type": "markdown",
   "id": "5b8a839b",
   "metadata": {},
   "source": [
    "To check the correlation in our variables, we then plot the heatmap."
   ]
  },
  {
   "cell_type": "code",
   "execution_count": 12,
   "id": "e1e92be1",
   "metadata": {},
   "outputs": [],
   "source": [
    "corr_matrix = df_encoded.corr()"
   ]
  },
  {
   "cell_type": "code",
   "execution_count": 23,
   "id": "9d9471e0",
   "metadata": {},
   "outputs": [
    {
     "data": {
      "image/png": "[encoded data removed]",
      "text/plain": [
       "<Figure size 640x480 with 2 Axes>"
      ]
     },
     "metadata": {},
     "output_type": "display_data"
    }
   ],
   "source": [
    "sns.heatmap(corr_matrix, annot=True, cmap='YlGnBu', square=True)\n",
    "plt.title('Correlation Heatmap')\n",
    "plt.show()"
   ]
  },
  {
   "cell_type": "markdown",
   "id": "3398afe9",
   "metadata": {},
   "source": [
    "Then, define the dependent variable and add a constant column for the intercept term.\n"
   ]
  },
  {
   "cell_type": "code",
   "execution_count": 24,
   "id": "3c503a89",
   "metadata": {},
   "outputs": [],
   "source": [
    "y = df_encoded[dependent_variable]\n",
    "\n",
    "X = sm.add_constant(df_encoded.drop(columns=[dependent_variable]))"
   ]
  },
  {
   "cell_type": "markdown",
   "id": "bed1e33c",
   "metadata": {},
   "source": [
    "Run the regression and print out the results."
   ]
  },
  {
   "cell_type": "code",
   "execution_count": 25,
   "id": "caabaa89",
   "metadata": {},
   "outputs": [],
   "source": [
    "model = sm.OLS(y, X)\n",
    "results = model.fit()"
   ]
  },
  {
   "cell_type": "code",
   "execution_count": 26,
   "id": "f9b7fccf",
   "metadata": {},
   "outputs": [
    {
     "name": "stdout",
     "output_type": "stream",
     "text": [
      "                                     OLS Regression Results                                    \n",
      "===============================================================================================\n",
      "Dep. Variable:     Mean Adult Female Literacy Rate (%)   R-squared:                       0.892\n",
      "Model:                                             OLS   Adj. R-squared:                  0.758\n",
      "Method:                                  Least Squares   F-statistic:                     6.627\n",
      "Date:                                 Wed, 24 May 2023   Prob (F-statistic):             0.0454\n",
      "Time:                                         12:39:58   Log-Likelihood:                -39.965\n",
      "No. Observations:                                   10   AIC:                             91.93\n",
      "Df Residuals:                                        4   BIC:                             93.75\n",
      "Df Model:                                            5                                         \n",
      "Covariance Type:                             nonrobust                                         \n",
      "==================================================================================================================\n",
      "                                                     coef    std err          t      P>|t|      [0.025      0.975]\n",
      "------------------------------------------------------------------------------------------------------------------\n",
      "const                                             38.6508     84.878      0.455      0.672    -197.009     274.311\n",
      "Median Female Child Marriage Rate (%)             -1.8929      0.783     -2.418      0.073      -4.066       0.280\n",
      "Mean Government Education Expenditure Rate (%)     4.9746      4.570      1.088      0.338      -7.715      17.664\n",
      "Mean_GPI                                          -1.0280     25.659     -0.040      0.970     -72.269      70.213\n",
      "Income Level_Low income                          -32.8993     38.228     -0.861      0.438    -139.037      73.238\n",
      "Income Level_Upper middle income                  11.3414     28.841      0.393      0.714     -68.734      91.417\n",
      "==============================================================================\n",
      "Omnibus:                        0.843   Durbin-Watson:                   2.659\n",
      "Prob(Omnibus):                  0.656   Jarque-Bera (JB):                0.336\n",
      "Skew:                          -0.424   Prob(JB):                        0.845\n",
      "Kurtosis:                       2.701   Cond. No.                         327.\n",
      "==============================================================================\n",
      "\n",
      "Notes:\n",
      "[1] Standard Errors assume that the covariance matrix of the errors is correctly specified.\n"
     ]
    }
   ],
   "source": [
    "print(results.summary())"
   ]
  },
  {
   "cell_type": "markdown",
   "id": "3dffa4aa",
   "metadata": {},
   "source": [
    "## Interpreting the results"
   ]
  },
  {
   "cell_type": "markdown",
   "id": "39c4748e",
   "metadata": {},
   "source": [
    "The Adjusted R-squared value is high (0.76) but the p-values for most of the coefficients are higher than 0.1, it suggests that the overall model explains a significant proportion of the variance in the dependent variable, but some of the individual independent variables may not have a statistically significant effect on the dependent variable.\n",
    "\n",
    "A p-value above the chosen significance level (0.1 in our case(10%)) indicates that there is insufficient evidence to conclude a significant effect on the dependent variable.\n",
    "\n",
    "Even if this is the case, this can happen when the combination of the non-significant variables collectively explains a large portion of the variation in the dependent variable, even though no single variable has a significant effect on its own (this is suggested by Prob (F-statistic):0.0454, below 0.05).\n",
    "\n",
    "The limitation of the model is that the data available is limited."
   ]
  },
  {
   "cell_type": "code",
   "execution_count": 27,
   "id": "a4df3666",
   "metadata": {},
   "outputs": [
    {
     "name": "stdout",
     "output_type": "stream",
     "text": [
      "                                         Variable         VIF\n",
      "0                                           const  166.272038\n",
      "1           Median Female Child Marriage Rate (%)    2.390632\n",
      "2  Mean Government Education Expenditure Rate (%)    1.121114\n",
      "3                                        Mean_GPI    4.428221\n",
      "4                         Income Level_Low income    8.094600\n",
      "5                Income Level_Upper middle income    1.727792\n"
     ]
    }
   ],
   "source": [
    "from statsmodels.stats.outliers_influence import variance_inflation_factor\n",
    "\n",
    "vif = pd.DataFrame()\n",
    "vif[\"Variable\"] = X.columns\n",
    "vif[\"VIF\"] = [variance_inflation_factor(X.values, i) for i in range(X.shape[1])]\n",
    "print(vif)"
   ]
  },
  {
   "cell_type": "markdown",
   "id": "1b58a8e7",
   "metadata": {},
   "source": [
    "To explore the variables more, we need to know if there is multicolinearity among independent variables (multicollinearity refers to a situation in a regression model where two or more independent variables are strongly correlated with each other).\n",
    "\n",
    "To check for multicollinearity in your regression model we calculate the variance inflation factor (VIF) for each independent variable. VIF measures the extent to which a predictor variable is linearly related to other predictor variables in the model. A high VIF value indicates high multicollinearity (as a rule of thumb, VIF values above 5 or 10 are often considered indicative of multicollinearity).\n",
    "\n",
    "The VIF value for the intercept term is very high (166.272038), which is expected. This is because the intercept term is a constant and not a predictor variable. We can ignore the VIF value for the intercept term. \n",
    "\n",
    "The only variable that has significantly higher VIF value is Income Level_Low income, which is because it is a dummy variable connected to Income Level_Upper middle income. This result was also expected.\n",
    "\n",
    "Overall, we can conclude that the model has explanatory power, as the variables in the model are jointly statistically significant. Moreover,the high Adjusted R-squared value of 0.75 suggests that approximately 75% of the variability in the dependent variable is explained by the independent variables in the model. This indicates a strong relationship between the independent variables and the dependent variable and suggests that the model is able to capture a significant portion of the variation in the data."
   ]
  },
  {
   "cell_type": "markdown",
   "id": "93c82480",
   "metadata": {},
   "source": [
    "## Visualising the results"
   ]
  },
  {
   "cell_type": "markdown",
   "id": "a7c04c50",
   "metadata": {},
   "source": [
    "Predict values based on our model."
   ]
  },
  {
   "cell_type": "code",
   "execution_count": 46,
   "id": "b088c4fd",
   "metadata": {},
   "outputs": [
    {
     "data": {
      "text/plain": [
       "array([ 15.98328722,  36.39083491,   6.37195367,  46.84760094,\n",
       "        14.31907523,  99.76931508, 104.80540977,  95.73010547,\n",
       "        98.94990435,  78.54576597])"
      ]
     },
     "execution_count": 46,
     "metadata": {},
     "output_type": "execute_result"
    }
   ],
   "source": [
    "predicted_values = results.predict()\n",
    "predicted_values"
   ]
  },
  {
   "cell_type": "code",
   "execution_count": 47,
   "id": "89ed5a10",
   "metadata": {},
   "outputs": [
    {
     "data": {
      "text/plain": [
       "0    15.379128\n",
       "1    19.809310\n",
       "2    20.470424\n",
       "3    20.530956\n",
       "4    22.271088\n",
       "5    99.769315\n",
       "6    99.777059\n",
       "7    99.849846\n",
       "8    99.858515\n",
       "9    99.997612\n",
       "Name: Mean Adult Female Literacy Rate (%), dtype: float64"
      ]
     },
     "execution_count": 47,
     "metadata": {},
     "output_type": "execute_result"
    }
   ],
   "source": [
    "actual_values = df_encoded[dependent_variable]\n",
    "actual_values"
   ]
  },
  {
   "cell_type": "markdown",
   "id": "fbd92898",
   "metadata": {},
   "source": [
    "Create a new dataset with predicted and actual values of Mean Adult Female Literacy Rate."
   ]
  },
  {
   "cell_type": "code",
   "execution_count": 48,
   "id": "d680adc6",
   "metadata": {},
   "outputs": [],
   "source": [
    "data = pd.DataFrame({'Country': df['Country Name'], 'Actual': actual_values, 'Predicted': predicted_values})"
   ]
  },
  {
   "cell_type": "markdown",
   "id": "7843a93e",
   "metadata": {},
   "source": [
    "Sort based on the values so that the plot looks better."
   ]
  },
  {
   "cell_type": "code",
   "execution_count": 49,
   "id": "f24f6301",
   "metadata": {},
   "outputs": [
    {
     "data": {
      "text/html": [
       "<div>\n",
       "<style scoped>\n",
       "    .dataframe tbody tr th:only-of-type {\n",
       "        vertical-align: middle;\n",
       "    }\n",
       "\n",
       "    .dataframe tbody tr th {\n",
       "        vertical-align: top;\n",
       "    }\n",
       "\n",
       "    .dataframe thead th {\n",
       "        text-align: right;\n",
       "    }\n",
       "</style>\n",
       "<table border=\"1\" class=\"dataframe\">\n",
       "  <thead>\n",
       "    <tr style=\"text-align: right;\">\n",
       "      <th></th>\n",
       "      <th>Country</th>\n",
       "      <th>Actual</th>\n",
       "      <th>Predicted</th>\n",
       "    </tr>\n",
       "  </thead>\n",
       "  <tbody>\n",
       "    <tr>\n",
       "      <th>0</th>\n",
       "      <td>Chad</td>\n",
       "      <td>15.379128</td>\n",
       "      <td>15.983287</td>\n",
       "    </tr>\n",
       "    <tr>\n",
       "      <th>1</th>\n",
       "      <td>Afghanistan</td>\n",
       "      <td>19.809310</td>\n",
       "      <td>36.390835</td>\n",
       "    </tr>\n",
       "    <tr>\n",
       "      <th>2</th>\n",
       "      <td>Mali</td>\n",
       "      <td>20.470424</td>\n",
       "      <td>6.371954</td>\n",
       "    </tr>\n",
       "    <tr>\n",
       "      <th>3</th>\n",
       "      <td>Niger</td>\n",
       "      <td>20.530956</td>\n",
       "      <td>46.847601</td>\n",
       "    </tr>\n",
       "    <tr>\n",
       "      <th>4</th>\n",
       "      <td>Guinea</td>\n",
       "      <td>22.271088</td>\n",
       "      <td>14.319075</td>\n",
       "    </tr>\n",
       "    <tr>\n",
       "      <th>5</th>\n",
       "      <td>Cuba</td>\n",
       "      <td>99.769315</td>\n",
       "      <td>99.769315</td>\n",
       "    </tr>\n",
       "    <tr>\n",
       "      <th>6</th>\n",
       "      <td>Lithuania</td>\n",
       "      <td>99.777059</td>\n",
       "      <td>104.805410</td>\n",
       "    </tr>\n",
       "    <tr>\n",
       "      <th>7</th>\n",
       "      <td>Estonia</td>\n",
       "      <td>99.849846</td>\n",
       "      <td>95.730105</td>\n",
       "    </tr>\n",
       "    <tr>\n",
       "      <th>8</th>\n",
       "      <td>Latvia</td>\n",
       "      <td>99.858515</td>\n",
       "      <td>98.949904</td>\n",
       "    </tr>\n",
       "    <tr>\n",
       "      <th>9</th>\n",
       "      <td>Korea, Dem. People's Rep.</td>\n",
       "      <td>99.997612</td>\n",
       "      <td>78.545766</td>\n",
       "    </tr>\n",
       "  </tbody>\n",
       "</table>\n",
       "</div>"
      ],
      "text/plain": [
       "                     Country     Actual   Predicted\n",
       "0                       Chad  15.379128   15.983287\n",
       "1                Afghanistan  19.809310   36.390835\n",
       "2                       Mali  20.470424    6.371954\n",
       "3                      Niger  20.530956   46.847601\n",
       "4                     Guinea  22.271088   14.319075\n",
       "5                       Cuba  99.769315   99.769315\n",
       "6                  Lithuania  99.777059  104.805410\n",
       "7                    Estonia  99.849846   95.730105\n",
       "8                     Latvia  99.858515   98.949904\n",
       "9  Korea, Dem. People's Rep.  99.997612   78.545766"
      ]
     },
     "execution_count": 49,
     "metadata": {},
     "output_type": "execute_result"
    }
   ],
   "source": [
    "data_sorted = data.sort_values('Actual')\n",
    "data_sorted"
   ]
  },
  {
   "cell_type": "markdown",
   "id": "1b0b5502",
   "metadata": {},
   "source": [
    "Plot the observed vs predicted values."
   ]
  },
  {
   "cell_type": "markdown",
   "id": "2639fe64",
   "metadata": {},
   "source": [
    "First, define a custom color palette similar to YlGnBu."
   ]
  },
  {
   "cell_type": "code",
   "execution_count": 50,
   "id": "850efd42",
   "metadata": {},
   "outputs": [],
   "source": [
    "custom_palette = sns.color_palette(\"YlGnBu\", 2)"
   ]
  },
  {
   "cell_type": "markdown",
   "id": "00a9efd0",
   "metadata": {},
   "source": [
    "Then set the width of the bars and define the x-axis positions for the bars."
   ]
  },
  {
   "cell_type": "code",
   "execution_count": 51,
   "id": "18a9eef8",
   "metadata": {},
   "outputs": [],
   "source": [
    "bar_width = 0.35\n",
    "\n",
    "x = np.arange(len(data_sorted['Country']))"
   ]
  },
  {
   "cell_type": "markdown",
   "id": "96b867e0",
   "metadata": {},
   "source": [
    "Lastly, create the bar chart for observed and predicted values with the custom color and plot it."
   ]
  },
  {
   "cell_type": "code",
   "execution_count": 53,
   "id": "c771aaf1",
   "metadata": {},
   "outputs": [
    {
     "data": {
      "image/png": "[encoded data removed]",
      "text/plain": [
       "<Figure size 640x480 with 1 Axes>"
      ]
     },
     "metadata": {},
     "output_type": "display_data"
    }
   ],
   "source": [
    "plt.bar(x, data_sorted['Actual'], width=bar_width, color=custom_palette[0], label='Observed')\n",
    "\n",
    "plt.bar(x + bar_width, data_sorted['Predicted'], width=bar_width, color=custom_palette[1], label='Predicted')\n",
    "\n",
    "plt.xlabel('Country')\n",
    "plt.ylabel('Value')\n",
    "plt.title('Observed vs Predicted Values')\n",
    "plt.xticks(x + bar_width / 2, data_sorted['Country'], rotation=90)\n",
    "plt.legend()\n",
    "plt.show()"
   ]
  },
  {
   "cell_type": "markdown",
   "id": "eeff4e53",
   "metadata": {},
   "source": [
    "Comparing the observed and predicted values visually allows to assess the performance of our model. The overall pattern is captured well, despite the increased volatility, suggesting that the model provides useful insights and predictions. However, we see that in some cases the deviation is significant from the actual value which indicates limitations or deficiencies in the model."
   ]
  }
 ],
 "metadata": {
  "kernelspec": {
   "display_name": "Python 3 (ipykernel)",
   "language": "python",
   "name": "python3"
  },
  "language_info": {
   "codemirror_mode": {
    "name": "ipython",
    "version": 3
   },
   "file_extension": ".py",
   "mimetype": "text/x-python",
   "name": "python",
   "nbconvert_exporter": "python",
   "pygments_lexer": "ipython3",
   "version": "3.9.13"
  }
 },
 "nbformat": 4,
 "nbformat_minor": 5
}
