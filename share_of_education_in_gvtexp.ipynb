{
 "cells": [
  {
   "cell_type": "markdown",
   "id": "fc9af956",
   "metadata": {},
   "source": [
    "# Share of education in government expenditure\n",
    "\n",
    "## Plan of Action\n",
    "\n",
    "- Explore the data \n",
    "- Clean the data\n",
    "- Get the mean rate of education in government expenditure over a given time period (2000-2021)"
   ]
  },
  {
   "cell_type": "markdown",
   "id": "69518182",
   "metadata": {},
   "source": [
    "## Data source\n",
    "\n",
    "- The raw data source is avaliable in a csv file titled 'share-of-education-in-government-expenditure.csv'\n",
    "- This data source (https://ourworldindata.org/grapher/share-of-education-in-government-expenditure) was derived from the World Bank government spending across the world\n",
    "- The original datasets spans a time period from 1980 to 2021\n",
    "- The world bank describes the data as \"General government expenditure on education (current, capital, and transfers) is expressed as a percentage of total general government expenditure on all sectors (including health, education, social services, etc.)\" https://ourworldindata.org/government-spending\n",
    "- They also add \"General government usually refers to local, regional and central governments.\""
   ]
  },
  {
   "cell_type": "code",
   "execution_count": 1,
   "id": "113e4b79",
   "metadata": {},
   "outputs": [],
   "source": [
    "import pandas as pd"
   ]
  },
  {
   "cell_type": "code",
   "execution_count": 2,
   "id": "6d7d68e8",
   "metadata": {
    "scrolled": true
   },
   "outputs": [
    {
     "data": {
      "text/html": [
       "<div>\n",
       "<style scoped>\n",
       "    .dataframe tbody tr th:only-of-type {\n",
       "        vertical-align: middle;\n",
       "    }\n",
       "\n",
       "    .dataframe tbody tr th {\n",
       "        vertical-align: top;\n",
       "    }\n",
       "\n",
       "    .dataframe thead th {\n",
       "        text-align: right;\n",
       "    }\n",
       "</style>\n",
       "<table border=\"1\" class=\"dataframe\">\n",
       "  <thead>\n",
       "    <tr style=\"text-align: right;\">\n",
       "      <th></th>\n",
       "      <th>Entity</th>\n",
       "      <th>Code</th>\n",
       "      <th>Year</th>\n",
       "      <th>Government expenditure on education, total (% of government expenditure)</th>\n",
       "    </tr>\n",
       "  </thead>\n",
       "  <tbody>\n",
       "    <tr>\n",
       "      <th>0</th>\n",
       "      <td>Afghanistan</td>\n",
       "      <td>AFG</td>\n",
       "      <td>2010</td>\n",
       "      <td>17.067560</td>\n",
       "    </tr>\n",
       "    <tr>\n",
       "      <th>1</th>\n",
       "      <td>Afghanistan</td>\n",
       "      <td>AFG</td>\n",
       "      <td>2011</td>\n",
       "      <td>16.048429</td>\n",
       "    </tr>\n",
       "    <tr>\n",
       "      <th>2</th>\n",
       "      <td>Afghanistan</td>\n",
       "      <td>AFG</td>\n",
       "      <td>2013</td>\n",
       "      <td>14.102800</td>\n",
       "    </tr>\n",
       "    <tr>\n",
       "      <th>3</th>\n",
       "      <td>Afghanistan</td>\n",
       "      <td>AFG</td>\n",
       "      <td>2014</td>\n",
       "      <td>14.465930</td>\n",
       "    </tr>\n",
       "    <tr>\n",
       "      <th>4</th>\n",
       "      <td>Afghanistan</td>\n",
       "      <td>AFG</td>\n",
       "      <td>2015</td>\n",
       "      <td>12.509000</td>\n",
       "    </tr>\n",
       "    <tr>\n",
       "      <th>...</th>\n",
       "      <td>...</td>\n",
       "      <td>...</td>\n",
       "      <td>...</td>\n",
       "      <td>...</td>\n",
       "    </tr>\n",
       "    <tr>\n",
       "      <th>3529</th>\n",
       "      <td>Zimbabwe</td>\n",
       "      <td>ZWE</td>\n",
       "      <td>2014</td>\n",
       "      <td>30.015150</td>\n",
       "    </tr>\n",
       "    <tr>\n",
       "      <th>3530</th>\n",
       "      <td>Zimbabwe</td>\n",
       "      <td>ZWE</td>\n",
       "      <td>2015</td>\n",
       "      <td>29.470831</td>\n",
       "    </tr>\n",
       "    <tr>\n",
       "      <th>3531</th>\n",
       "      <td>Zimbabwe</td>\n",
       "      <td>ZWE</td>\n",
       "      <td>2016</td>\n",
       "      <td>23.527081</td>\n",
       "    </tr>\n",
       "    <tr>\n",
       "      <th>3532</th>\n",
       "      <td>Zimbabwe</td>\n",
       "      <td>ZWE</td>\n",
       "      <td>2017</td>\n",
       "      <td>20.874201</td>\n",
       "    </tr>\n",
       "    <tr>\n",
       "      <th>3533</th>\n",
       "      <td>Zimbabwe</td>\n",
       "      <td>ZWE</td>\n",
       "      <td>2018</td>\n",
       "      <td>19.039841</td>\n",
       "    </tr>\n",
       "  </tbody>\n",
       "</table>\n",
       "<p>3534 rows × 4 columns</p>\n",
       "</div>"
      ],
      "text/plain": [
       "           Entity Code  Year   \n",
       "0     Afghanistan  AFG  2010  \\\n",
       "1     Afghanistan  AFG  2011   \n",
       "2     Afghanistan  AFG  2013   \n",
       "3     Afghanistan  AFG  2014   \n",
       "4     Afghanistan  AFG  2015   \n",
       "...           ...  ...   ...   \n",
       "3529     Zimbabwe  ZWE  2014   \n",
       "3530     Zimbabwe  ZWE  2015   \n",
       "3531     Zimbabwe  ZWE  2016   \n",
       "3532     Zimbabwe  ZWE  2017   \n",
       "3533     Zimbabwe  ZWE  2018   \n",
       "\n",
       "      Government expenditure on education, total (% of government expenditure)  \n",
       "0                                             17.067560                         \n",
       "1                                             16.048429                         \n",
       "2                                             14.102800                         \n",
       "3                                             14.465930                         \n",
       "4                                             12.509000                         \n",
       "...                                                 ...                         \n",
       "3529                                          30.015150                         \n",
       "3530                                          29.470831                         \n",
       "3531                                          23.527081                         \n",
       "3532                                          20.874201                         \n",
       "3533                                          19.039841                         \n",
       "\n",
       "[3534 rows x 4 columns]"
      ]
     },
     "execution_count": 2,
     "metadata": {},
     "output_type": "execute_result"
    }
   ],
   "source": [
    "df2 = pd.read_csv(\"share-of-education-in-government-expenditure.csv\")\n",
    "df2"
   ]
  },
  {
   "cell_type": "markdown",
   "id": "c51a0d40",
   "metadata": {},
   "source": [
    "## Let's see what this data looks like "
   ]
  },
  {
   "cell_type": "code",
   "execution_count": 3,
   "id": "76d1d361",
   "metadata": {},
   "outputs": [
    {
     "data": {
      "text/plain": [
       "(3534, 4)"
      ]
     },
     "execution_count": 3,
     "metadata": {},
     "output_type": "execute_result"
    }
   ],
   "source": [
    "df2.shape"
   ]
  },
  {
   "cell_type": "markdown",
   "id": "2e91d5c8",
   "metadata": {},
   "source": [
    "This dataframe has 3534 rows and 4 columns"
   ]
  },
  {
   "cell_type": "code",
   "execution_count": 4,
   "id": "506ceef7",
   "metadata": {},
   "outputs": [
    {
     "data": {
      "text/plain": [
       "1980"
      ]
     },
     "execution_count": 4,
     "metadata": {},
     "output_type": "execute_result"
    }
   ],
   "source": [
    "df2['Year'].min()"
   ]
  },
  {
   "cell_type": "markdown",
   "id": "78f42f67",
   "metadata": {},
   "source": [
    "The earliest year in this dataset is 1980"
   ]
  },
  {
   "cell_type": "code",
   "execution_count": 5,
   "id": "52c4adaf",
   "metadata": {},
   "outputs": [
    {
     "data": {
      "text/plain": [
       "Entity                                                                       object\n",
       "Code                                                                         object\n",
       "Year                                                                          int64\n",
       "Government expenditure on education, total (% of government expenditure)    float64\n",
       "dtype: object"
      ]
     },
     "execution_count": 5,
     "metadata": {},
     "output_type": "execute_result"
    }
   ],
   "source": [
    "df2.dtypes"
   ]
  },
  {
   "cell_type": "code",
   "execution_count": 6,
   "id": "cee20116",
   "metadata": {},
   "outputs": [
    {
     "data": {
      "text/plain": [
       "Index(['Entity', 'Code', 'Year',\n",
       "       'Government expenditure on education, total (% of government expenditure)'],\n",
       "      dtype='object')"
      ]
     },
     "execution_count": 6,
     "metadata": {},
     "output_type": "execute_result"
    }
   ],
   "source": [
    "df2.columns"
   ]
  },
  {
   "cell_type": "markdown",
   "id": "0fda21dc",
   "metadata": {},
   "source": [
    "## Renaming columns \n",
    "- All other names are rather simple, except for the government expenditure one, which may cause unnecessary problems when dealing with this column. So let's rename this column \n",
    "- The 'Entity' columnn refers to  countries, so let's rename this column as well  "
   ]
  },
  {
   "cell_type": "code",
   "execution_count": 7,
   "id": "1a4f3ede",
   "metadata": {},
   "outputs": [],
   "source": [
    "df2.rename(columns={'Government expenditure on education, total (% of government expenditure)': 'Gvt_Exp_on_Education'}, inplace=True)\n",
    "df2.rename(columns = {'Entity': 'Country'}, inplace=True )"
   ]
  },
  {
   "cell_type": "markdown",
   "id": "34392aa6",
   "metadata": {},
   "source": [
    "Let's check the column names now"
   ]
  },
  {
   "cell_type": "code",
   "execution_count": 8,
   "id": "000bc3be",
   "metadata": {},
   "outputs": [
    {
     "data": {
      "text/plain": [
       "Index(['Country', 'Code', 'Year', 'Gvt_Exp_on_Education'], dtype='object')"
      ]
     },
     "execution_count": 8,
     "metadata": {},
     "output_type": "execute_result"
    }
   ],
   "source": [
    "df2.columns"
   ]
  },
  {
   "cell_type": "markdown",
   "id": "7ec7064f",
   "metadata": {},
   "source": [
    "Let's create a copy of the filtered table in case we want to go back to the original"
   ]
  },
  {
   "cell_type": "code",
   "execution_count": 9,
   "id": "5bc30914",
   "metadata": {},
   "outputs": [],
   "source": [
    "filtered_df = df2.copy()"
   ]
  },
  {
   "cell_type": "markdown",
   "id": "603f23fb",
   "metadata": {},
   "source": [
    "Since we have already identified the countries with the 5 highest and lowest highest literacy rates, we can filter those countries "
   ]
  },
  {
   "cell_type": "code",
   "execution_count": 10,
   "id": "aadd9c43",
   "metadata": {
    "scrolled": true
   },
   "outputs": [
    {
     "data": {
      "text/html": [
       "<div>\n",
       "<style scoped>\n",
       "    .dataframe tbody tr th:only-of-type {\n",
       "        vertical-align: middle;\n",
       "    }\n",
       "\n",
       "    .dataframe tbody tr th {\n",
       "        vertical-align: top;\n",
       "    }\n",
       "\n",
       "    .dataframe thead th {\n",
       "        text-align: right;\n",
       "    }\n",
       "</style>\n",
       "<table border=\"1\" class=\"dataframe\">\n",
       "  <thead>\n",
       "    <tr style=\"text-align: right;\">\n",
       "      <th></th>\n",
       "      <th>Country</th>\n",
       "      <th>Code</th>\n",
       "      <th>Year</th>\n",
       "      <th>Gvt_Exp_on_Education</th>\n",
       "    </tr>\n",
       "  </thead>\n",
       "  <tbody>\n",
       "    <tr>\n",
       "      <th>0</th>\n",
       "      <td>Afghanistan</td>\n",
       "      <td>AFG</td>\n",
       "      <td>2010</td>\n",
       "      <td>17.067560</td>\n",
       "    </tr>\n",
       "    <tr>\n",
       "      <th>1</th>\n",
       "      <td>Afghanistan</td>\n",
       "      <td>AFG</td>\n",
       "      <td>2011</td>\n",
       "      <td>16.048429</td>\n",
       "    </tr>\n",
       "    <tr>\n",
       "      <th>2</th>\n",
       "      <td>Afghanistan</td>\n",
       "      <td>AFG</td>\n",
       "      <td>2013</td>\n",
       "      <td>14.102800</td>\n",
       "    </tr>\n",
       "    <tr>\n",
       "      <th>3</th>\n",
       "      <td>Afghanistan</td>\n",
       "      <td>AFG</td>\n",
       "      <td>2014</td>\n",
       "      <td>14.465930</td>\n",
       "    </tr>\n",
       "    <tr>\n",
       "      <th>4</th>\n",
       "      <td>Afghanistan</td>\n",
       "      <td>AFG</td>\n",
       "      <td>2015</td>\n",
       "      <td>12.509000</td>\n",
       "    </tr>\n",
       "    <tr>\n",
       "      <th>...</th>\n",
       "      <td>...</td>\n",
       "      <td>...</td>\n",
       "      <td>...</td>\n",
       "      <td>...</td>\n",
       "    </tr>\n",
       "    <tr>\n",
       "      <th>157</th>\n",
       "      <td>Niger</td>\n",
       "      <td>NER</td>\n",
       "      <td>2017</td>\n",
       "      <td>13.215160</td>\n",
       "    </tr>\n",
       "    <tr>\n",
       "      <th>158</th>\n",
       "      <td>Niger</td>\n",
       "      <td>NER</td>\n",
       "      <td>2018</td>\n",
       "      <td>16.339970</td>\n",
       "    </tr>\n",
       "    <tr>\n",
       "      <th>159</th>\n",
       "      <td>Niger</td>\n",
       "      <td>NER</td>\n",
       "      <td>2019</td>\n",
       "      <td>13.012810</td>\n",
       "    </tr>\n",
       "    <tr>\n",
       "      <th>160</th>\n",
       "      <td>Niger</td>\n",
       "      <td>NER</td>\n",
       "      <td>2020</td>\n",
       "      <td>13.332540</td>\n",
       "    </tr>\n",
       "    <tr>\n",
       "      <th>161</th>\n",
       "      <td>Niger</td>\n",
       "      <td>NER</td>\n",
       "      <td>2021</td>\n",
       "      <td>11.952620</td>\n",
       "    </tr>\n",
       "  </tbody>\n",
       "</table>\n",
       "<p>162 rows × 4 columns</p>\n",
       "</div>"
      ],
      "text/plain": [
       "         Country Code  Year  Gvt_Exp_on_Education\n",
       "0    Afghanistan  AFG  2010             17.067560\n",
       "1    Afghanistan  AFG  2011             16.048429\n",
       "2    Afghanistan  AFG  2013             14.102800\n",
       "3    Afghanistan  AFG  2014             14.465930\n",
       "4    Afghanistan  AFG  2015             12.509000\n",
       "..           ...  ...   ...                   ...\n",
       "157        Niger  NER  2017             13.215160\n",
       "158        Niger  NER  2018             16.339970\n",
       "159        Niger  NER  2019             13.012810\n",
       "160        Niger  NER  2020             13.332540\n",
       "161        Niger  NER  2021             11.952620\n",
       "\n",
       "[162 rows x 4 columns]"
      ]
     },
     "execution_count": 10,
     "metadata": {},
     "output_type": "execute_result"
    }
   ],
   "source": [
    "countries = ['Korea', 'Latvia', 'Estonia', 'Lithuania', 'Cuba', 'Chad', 'Afghanistan', 'Mali', 'Niger', 'Guinea']\n",
    "filtered_df = df2[df2[\"Country\"].isin(countries)]\n",
    "filtered_df = filtered_df.reset_index(drop=True)\n",
    "filtered_df"
   ]
  },
  {
   "cell_type": "markdown",
   "id": "ecf88082",
   "metadata": {},
   "source": [
    "Let's check to see if our data has all of the countries that we are looking for"
   ]
  },
  {
   "cell_type": "code",
   "execution_count": 32,
   "id": "f90844e3",
   "metadata": {
    "scrolled": true
   },
   "outputs": [],
   "source": [
    "unique_countries = filtered_df['Country'].unique()\n",
    "print(\"Unique countries:\", unique_countries)"
   ]
  },
  {
   "cell_type": "markdown",
   "id": "f731d8d6",
   "metadata": {},
   "source": [
    "We can see that Cuba and Korea are missing from the dataset, so we'll have to add those in later"
   ]
  },
  {
   "cell_type": "markdown",
   "id": "226a24f8",
   "metadata": {},
   "source": [
    "### Looking at our filtered dataset"
   ]
  },
  {
   "cell_type": "markdown",
   "id": "2a5abdc7",
   "metadata": {},
   "source": [
    "By looking at the .min() of the data we can see that the data starts from 1991"
   ]
  },
  {
   "cell_type": "code",
   "execution_count": 14,
   "id": "f6e11b04",
   "metadata": {},
   "outputs": [
    {
     "data": {
      "text/plain": [
       "1991"
      ]
     },
     "execution_count": 14,
     "metadata": {},
     "output_type": "execute_result"
    }
   ],
   "source": [
    "filtered_df['Year'].min()"
   ]
  },
  {
   "cell_type": "markdown",
   "id": "4e6952be",
   "metadata": {},
   "source": [
    "Since we are only looking at data from 2000 - 2021, we'll need to get rid of any rows from 1997 to 1999"
   ]
  },
  {
   "cell_type": "code",
   "execution_count": 15,
   "id": "d1c2953c",
   "metadata": {},
   "outputs": [
    {
     "data": {
      "text/html": [
       "<div>\n",
       "<style scoped>\n",
       "    .dataframe tbody tr th:only-of-type {\n",
       "        vertical-align: middle;\n",
       "    }\n",
       "\n",
       "    .dataframe tbody tr th {\n",
       "        vertical-align: top;\n",
       "    }\n",
       "\n",
       "    .dataframe thead th {\n",
       "        text-align: right;\n",
       "    }\n",
       "</style>\n",
       "<table border=\"1\" class=\"dataframe\">\n",
       "  <thead>\n",
       "    <tr style=\"text-align: right;\">\n",
       "      <th></th>\n",
       "      <th>Country</th>\n",
       "      <th>Code</th>\n",
       "      <th>Year</th>\n",
       "      <th>Gvt_Exp_on_Education</th>\n",
       "      <th>Country_Presence</th>\n",
       "    </tr>\n",
       "  </thead>\n",
       "  <tbody>\n",
       "    <tr>\n",
       "      <th>0</th>\n",
       "      <td>Afghanistan</td>\n",
       "      <td>AFG</td>\n",
       "      <td>2010</td>\n",
       "      <td>17.067560</td>\n",
       "      <td>True</td>\n",
       "    </tr>\n",
       "    <tr>\n",
       "      <th>1</th>\n",
       "      <td>Afghanistan</td>\n",
       "      <td>AFG</td>\n",
       "      <td>2011</td>\n",
       "      <td>16.048429</td>\n",
       "      <td>True</td>\n",
       "    </tr>\n",
       "    <tr>\n",
       "      <th>2</th>\n",
       "      <td>Afghanistan</td>\n",
       "      <td>AFG</td>\n",
       "      <td>2013</td>\n",
       "      <td>14.102800</td>\n",
       "      <td>True</td>\n",
       "    </tr>\n",
       "    <tr>\n",
       "      <th>3</th>\n",
       "      <td>Afghanistan</td>\n",
       "      <td>AFG</td>\n",
       "      <td>2014</td>\n",
       "      <td>14.465930</td>\n",
       "      <td>True</td>\n",
       "    </tr>\n",
       "    <tr>\n",
       "      <th>4</th>\n",
       "      <td>Afghanistan</td>\n",
       "      <td>AFG</td>\n",
       "      <td>2015</td>\n",
       "      <td>12.509000</td>\n",
       "      <td>True</td>\n",
       "    </tr>\n",
       "    <tr>\n",
       "      <th>...</th>\n",
       "      <td>...</td>\n",
       "      <td>...</td>\n",
       "      <td>...</td>\n",
       "      <td>...</td>\n",
       "      <td>...</td>\n",
       "    </tr>\n",
       "    <tr>\n",
       "      <th>136</th>\n",
       "      <td>Niger</td>\n",
       "      <td>NER</td>\n",
       "      <td>2017</td>\n",
       "      <td>13.215160</td>\n",
       "      <td>True</td>\n",
       "    </tr>\n",
       "    <tr>\n",
       "      <th>137</th>\n",
       "      <td>Niger</td>\n",
       "      <td>NER</td>\n",
       "      <td>2018</td>\n",
       "      <td>16.339970</td>\n",
       "      <td>True</td>\n",
       "    </tr>\n",
       "    <tr>\n",
       "      <th>138</th>\n",
       "      <td>Niger</td>\n",
       "      <td>NER</td>\n",
       "      <td>2019</td>\n",
       "      <td>13.012810</td>\n",
       "      <td>True</td>\n",
       "    </tr>\n",
       "    <tr>\n",
       "      <th>139</th>\n",
       "      <td>Niger</td>\n",
       "      <td>NER</td>\n",
       "      <td>2020</td>\n",
       "      <td>13.332540</td>\n",
       "      <td>True</td>\n",
       "    </tr>\n",
       "    <tr>\n",
       "      <th>140</th>\n",
       "      <td>Niger</td>\n",
       "      <td>NER</td>\n",
       "      <td>2021</td>\n",
       "      <td>11.952620</td>\n",
       "      <td>True</td>\n",
       "    </tr>\n",
       "  </tbody>\n",
       "</table>\n",
       "<p>141 rows × 5 columns</p>\n",
       "</div>"
      ],
      "text/plain": [
       "         Country Code  Year  Gvt_Exp_on_Education  Country_Presence\n",
       "0    Afghanistan  AFG  2010             17.067560              True\n",
       "1    Afghanistan  AFG  2011             16.048429              True\n",
       "2    Afghanistan  AFG  2013             14.102800              True\n",
       "3    Afghanistan  AFG  2014             14.465930              True\n",
       "4    Afghanistan  AFG  2015             12.509000              True\n",
       "..           ...  ...   ...                   ...               ...\n",
       "136        Niger  NER  2017             13.215160              True\n",
       "137        Niger  NER  2018             16.339970              True\n",
       "138        Niger  NER  2019             13.012810              True\n",
       "139        Niger  NER  2020             13.332540              True\n",
       "140        Niger  NER  2021             11.952620              True\n",
       "\n",
       "[141 rows x 5 columns]"
      ]
     },
     "execution_count": 15,
     "metadata": {},
     "output_type": "execute_result"
    }
   ],
   "source": [
    "filtered_df = filtered_df[filtered_df['Year'] > 1999]\n",
    "filtered_df = filtered_df.reset_index(drop=True)\n",
    "filtered_df"
   ]
  },
  {
   "cell_type": "markdown",
   "id": "7b0978e7",
   "metadata": {},
   "source": [
    "Let's check to see what year the dataset now starts from"
   ]
  },
  {
   "cell_type": "code",
   "execution_count": 16,
   "id": "ff2ca751",
   "metadata": {},
   "outputs": [
    {
     "data": {
      "text/plain": [
       "2000"
      ]
     },
     "execution_count": 16,
     "metadata": {},
     "output_type": "execute_result"
    }
   ],
   "source": [
    "filtered_df['Year'].min()"
   ]
  },
  {
   "cell_type": "markdown",
   "id": "ea198f8c",
   "metadata": {},
   "source": [
    "Not all of the countries in our chosen 10 have the same year range, so we'll have to see what the time span is for each country "
   ]
  },
  {
   "cell_type": "code",
   "execution_count": 19,
   "id": "a54beb41",
   "metadata": {},
   "outputs": [
    {
     "data": {
      "text/plain": [
       "Country\n",
       "Afghanistan    11\n",
       "Chad           16\n",
       "Estonia        18\n",
       "Guinea         20\n",
       "Latvia         18\n",
       "Lithuania      18\n",
       "Mali           20\n",
       "Niger          20\n",
       "Name: Year, dtype: int64"
      ]
     },
     "execution_count": 19,
     "metadata": {},
     "output_type": "execute_result"
    }
   ],
   "source": [
    "country_count = filtered_df.groupby('Country')['Year'].count()\n",
    "country_count"
   ]
  },
  {
   "cell_type": "markdown",
   "id": "f66c2408",
   "metadata": {},
   "source": [
    "The highest amount of years is 20 and the lowest is 11, this is not too much of a range, so we can proceed"
   ]
  },
  {
   "cell_type": "markdown",
   "id": "9f9a9d78",
   "metadata": {},
   "source": [
    "### Finding the mean of each country "
   ]
  },
  {
   "cell_type": "code",
   "execution_count": 21,
   "id": "628e203d",
   "metadata": {},
   "outputs": [
    {
     "data": {
      "text/plain": [
       "Country\n",
       "Afghanistan    13.044702\n",
       "Chad           11.933025\n",
       "Estonia        13.668718\n",
       "Guinea         12.861944\n",
       "Latvia         14.311544\n",
       "Lithuania      13.705299\n",
       "Mali           16.659471\n",
       "Niger          16.770930\n",
       "Name: Gvt_Exp_on_Education, dtype: float64"
      ]
     },
     "execution_count": 21,
     "metadata": {},
     "output_type": "execute_result"
    }
   ],
   "source": [
    "# we are grouping our data by year and then calculate mean Gross Earnings for each year. \n",
    "countries_mean = filtered_df.groupby('Country')['Gvt_Exp_on_Education'].mean()\n",
    "countries_mean"
   ]
  },
  {
   "cell_type": "code",
   "execution_count": null,
   "id": "947e4de6",
   "metadata": {},
   "outputs": [],
   "source": []
  },
  {
   "cell_type": "code",
   "execution_count": null,
   "id": "9220de1a",
   "metadata": {},
   "outputs": [],
   "source": []
  }
 ],
 "metadata": {
  "kernelspec": {
   "display_name": "Python 3 (ipykernel)",
   "language": "python",
   "name": "python3"
  },
  "language_info": {
   "codemirror_mode": {
    "name": "ipython",
    "version": 3
   },
   "file_extension": ".py",
   "mimetype": "text/x-python",
   "name": "python",
   "nbconvert_exporter": "python",
   "pygments_lexer": "ipython3",
   "version": "3.11.2"
  }
 },
 "nbformat": 4,
 "nbformat_minor": 5
}
